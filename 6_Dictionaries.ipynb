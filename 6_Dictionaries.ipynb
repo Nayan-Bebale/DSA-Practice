{
  "nbformat": 4,
  "nbformat_minor": 0,
  "metadata": {
    "colab": {
      "provenance": [],
      "authorship_tag": "ABX9TyMiR2Z/eD/96e2HUOjSClYl",
      "include_colab_link": true
    },
    "kernelspec": {
      "name": "python3",
      "display_name": "Python 3"
    },
    "language_info": {
      "name": "python"
    }
  },
  "cells": [
    {
      "cell_type": "markdown",
      "metadata": {
        "id": "view-in-github",
        "colab_type": "text"
      },
      "source": [
        "<a href=\"https://colab.research.google.com/github/Nayan-Bebale/DSA-Practice/blob/main/6_Dictionaries.ipynb\" target=\"_parent\"><img src=\"https://colab.research.google.com/assets/colab-badge.svg\" alt=\"Open In Colab\"/></a>"
      ]
    },
    {
      "cell_type": "markdown",
      "source": [
        "# Dictionaries\n",
        "\n",
        "A dictionary is a collection which is unordered, changeable and indexed.\n",
        "\n",
        "**Miller**: A person who owns or works in a corn mill\n",
        "\n",
        "myDict = {\n",
        "  \"Miller\": \"a person who owns or works in a corn mill\",<br>\n",
        "  \"Programmer\": \"A person who written computer programs\"\n",
        "}\n",
        "\n",
        "\"Miller\" --> **Key**<br>\n",
        "\"a person who owns or works in a corn mill\" --> **Value**\n"
      ],
      "metadata": {
        "id": "HmGjFTdAfWXl"
      }
    },
    {
      "cell_type": "markdown",
      "source": [
        "### how to create dictionary\n",
        "\n",
        "1. **Empty dictionary**<br>\n",
        "    *   by dict() function\n",
        "    *   myDict = dict() or\n",
        "      *  secondDict = {}\n",
        "2. **Sample dictionary**<br>\n",
        "\n",
        "    *   EngToSp\n",
        "      *   engToSp = {\"one\":\"uno\",\n",
        "      \"two\":\"dos\", \"three\":\"tres\"}\n",
        "\n"
      ],
      "metadata": {
        "id": "QlR8zKJeMCyu"
      }
    },
    {
      "cell_type": "code",
      "execution_count": null,
      "metadata": {
        "id": "76bOlFQsdGZH",
        "colab": {
          "base_uri": "https://localhost:8080/"
        },
        "outputId": "371a9d7d-4e35-40ab-99b2-1c9065e3c4df"
      },
      "outputs": [
        {
          "output_type": "stream",
          "name": "stdout",
          "text": [
            "{'one': 'uno', 'two': 'dos', 'three': 'tres'}\n",
            "tres\n"
          ]
        }
      ],
      "source": [
        "engToSp = {\"one\":\"uno\", \"two\":\"dos\", \"three\":\"tres\"}\n",
        "print(engToSp)\n",
        "# Key to access the dictonay\n",
        "print(engToSp['three'])\n",
        "# Time complexity"
      ]
    },
    {
      "cell_type": "markdown",
      "source": [
        "### Dictionary in Memory\n",
        "\n",
        "A hash table is a way of doing **key-value-lookups**. You store the values in an array. and then use a **hash function** to find the index of the array cell that corresponds to your key-value pair.\n",
        "\n",
        "<img src=\"https://cdn-media-1.freecodecamp.org/images/ZUvaqYuUfuop4ImFdmh8ETIYuIOzpdTKRA4l\"/>"
      ],
      "metadata": {
        "id": "loC7KHmVQSGm"
      }
    },
    {
      "cell_type": "markdown",
      "source": [
        "### Update / add an element to the dictionary\n"
      ],
      "metadata": {
        "id": "5UizsaYPZJLw"
      }
    },
    {
      "cell_type": "code",
      "source": [
        "# Update\n",
        "\n",
        "myDict = {\"name\": \"Nayan\", \"age\":20}\n",
        "myDict['age'] = 21\n",
        "\n",
        "print(myDict)\n",
        "\n",
        "# Time complexity: O(1)\n",
        "# Space complexity: O(1)\n",
        "\n",
        "### ###################################\n",
        "# Insert\n",
        "\n",
        "myDict['address'] = \"India\"\n",
        "print(myDict)\n",
        "\n",
        "# Time complexity : O(1)\n",
        "# Space complexity: amoritized O(1)"
      ],
      "metadata": {
        "colab": {
          "base_uri": "https://localhost:8080/"
        },
        "id": "mQuWIWyGOqaM",
        "outputId": "2cf84da0-1ce9-4849-c104-6b4cae0360d8"
      },
      "execution_count": null,
      "outputs": [
        {
          "output_type": "stream",
          "name": "stdout",
          "text": [
            "{'name': 'Nayan', 'age': 21}\n",
            "{'name': 'Nayan', 'age': 21, 'address': 'India'}\n"
          ]
        }
      ]
    },
    {
      "cell_type": "markdown",
      "source": [
        "### Traversing through a dictionary"
      ],
      "metadata": {
        "id": "XA22mXYkaVAV"
      }
    },
    {
      "cell_type": "code",
      "source": [
        "def traversecDict(mydict):\n",
        "  for key in mydict:\n",
        "    print(key, mydict[key])\n",
        "\n",
        "traversecDict(myDict)\n",
        "\n",
        "# Time complexity: O(n)\n",
        "# Space complexity: O(1)\n",
        "\n",
        "print(\"######################\")\n",
        "\n",
        "for keys, values in myDict.items():\n",
        "  print(keys, values)"
      ],
      "metadata": {
        "colab": {
          "base_uri": "https://localhost:8080/"
        },
        "id": "VWLZug-EZgjq",
        "outputId": "f6cda5a9-16c0-44bf-adfe-ed3f0400db5e"
      },
      "execution_count": null,
      "outputs": [
        {
          "output_type": "stream",
          "name": "stdout",
          "text": [
            "name Nayan\n",
            "age 21\n",
            "address India\n",
            "######################\n",
            "name Nayan\n",
            "age 21\n",
            "address India\n"
          ]
        }
      ]
    },
    {
      "cell_type": "markdown",
      "source": [
        "### Searching through a dictionary"
      ],
      "metadata": {
        "id": "fCQofwQvb9Ca"
      }
    },
    {
      "cell_type": "code",
      "source": [
        "def searchDict(mydict, value):\n",
        "  for key in mydict:\n",
        "    if mydict[key] == value:\n",
        "      return key, value\n",
        "  return f\"The '{value}' not exist.\"\n",
        "\n",
        "print(searchDict(myDict, 21))\n",
        "\n",
        "# Time complexity: O(n)\n",
        "# Space complexity: O(1)"
      ],
      "metadata": {
        "colab": {
          "base_uri": "https://localhost:8080/"
        },
        "id": "R_92s463aoxh",
        "outputId": "7d9b6b16-669e-485f-d5bf-eb8a1368164a"
      },
      "execution_count": null,
      "outputs": [
        {
          "output_type": "stream",
          "name": "stdout",
          "text": [
            "('age', 21)\n"
          ]
        }
      ]
    },
    {
      "cell_type": "markdown",
      "source": [
        "### Delete an element form a dictionay"
      ],
      "metadata": {
        "id": "byFIhJBBdQoD"
      }
    },
    {
      "cell_type": "code",
      "source": [
        "myDict['education'] = 'B.Tech.'\n",
        "print(myDict)\n",
        "# pop functions\n",
        "myDict.pop('name')\n",
        "print(myDict)"
      ],
      "metadata": {
        "colab": {
          "base_uri": "https://localhost:8080/"
        },
        "id": "otagsO5qcz8a",
        "outputId": "27a2813c-5937-433d-efd8-e4d21a8773aa"
      },
      "execution_count": null,
      "outputs": [
        {
          "output_type": "stream",
          "name": "stdout",
          "text": [
            "{'name': 'Nayan', 'age': 21, 'address': 'India', 'education': 'B.Tech.'}\n",
            "{'age': 21, 'address': 'India', 'education': 'B.Tech.'}\n"
          ]
        }
      ]
    },
    {
      "cell_type": "code",
      "source": [
        "# popitem() ---> delete element randomly\n",
        "myDict.popitem()\n",
        "print(myDict)"
      ],
      "metadata": {
        "colab": {
          "base_uri": "https://localhost:8080/"
        },
        "id": "lQZSoByTdjFa",
        "outputId": "aa6c90fe-2ef0-40a1-cb5e-cb723535bab8"
      },
      "execution_count": null,
      "outputs": [
        {
          "output_type": "stream",
          "name": "stdout",
          "text": [
            "{'age': 21, 'address': 'India'}\n"
          ]
        }
      ]
    },
    {
      "cell_type": "code",
      "source": [
        "# Delete whole dictionary by clear() function\n",
        "myDict.clear()\n",
        "print(myDict)"
      ],
      "metadata": {
        "colab": {
          "base_uri": "https://localhost:8080/"
        },
        "id": "2d4I9GY6eONG",
        "outputId": "962466cb-558e-42df-fcc1-9a216ea62271"
      },
      "execution_count": null,
      "outputs": [
        {
          "output_type": "stream",
          "name": "stdout",
          "text": [
            "{}\n"
          ]
        }
      ]
    },
    {
      "cell_type": "code",
      "source": [
        "# by del\n",
        "newDict = {'name': 'Nayan', 'age': 21, 'address': 'India', 'education': 'B.Tech.'}\n",
        "del newDict['age']\n",
        "print(newDict)\n",
        "\n",
        "# Time complexity: O(1)\n",
        "# Time complexity: Amortized O(n)\n",
        "\n",
        "# Space complexity: O(1)"
      ],
      "metadata": {
        "id": "FnK0ElgPer6r"
      },
      "execution_count": null,
      "outputs": []
    },
    {
      "cell_type": "markdown",
      "source": [
        "### Dictionay methods\n",
        "\n",
        "1. clear()\n",
        "  * **syntax**: dictionary.clear()\n",
        "2. copy()\n",
        "  *   **syntax**:dictionay.copy()\n",
        "    * dict = myDict.copy()\n",
        "\n",
        "3. fromkeys()\n",
        "  *   **syntex**: dictionay.fromkeys(sequence[], value)\n",
        "    *   newDict = {}.fromkeys([1,2,3], 0)\n",
        "      * {1: 0, 2: 0, 3: 0}\n",
        "\n",
        "4. get()\n",
        "\n",
        "  *   **syntax**: dictionay.get(key, value)\n",
        "  \n",
        "5. items()\n",
        "  *   syntax: dictionary.items()\n",
        "  *   print(myDict)\n",
        "    *   dict_items([('name', 'Nayan'), ('address', 'India'), ('education', 'B.Tech.')])\n",
        "6. keys()\n",
        "  *  **syntax**: dictionary.keys()\n",
        "    *  dict_keys(['name', 'address', 'education'])\n",
        "\n",
        "7. popitem()\n",
        "  *  **syntax**: dictionary.popitem()\n",
        "\n",
        "8. setdefault()\n",
        "  *  **syntax**: dictionary.setdefault(key.default_value)\n",
        "\n",
        "9. pop()\n",
        "  *  **syntax**: dictionary.pop()\n",
        "\n",
        "10. values()\n",
        "  *  **syntax**: dictionary.values()\n",
        "\n",
        "11. update()\n",
        "  *  **syntax**: dictionary.update(onther_dictionay)\n",
        "\n",
        "12. all()\n",
        "  *  **syntax**: all(dictionay)\n",
        "    1.  myDict = {1: True, 2: True}\n",
        "        *  print(all(myDict))\n",
        "        *   True\n",
        "    2.  myDict = {0: False, 1: False}\n",
        "        *  print(all(myDict))\n",
        "        *   False\n",
        "    3.  myDict = {0: true, 1: False, 2: False}\n",
        "        *  print(all(myDict))\n",
        "        *   False\n",
        "    4.  myDict = {0: true, 1: true, 2: False}\n",
        "        *  print(all(myDict))\n",
        "        *   False\n",
        "    5.  myDict = {}\n",
        "        *  print(all(myDict))\n",
        "        *   True\n",
        "  <br>\n",
        "\n",
        "\n",
        "    |             Cases                     | Return Value |\n",
        "    |:-------------------------------------:|:------------:|\n",
        "    |All values are true                    |   True       |\n",
        "    |All values are false                   |   False      |\n",
        "    |One value is true(others are false)    |   False      |\n",
        "    |One value is false (others are true)   |   False      |\n",
        "    | Empty Iterable                        |   True       |\n",
        "\n",
        "13. any()\n",
        "  *  **syntax**: any(dictionay)\n",
        "    1.  myDict = {1: True, 2: True}\n",
        "        *  print(all(myDict))\n",
        "        *   True\n",
        "    2.  myDict = {0: False, 1: False}\n",
        "        *  print(any(myDict))\n",
        "        *   False\n",
        "    3.  myDict = {0: true, 1: False, 2: False}\n",
        "        *  print(any(myDict))\n",
        "        *   True\n",
        "    4.  myDict = {0: true, 1: true, 2: False}\n",
        "        *  print(any(myDict))\n",
        "        *   True\n",
        "    5.  myDict = {}\n",
        "        *  print(all(myDict))\n",
        "        *   True\n",
        "  <br>\n",
        "\n",
        "\n",
        "    |             Cases                     | Return Value |\n",
        "    |:-------------------------------------:|:------------:|\n",
        "    |All values are true                    |   True       |\n",
        "    |All values are false                   |   False      |\n",
        "    |One value is true(others are false)    |   True       |\n",
        "    |One value is false (others are true)   |   True       |\n",
        "    | Empty Iterable                        |   False       |\n",
        "14. len()\n",
        "  *  **syntax**: len(dictionay)\n",
        "15. sorted()\n",
        "  * **syntax**: sorted(iterable, reverse, key)\n",
        "  * myDict = {'e':1, 'a':2, 'u':3, 'o':4, 'i':5}\n",
        "  1.  print(sorted(myDict))  \n",
        "        *   ['a', 'e', 'i', 'o', 'u']\n",
        "  2. print(sorted(myDict, reverse=True))\n",
        "      * ['u', 'o', 'i', 'e', 'a']\n",
        "\n",
        "  3. myDict = {'ejgyf':1, 'adre':2, 'uju':3, 'ohkgjg':4, 'ii':5}\n",
        "      * print(sorted(myDict, key=len))\n",
        "      * ['ii', 'uju', 'adre', 'ejgyf', 'ohkgjg']\n",
        "\n"
      ],
      "metadata": {
        "id": "CHL5tiDeghKk"
      }
    },
    {
      "cell_type": "code",
      "source": [
        "myDict = {'ejgyf':1, 'adre':2, 'uju':3, 'ohkgjg':4, 'ii':5}\n",
        "print(sorted(myDict, key=len))"
      ],
      "metadata": {
        "colab": {
          "base_uri": "https://localhost:8080/"
        },
        "id": "tgALkwoR-a-f",
        "outputId": "e3572f55-e68c-4e25-ee3d-af3b4717c794"
      },
      "execution_count": null,
      "outputs": [
        {
          "output_type": "stream",
          "name": "stdout",
          "text": [
            "['ii', 'uju', 'adre', 'ejgyf', 'ohkgjg']\n"
          ]
        }
      ]
    },
    {
      "cell_type": "code",
      "source": [
        "print(newDict.keys())"
      ],
      "metadata": {
        "colab": {
          "base_uri": "https://localhost:8080/"
        },
        "id": "YVm92y5cipm6",
        "outputId": "658bc077-ed1e-4435-c7b8-265ef21a5291"
      },
      "execution_count": null,
      "outputs": [
        {
          "output_type": "stream",
          "name": "stdout",
          "text": [
            "dict_keys(['name', 'address', 'education'])\n"
          ]
        }
      ]
    },
    {
      "cell_type": "markdown",
      "source": [
        "### Dictionay Oprations\n",
        "\n",
        "1. **in** Operator:\n"
      ],
      "metadata": {
        "id": "cSFSsjzM53Mh"
      }
    },
    {
      "cell_type": "code",
      "source": [
        "print('name' in newDict)\n",
        "print('Nayan' in newDict.values())\n",
        "\n",
        "# Time Complexity: O(1)"
      ],
      "metadata": {
        "id": "UP278nA3kx-G",
        "colab": {
          "base_uri": "https://localhost:8080/"
        },
        "outputId": "d323f52b-6849-47b5-9984-f5d10f7b6411"
      },
      "execution_count": null,
      "outputs": [
        {
          "output_type": "stream",
          "name": "stdout",
          "text": [
            "True\n",
            "True\n"
          ]
        }
      ]
    },
    {
      "cell_type": "markdown",
      "source": [
        "2. **for** Operations:"
      ],
      "metadata": {
        "id": "kCysgxZR7OnM"
      }
    },
    {
      "cell_type": "code",
      "source": [
        "for key in newDict:\n",
        "  print(key, newDict[key])\n",
        "\n",
        "# Time Complexity: O(n)"
      ],
      "metadata": {
        "colab": {
          "base_uri": "https://localhost:8080/"
        },
        "id": "KJEx2wpw7Myo",
        "outputId": "c0edf432-dc6c-45c6-d491-b1ff428058b5"
      },
      "execution_count": null,
      "outputs": [
        {
          "output_type": "stream",
          "name": "stdout",
          "text": [
            "name Nayan\n",
            "age 21\n",
            "address India\n",
            "education B.Tech.\n"
          ]
        }
      ]
    },
    {
      "cell_type": "markdown",
      "source": [
        "### Dictionary vs List\n",
        "\n",
        "| Dictionary              | List                     |\n",
        "|:-----------------------:|:------------------------:|\n",
        "| Unordered               |  Ordered                 |\n",
        "| Access via keys         |  Access via index        |\n",
        "|Collection of key value pair|Collection of element  |\n",
        "|Preferred when you have unique key values |Preferred when you ordered data |\n",
        "| No duplicate members | Allow duplicate members |"
      ],
      "metadata": {
        "id": "91gr_THuF42a"
      }
    },
    {
      "cell_type": "markdown",
      "source": [
        "### Time and Space Complexity in Python Dictionary\n",
        "\n",
        "|Operations                     |\tTime Complexity|\tSpace Complexity        |\n",
        "|:-----------------------------:|:--------------:|:----------------:|\n",
        "|Creating a Dictionary\t      |O(len(dict))            |\t    O(n)        |                      \n",
        "|Inserting a value in a Dictionary |O(1)/ O(n)       |\tO(1)              |                      \n",
        "|Traversining a given Dictionary\t   |O(n)             |\tO(1)              |                      \n",
        "|Accessing a given cell\t       |O(1)             |\tO(1)|                    \n",
        "|Searching a given value\t     |O(n)             |\tO(1)              |                      \n",
        "|Deleting a given value\t       |O(1)       |\tO(1)              |        "
      ],
      "metadata": {
        "id": "PciJHTspIFiG"
      }
    },
    {
      "cell_type": "markdown",
      "source": [
        "### Dictionary Interview Questions\n",
        "\n",
        "#### Q-1. What will be the output of the following code snippet?\n",
        "```\n",
        "a = {(1,2):1,(2,3):2}\n",
        "print(a[1,2])\n",
        "```\n",
        "<br>A. Key Error\n",
        "<br>B.  1\n",
        "<br>C. {(2,3):2}\n",
        "<br>D. {(1,2):1}\n",
        "<br>**Answer:** 1\n",
        "\n",
        "\n",
        "#### Q-2. What will be the output of the following code snippet?\n",
        "```\n",
        "a = {'a':1,'b':2,'c':3}\n",
        "print (a['a','b'])\n",
        "```\n",
        "<br>A. Key Error\n",
        "<br>B. [1,2]\n",
        "<br>C. {‘a’:1,’b’:2}\n",
        "<br>D. (1,2)\n",
        "<br> **Answer:** Key Error\n",
        "\n",
        "#### Q-3. What will be the output of the following code block?\n",
        "```\n",
        "fruit = {}\n",
        "\n",
        "def addone(index):\n",
        "    if index in fruit:\n",
        "        fruit[index] += 1\n",
        "    else:\n",
        "        fruit[index] = 1\n",
        "        \n",
        "addone('Apple')\n",
        "addone('Banana')\n",
        "addone('apple')\n",
        "print (len(fruit))\n",
        "```\n",
        "<br>A. 1\n",
        "<br>B. 2\n",
        "<br>C. 3\n",
        "<br>D. 4\n",
        "\n",
        "**Answer:** 3\n",
        "\n",
        "#### Q-4. What will be the output of the following code block?\n",
        "```\n",
        "arr = {}\n",
        "arr[1] = 1\n",
        "arr['1'] = 2\n",
        "arr[1] += 1\n",
        "\n",
        "sum = 0\n",
        "for k in arr:\n",
        "    sum += arr[k]\n",
        "\n",
        "print(sum)\n",
        "```\n",
        "<br>A. 1\n",
        "<br>B. 2\n",
        "<br>C. 3\n",
        "<br>D. 4\n",
        "\n",
        "**Answer:** 4\n",
        "\n",
        "#### Q-5. What will be the output of the following code snippet?\n",
        "```\n",
        "my_dict = {}\n",
        "my_dict[1] = 1\n",
        "my_dict['1'] = 2\n",
        "my_dict[1.0] = 4\n",
        "\n",
        "sum = 0\n",
        "for k in my_dict:\n",
        "    sum += my_dict[k]\n",
        "    \n",
        "print (sum)\n",
        "```\n",
        "<br>A. 7\n",
        "<br>B. Syntax error\n",
        "<br>C. 3\n",
        "<br>D. 6\n",
        "**Answer:** 6\n",
        "\n",
        "\n",
        "#### Q-6. What will be the output of the following code snippet?\n",
        "```\n",
        "my_dict = {}\n",
        "my_dict[(1,2,4)] = 8\n",
        "my_dict[(4,2,1)] = 10\n",
        "my_dict[(1,2)] = 12\n",
        "\n",
        "sum = 0\n",
        "for k in my_dict:\n",
        "    sum += my_dict[k]\n",
        "\n",
        "print (sum)\n",
        "print(my_dict)\n",
        "```\n",
        "<br>A. Syntax error\n",
        "<br>B. 30   \n",
        "<br>    {(1, 2): 12, (4, 2, 1): 10, (1, 2, 4): 8}\n",
        "<br>C. 47\n",
        "<br>    {(1, 2): 12, (4, 2, 1): 10, (1, 2, 4): 8}\n",
        "<br>D. 30\n",
        "<br>    {[1, 2]: 12, [4, 2, 1]: 10, [1, 2, 4]: 8}\n",
        "\n",
        "**Answer:** B\n",
        "* 30\n",
        "* {(1, 2, 4): 8, (4, 2, 1): 10, (1, 2): 12}\n",
        "\n",
        "#### Q-7. What will be the output of the following code snippet?\n",
        "```\n",
        "box = {}\n",
        "jars = {}\n",
        "crates = {}\n",
        "box['biscuit'] = 1\n",
        "box['cake'] = 3\n",
        "jars['jam'] = 4\n",
        "crates['box'] = box\n",
        "crates['jars'] = jars\n",
        "\n",
        "print(len(crates[box]))\n",
        "```\n",
        "<br>A. 1\n",
        "<br>B. 3\n",
        "<br>C. 4\n",
        "<br>D. Type Error\n",
        "\n",
        "**Answer:** Type Error\n",
        "\n",
        "#### Q-8. What will be the output of the following code block?\n",
        "```\n",
        "dict = {'c': 97, 'a': 96, 'b': 98}\n",
        "\n",
        "for _ in sorted(dict):\n",
        "    print (dict[_])\n",
        "```\n",
        "<br>A. 96 98 97\n",
        "<br>B. 96 97 98\n",
        "<br>C. 98 97 96\n",
        "<br>D. NameError\n",
        "<br>**Answer:** 96 98 97\n",
        "\n",
        "#### Q-9. What will be the output of the following code snippet?\n",
        "```\n",
        "rec = {\"Name\" : \"Python\", \"Age\":\"20\"}\n",
        "r = rec.copy()\n",
        "print(id(r) == id(rec))\n",
        "```\n",
        "<br>A. True\n",
        "<br>B. False\n",
        "<br>C. 0\n",
        "<br>D. 1\n",
        "<br>\n",
        "**Answer:** False\n",
        "\n",
        "#### Q-10. What will be the output of the following code snippet?\n",
        "```\n",
        "rec = {\"Name\" : \"Python\", \"Age\":\"20\", \"Addr\" : \"NJ\", \"Country\" : \"USA\"}\n",
        "id1 = id(rec)\n",
        "del rec\n",
        "rec = {\"Name\" : \"Python\", \"Age\":\"20\", \"Addr\" : \"NJ\", \"Country\" : \"USA\"}\n",
        "id2 = id(rec)\n",
        "print(id1 == id2)\n",
        "```\n",
        "<br>A. True\n",
        "<br>B. False\n",
        "<br>C. 1\n",
        "<br>D. Exception\n",
        "\n",
        "**Answer:** False\n"
      ],
      "metadata": {
        "id": "NNfl1ijXJ-gl"
      }
    },
    {
      "cell_type": "code",
      "source": [
        "rec = {\"Name\" : \"Python\", \"Age\":\"20\", \"Addr\" : \"NJ\", \"Country\" : \"USA\"}\n",
        "id1 = id(rec)\n",
        "del rec\n",
        "rec = {\"Name\" : \"Python\", \"Age\":\"20\", \"Addr\" : \"NJ\", \"Country\" : \"USA\"}\n",
        "id2 = id(rec)\n",
        "print(id1 == id2)"
      ],
      "metadata": {
        "colab": {
          "base_uri": "https://localhost:8080/"
        },
        "id": "BNNRnRvsaf6U",
        "outputId": "a4ed516b-a249-4fd3-dddc-545905fbef67"
      },
      "execution_count": 15,
      "outputs": [
        {
          "output_type": "stream",
          "name": "stdout",
          "text": [
            "False\n"
          ]
        }
      ]
    },
    {
      "cell_type": "code",
      "source": [
        "rec = {\"Name\" : \"Python\", \"Age\":\"20\"}\n",
        "r = rec.copy()\n",
        "print(id(r) == id(rec))"
      ],
      "metadata": {
        "colab": {
          "base_uri": "https://localhost:8080/"
        },
        "id": "rVOvfdypZ0a0",
        "outputId": "38fcf9e0-f35a-47ae-f31c-5fa9193a001e"
      },
      "execution_count": 14,
      "outputs": [
        {
          "output_type": "stream",
          "name": "stdout",
          "text": [
            "False\n"
          ]
        }
      ]
    },
    {
      "cell_type": "code",
      "source": [
        "dict = {'c': 97, 'a': 96, 'b': 98}\n",
        "\n",
        "for _ in sorted(dict):\n",
        "    print (dict[_])"
      ],
      "metadata": {
        "colab": {
          "base_uri": "https://localhost:8080/"
        },
        "id": "1S9in_EPZSZ1",
        "outputId": "0c0111f6-db69-4da4-c521-47bae07414e9"
      },
      "execution_count": 13,
      "outputs": [
        {
          "output_type": "stream",
          "name": "stdout",
          "text": [
            "96\n",
            "98\n",
            "97\n"
          ]
        }
      ]
    },
    {
      "cell_type": "code",
      "source": [
        "box = {}\n",
        "jars = {}\n",
        "crates = {}\n",
        "box['biscuit'] = 1\n",
        "box['cake'] = 3\n",
        "jars['jam'] = 4\n",
        "crates['box'] = box\n",
        "crates['jars'] = jars\n",
        "\n",
        "print(len(crates[box]))"
      ],
      "metadata": {
        "colab": {
          "base_uri": "https://localhost:8080/",
          "height": 176
        },
        "id": "i1noxE-VYiTF",
        "outputId": "708c58fb-4aac-48ce-f4c9-5969f827f2c0"
      },
      "execution_count": 12,
      "outputs": [
        {
          "output_type": "error",
          "ename": "TypeError",
          "evalue": "unhashable type: 'dict'",
          "traceback": [
            "\u001b[0;31m---------------------------------------------------------------------------\u001b[0m",
            "\u001b[0;31mTypeError\u001b[0m                                 Traceback (most recent call last)",
            "\u001b[0;32m<ipython-input-12-96dca2ea043f>\u001b[0m in \u001b[0;36m<cell line: 10>\u001b[0;34m()\u001b[0m\n\u001b[1;32m      8\u001b[0m \u001b[0mcrates\u001b[0m\u001b[0;34m[\u001b[0m\u001b[0;34m'jars'\u001b[0m\u001b[0;34m]\u001b[0m \u001b[0;34m=\u001b[0m \u001b[0mjars\u001b[0m\u001b[0;34m\u001b[0m\u001b[0;34m\u001b[0m\u001b[0m\n\u001b[1;32m      9\u001b[0m \u001b[0;34m\u001b[0m\u001b[0m\n\u001b[0;32m---> 10\u001b[0;31m \u001b[0mprint\u001b[0m\u001b[0;34m(\u001b[0m\u001b[0mlen\u001b[0m\u001b[0;34m(\u001b[0m\u001b[0mcrates\u001b[0m\u001b[0;34m[\u001b[0m\u001b[0mbox\u001b[0m\u001b[0;34m]\u001b[0m\u001b[0;34m)\u001b[0m\u001b[0;34m)\u001b[0m\u001b[0;34m\u001b[0m\u001b[0;34m\u001b[0m\u001b[0m\n\u001b[0m",
            "\u001b[0;31mTypeError\u001b[0m: unhashable type: 'dict'"
          ]
        }
      ]
    },
    {
      "cell_type": "code",
      "source": [
        "my_dict = {}\n",
        "my_dict[(1,2,4)] = 8\n",
        "my_dict[(4,2,1)] = 10\n",
        "my_dict[(1,2)] = 12\n",
        "\n",
        "sum = 0\n",
        "for k in my_dict:\n",
        "    sum += my_dict[k]\n",
        "\n",
        "print (sum)\n",
        "print(my_dict)"
      ],
      "metadata": {
        "colab": {
          "base_uri": "https://localhost:8080/"
        },
        "id": "egbysCrOVf8w",
        "outputId": "9b2e601b-7be4-4bdc-ca2d-8e1c06f4dcfd"
      },
      "execution_count": 11,
      "outputs": [
        {
          "output_type": "stream",
          "name": "stdout",
          "text": [
            "30\n",
            "{(1, 2, 4): 8, (4, 2, 1): 10, (1, 2): 12}\n"
          ]
        }
      ]
    },
    {
      "cell_type": "code",
      "source": [
        "my_dict = {}\n",
        "my_dict[1] = 1\n",
        "my_dict['1'] = 2\n",
        "my_dict[1.0] = 4\n",
        "print(my_dict)\n",
        "sum = 0\n",
        "for k in my_dict:\n",
        "    sum += my_dict[k]\n",
        "\n",
        "print (sum)"
      ],
      "metadata": {
        "colab": {
          "base_uri": "https://localhost:8080/"
        },
        "id": "GaPHLq3PUCQ2",
        "outputId": "76e54891-ebdb-466f-bfe2-091e73e9fb83"
      },
      "execution_count": 5,
      "outputs": [
        {
          "output_type": "stream",
          "name": "stdout",
          "text": [
            "{1: 4, '1': 2}\n",
            "6\n"
          ]
        }
      ]
    },
    {
      "cell_type": "code",
      "source": [
        "arr = {}\n",
        "arr[1] = 1\n",
        "arr['1'] = 2\n",
        "arr[1] += 1\n",
        "\n",
        "sum = 0\n",
        "for k in arr:\n",
        "    sum += arr[k]\n",
        "\n",
        "print(sum)"
      ],
      "metadata": {
        "colab": {
          "base_uri": "https://localhost:8080/"
        },
        "id": "_5Cdql9QSbvI",
        "outputId": "6e83a08e-506d-4237-a614-037ac6f6ab8f"
      },
      "execution_count": 3,
      "outputs": [
        {
          "output_type": "stream",
          "name": "stdout",
          "text": [
            "4\n"
          ]
        }
      ]
    },
    {
      "cell_type": "code",
      "source": [
        "a = {(1,2):1,(2,3):2}\n",
        "print(a[1,2])"
      ],
      "metadata": {
        "colab": {
          "base_uri": "https://localhost:8080/"
        },
        "id": "YBpdrCxC6ctz",
        "outputId": "c8e2339f-ffe0-4d65-b7a2-fc6b872bca74"
      },
      "execution_count": null,
      "outputs": [
        {
          "output_type": "stream",
          "name": "stdout",
          "text": [
            "1\n"
          ]
        }
      ]
    },
    {
      "cell_type": "code",
      "source": [
        "a = {'a':1,'b':2,'c':3}\n",
        "print (a['a','b'])"
      ],
      "metadata": {
        "colab": {
          "base_uri": "https://localhost:8080/",
          "height": 159
        },
        "id": "yN0fzoYPKsaI",
        "outputId": "23788832-ec64-4909-fbc7-190190570382"
      },
      "execution_count": null,
      "outputs": [
        {
          "output_type": "error",
          "ename": "KeyError",
          "evalue": "('a', 'b')",
          "traceback": [
            "\u001b[0;31m---------------------------------------------------------------------------\u001b[0m",
            "\u001b[0;31mKeyError\u001b[0m                                  Traceback (most recent call last)",
            "\u001b[0;32m<ipython-input-13-bdd3477d4bf5>\u001b[0m in \u001b[0;36m<cell line: 2>\u001b[0;34m()\u001b[0m\n\u001b[1;32m      1\u001b[0m \u001b[0ma\u001b[0m \u001b[0;34m=\u001b[0m \u001b[0;34m{\u001b[0m\u001b[0;34m'a'\u001b[0m\u001b[0;34m:\u001b[0m\u001b[0;36m1\u001b[0m\u001b[0;34m,\u001b[0m\u001b[0;34m'b'\u001b[0m\u001b[0;34m:\u001b[0m\u001b[0;36m2\u001b[0m\u001b[0;34m,\u001b[0m\u001b[0;34m'c'\u001b[0m\u001b[0;34m:\u001b[0m\u001b[0;36m3\u001b[0m\u001b[0;34m}\u001b[0m\u001b[0;34m\u001b[0m\u001b[0;34m\u001b[0m\u001b[0m\n\u001b[0;32m----> 2\u001b[0;31m \u001b[0mprint\u001b[0m \u001b[0;34m(\u001b[0m\u001b[0ma\u001b[0m\u001b[0;34m[\u001b[0m\u001b[0;34m'a'\u001b[0m\u001b[0;34m,\u001b[0m\u001b[0;34m'b'\u001b[0m\u001b[0;34m]\u001b[0m\u001b[0;34m)\u001b[0m\u001b[0;34m\u001b[0m\u001b[0;34m\u001b[0m\u001b[0m\n\u001b[0m",
            "\u001b[0;31mKeyError\u001b[0m: ('a', 'b')"
          ]
        }
      ]
    },
    {
      "cell_type": "code",
      "source": [
        "fruit = {}\n",
        "\n",
        "def addone(index):\n",
        "    if index in fruit:\n",
        "        fruit[index] += 1\n",
        "    else:\n",
        "        fruit[index] = 1\n",
        "\n",
        "addone('Apple')\n",
        "addone('Banana')\n",
        "addone('apple')\n",
        "print (len(fruit))"
      ],
      "metadata": {
        "colab": {
          "base_uri": "https://localhost:8080/"
        },
        "id": "1PL-rvihLKaU",
        "outputId": "40148c9a-0be5-4f76-ed42-4c6df1eff999"
      },
      "execution_count": null,
      "outputs": [
        {
          "output_type": "stream",
          "name": "stdout",
          "text": [
            "3\n"
          ]
        }
      ]
    },
    {
      "cell_type": "code",
      "source": [],
      "metadata": {
        "id": "9MD2V5YQMFQy"
      },
      "execution_count": null,
      "outputs": []
    }
  ]
}