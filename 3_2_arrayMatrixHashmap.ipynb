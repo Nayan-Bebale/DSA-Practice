{
  "nbformat": 4,
  "nbformat_minor": 0,
  "metadata": {
    "colab": {
      "provenance": [],
      "authorship_tag": "ABX9TyO8Ck1Iay0SBTfKgrc4Be1P",
      "include_colab_link": true
    },
    "kernelspec": {
      "name": "python3",
      "display_name": "Python 3"
    },
    "language_info": {
      "name": "python"
    }
  },
  "cells": [
    {
      "cell_type": "markdown",
      "metadata": {
        "id": "view-in-github",
        "colab_type": "text"
      },
      "source": [
        "<a href=\"https://colab.research.google.com/github/Nayan-Bebale/DSA-Practice/blob/main/3_2_arrayMatrixHashmap.ipynb\" target=\"_parent\"><img src=\"https://colab.research.google.com/assets/colab-badge.svg\" alt=\"Open In Colab\"/></a>"
      ]
    },
    {
      "cell_type": "markdown",
      "source": [
        "#Array, Matrix and hashing\n",
        "\n",
        "<a href=\"https://neetcode.io/roadmap\">NeetCode Roadmap</a>"
      ],
      "metadata": {
        "id": "G5pB9dJ3CjVY"
      }
    },
    {
      "cell_type": "code",
      "execution_count": null,
      "metadata": {
        "id": "s4Q9Oksj_Uwc"
      },
      "outputs": [],
      "source": [
        "import numpy as np"
      ]
    },
    {
      "cell_type": "code",
      "source": [
        "array1D = np.array([1, 2, 3, 4])\n",
        "print(array1D)\n",
        "print(array1D.ndim)"
      ],
      "metadata": {
        "colab": {
          "base_uri": "https://localhost:8080/"
        },
        "id": "aKCSPKN1Crb-",
        "outputId": "af11d9c3-acb6-42c8-c3b3-66dc947213cb"
      },
      "execution_count": null,
      "outputs": [
        {
          "output_type": "stream",
          "name": "stdout",
          "text": [
            "[1 2 3 4]\n",
            "1\n"
          ]
        }
      ]
    },
    {
      "cell_type": "code",
      "source": [
        "# Access the specific element\n",
        "n = 3\n",
        "print(array1D[2])"
      ],
      "metadata": {
        "colab": {
          "base_uri": "https://localhost:8080/"
        },
        "id": "pdHbjF9WEMwp",
        "outputId": "17cfb0ad-780e-4f49-adaa-4e6b8749416f"
      },
      "execution_count": null,
      "outputs": [
        {
          "output_type": "stream",
          "name": "stdout",
          "text": [
            "3\n"
          ]
        }
      ]
    },
    {
      "cell_type": "code",
      "source": [
        "array2D = np.array([\n",
        "    [1, 2, 3, 4],\n",
        "    [11, 12, 13, 14],\n",
        "    [21, 22, 23, 24],\n",
        "    [31, 32, 33, 34]\n",
        "])\n",
        "print(array2D.ndim)"
      ],
      "metadata": {
        "colab": {
          "base_uri": "https://localhost:8080/"
        },
        "id": "moPkBY75C7w8",
        "outputId": "fe04eb0e-ebe1-44f6-963b-229f4be49ff0"
      },
      "execution_count": null,
      "outputs": [
        {
          "output_type": "stream",
          "name": "stdout",
          "text": [
            "2\n"
          ]
        }
      ]
    },
    {
      "cell_type": "code",
      "source": [
        "# Access the specific element\n",
        "n = 23\n",
        "print(array2D[2][2])\n",
        "print(array2D.shape)"
      ],
      "metadata": {
        "colab": {
          "base_uri": "https://localhost:8080/"
        },
        "id": "ZGEgIGa0EaRi",
        "outputId": "cbee43d6-9abb-4ea5-a918-360a36392287"
      },
      "execution_count": null,
      "outputs": [
        {
          "output_type": "stream",
          "name": "stdout",
          "text": [
            "23\n",
            "(4, 4)\n"
          ]
        }
      ]
    },
    {
      "cell_type": "code",
      "source": [
        "array3D = np.array([\n",
        "    [\n",
        "        [1, 2, 3],\n",
        "        [8, 9, 0],\n",
        "        [28, 29, 20],\n",
        "        [58, 59, 50]\n",
        "    ],\n",
        "    [\n",
        "        [11, 12, 13],\n",
        "        [18, 19, 10],\n",
        "        [38, 39, 30],\n",
        "        [48, 49, 40]\n",
        "    ]\n",
        "])\n",
        "print(array3D*array3D)\n",
        "print(array3D.ndim)\n",
        "print(array3D.size)\n",
        "print(array3D.shape)"
      ],
      "metadata": {
        "colab": {
          "base_uri": "https://localhost:8080/"
        },
        "id": "98TffNUcDV9M",
        "outputId": "5b0b3c27-e0a6-4fad-94fb-42dd3b920672"
      },
      "execution_count": null,
      "outputs": [
        {
          "output_type": "stream",
          "name": "stdout",
          "text": [
            "[[[   1    4    9]\n",
            "  [  64   81    0]\n",
            "  [ 784  841  400]\n",
            "  [3364 3481 2500]]\n",
            "\n",
            " [[ 121  144  169]\n",
            "  [ 324  361  100]\n",
            "  [1444 1521  900]\n",
            "  [2304 2401 1600]]]\n",
            "3\n",
            "24\n",
            "(2, 4, 3)\n"
          ]
        }
      ]
    },
    {
      "cell_type": "markdown",
      "source": [
        "(\n",
        "  two rows, two rows(inner), three colomn(each row content three colomn)\n",
        ")"
      ],
      "metadata": {
        "id": "1pEn4bFJHrFj"
      }
    },
    {
      "cell_type": "code",
      "source": [
        "# Access the specific element\n",
        "n = 10\n",
        "print(array3D[1][1][2])"
      ],
      "metadata": {
        "colab": {
          "base_uri": "https://localhost:8080/"
        },
        "id": "5iJL6oKdD4mx",
        "outputId": "b5dd5e73-9ad5-4b1a-d109-a81f3c91afc2"
      },
      "execution_count": null,
      "outputs": [
        {
          "output_type": "stream",
          "name": "stdout",
          "text": [
            "10\n"
          ]
        }
      ]
    },
    {
      "cell_type": "markdown",
      "source": [
        "## Matrix"
      ],
      "metadata": {
        "id": "NC4uBFdHMtjt"
      }
    },
    {
      "cell_type": "code",
      "source": [
        "matrix = np.matrix([\n",
        "    [1, 2],\n",
        "    [11, 12]\n",
        "])\n",
        "print(matrix)"
      ],
      "metadata": {
        "colab": {
          "base_uri": "https://localhost:8080/"
        },
        "id": "Hx7KiupnEn8m",
        "outputId": "76e2404c-9aa8-4534-8bda-e2a1230004bb"
      },
      "execution_count": null,
      "outputs": [
        {
          "output_type": "stream",
          "name": "stdout",
          "text": [
            "[[ 1  2]\n",
            " [11 12]]\n"
          ]
        }
      ]
    },
    {
      "cell_type": "code",
      "source": [
        "# Cross multiplication of matrix\n",
        "mat_a = np.matrix([\n",
        "    [1, 2],\n",
        "    [11, 12]\n",
        "])\n",
        "\n",
        "mat_b = np.matrix([\n",
        "    [3, 4],\n",
        "    [0, 2]\n",
        "])\n",
        "\n",
        "mat_a * mat_b\n"
      ],
      "metadata": {
        "colab": {
          "base_uri": "https://localhost:8080/"
        },
        "id": "7VCKF9sxNMKl",
        "outputId": "6574f84b-fa16-4d1a-8ea4-768b90a15f3c"
      },
      "execution_count": null,
      "outputs": [
        {
          "output_type": "execute_result",
          "data": {
            "text/plain": [
              "matrix([[ 3,  8],\n",
              "        [33, 68]])"
            ]
          },
          "metadata": {},
          "execution_count": 21
        }
      ]
    },
    {
      "cell_type": "markdown",
      "source": [],
      "metadata": {
        "id": "raqpTI0cOHu1"
      }
    },
    {
      "cell_type": "code",
      "source": [
        "# duplicate or not\n",
        "arr = [1, 3, 2]\n",
        "bool = False\n",
        "for i in arr:\n",
        "  if arr.count(i) > 1:\n",
        "    bool = True\n",
        "    break\n",
        "\n",
        "if bool:\n",
        "  print('true')\n",
        "else:\n",
        "  print('false')"
      ],
      "metadata": {
        "colab": {
          "base_uri": "https://localhost:8080/"
        },
        "id": "uuC5WYKqN88V",
        "outputId": "103e0874-5f40-4d98-b185-3f4c379d70a6"
      },
      "execution_count": null,
      "outputs": [
        {
          "output_type": "stream",
          "name": "stdout",
          "text": [
            "false\n"
          ]
        }
      ]
    },
    {
      "cell_type": "markdown",
      "source": [
        "arr = [1, 3, 2, 1]"
      ],
      "metadata": {
        "id": "NGalIYzoiEWJ"
      }
    },
    {
      "cell_type": "code",
      "source": [
        "count = 0\n",
        "arr = [1, 3, 2, 1]\n",
        "boo = False\n",
        "for i in range(0, len(arr)):\n",
        "  for j in range(i, len(arr)):\n",
        "    if arr[i] == arr[j]:\n",
        "      count+=1\n",
        "      if count== 2:\n",
        "        boo = True\n",
        "    else:\n",
        "      count = 0\n",
        "\n",
        "if boo:\n",
        "  print('yes')\n",
        "else:\n",
        "  print('no')\n",
        "\n"
      ],
      "metadata": {
        "colab": {
          "base_uri": "https://localhost:8080/"
        },
        "id": "sWkkI4XEReyt",
        "outputId": "628f060c-0663-478d-d556-ff213e7fd6dd"
      },
      "execution_count": null,
      "outputs": [
        {
          "output_type": "stream",
          "name": "stdout",
          "text": [
            "yes\n"
          ]
        }
      ]
    },
    {
      "cell_type": "code",
      "source": [
        "seen = set()\n",
        "is_duplicate = False\n",
        "\n",
        "for i in arr:\n",
        "  if i in seen:\n",
        "    is_duplicate = True\n",
        "    break\n",
        "  seen.add(i)\n",
        "\n",
        "if is_duplicate:\n",
        "  print('true')\n",
        "else:\n",
        "  print('false')"
      ],
      "metadata": {
        "colab": {
          "base_uri": "https://localhost:8080/"
        },
        "id": "HyEPJM39XqIe",
        "outputId": "4d2a7d50-dcbc-4711-a6d1-0a91384b0994"
      },
      "execution_count": null,
      "outputs": [
        {
          "output_type": "stream",
          "name": "stdout",
          "text": [
            "true\n"
          ]
        }
      ]
    },
    {
      "cell_type": "markdown",
      "source": [
        "## Valid Anagram\n",
        "\n",
        "Examples:\n",
        "```\n",
        "Input: s=\"anagram\", t=\"nagaram\"\n",
        "Output: true\n",
        "\n",
        "Input: s=\"rat\", t=\"car\"\n",
        "Output: false\n",
        "```"
      ],
      "metadata": {
        "id": "hokWjE-5FWcm"
      }
    },
    {
      "cell_type": "code",
      "source": [
        "def is_anagram(s, t):\n",
        "  s = list(s)\n",
        "  t = list(t)\n",
        "  return s == t\n",
        "\n",
        "print(is_anagram(\"rat\", \"car\"))          # Expected: False\n",
        "print(is_anagram(\"hello\", \"oellh\"))      # Expected: True\n",
        "print(is_anagram(\"test\", \"ttew\"))        # Expected: False\n",
        "print(is_anagram(\"aabbcc\", \"abcabc\"))    # Expected: True\n",
        "print(is_anagram(\"aabbcc\", \"aabbccc\"))   # Expected: False"
      ],
      "metadata": {
        "colab": {
          "base_uri": "https://localhost:8080/"
        },
        "id": "B0KeybZ7Lhc8",
        "outputId": "a13c837c-acbe-49b8-f9f5-07f9b35da087"
      },
      "execution_count": null,
      "outputs": [
        {
          "output_type": "stream",
          "name": "stdout",
          "text": [
            "False\n",
            "False\n",
            "False\n",
            "False\n",
            "False\n"
          ]
        }
      ]
    },
    {
      "cell_type": "code",
      "source": [
        "def is_anagram(s, t):\n",
        "  if len(s) != len(t):\n",
        "        return 'false'\n",
        "\n",
        "  s = list(s)\n",
        "  t = list(t)\n",
        "  round1 = True\n",
        "  round2 = True\n",
        "\n",
        "  for i in s:\n",
        "    if i not in t:\n",
        "      round1 = False\n",
        "      break\n",
        "\n",
        "  for j in t:\n",
        "    if j not in s:\n",
        "      round2 = False\n",
        "      break\n",
        "\n",
        "  if round1 and round2:\n",
        "    return 'true'\n",
        "  else:\n",
        "    return 'false'\n",
        "\n",
        "print(is_anagram(s=\"anagram\", t=\"nagaram\"))"
      ],
      "metadata": {
        "id": "9EbZrTUrpAKH",
        "colab": {
          "base_uri": "https://localhost:8080/"
        },
        "outputId": "02a4bb13-2153-4542-a390-60faf03d613d"
      },
      "execution_count": null,
      "outputs": [
        {
          "output_type": "stream",
          "name": "stdout",
          "text": [
            "true\n"
          ]
        }
      ]
    },
    {
      "cell_type": "code",
      "source": [
        "# Test cases\n",
        "print(is_anagram(\"anagram\", \"nagaram\"))  # Expected: True\n",
        "print(is_anagram(\"rat\", \"car\"))          # Expected: False\n",
        "print(is_anagram(\"hello\", \"oellh\"))      # Expected: True\n",
        "print(is_anagram(\"test\", \"ttew\"))        # Expected: False\n",
        "print(is_anagram(\"aabbcc\", \"abcabc\"))    # Expected: True\n",
        "print(is_anagram(\"aabbcc\", \"aabbccc\"))   # Expected: False"
      ],
      "metadata": {
        "colab": {
          "base_uri": "https://localhost:8080/"
        },
        "id": "LgiywO63Gq6Z",
        "outputId": "40327a02-3786-4321-aec2-89601fee0412"
      },
      "execution_count": null,
      "outputs": [
        {
          "output_type": "stream",
          "name": "stdout",
          "text": [
            "true\n",
            "false\n",
            "true\n",
            "false\n",
            "true\n",
            "false\n"
          ]
        }
      ]
    },
    {
      "cell_type": "code",
      "source": [
        "s=\"anagram\"\n",
        "t=\"nagaram\"\n",
        "\n",
        "print(sorted(s))"
      ],
      "metadata": {
        "colab": {
          "base_uri": "https://localhost:8080/"
        },
        "id": "8xAg3GmLbcx3",
        "outputId": "0c1b4c78-77ec-4059-b987-1f793fa2e8e0"
      },
      "execution_count": 1,
      "outputs": [
        {
          "output_type": "stream",
          "name": "stdout",
          "text": [
            "['a', 'a', 'a', 'g', 'm', 'n', 'r']\n"
          ]
        }
      ]
    },
    {
      "cell_type": "code",
      "source": [
        "def group_anagram(strs):\n",
        "  output = []\n",
        "  for i in range(0, len(strs)):\n",
        "    for j in range(i, len(strs)):\n",
        "      if sorted(strs[i]) == sorted(strs[j]):\n",
        "        output.append([strs[j]])\n",
        "\n",
        "  return output\n",
        "\n",
        "strs = [\"eat\", \"tea\", \"tan\", \"ate\", \"nat\", \"bat\"]\n",
        "\n",
        "group_anagram(strs)\n"
      ],
      "metadata": {
        "colab": {
          "base_uri": "https://localhost:8080/"
        },
        "id": "UiOX213Hb2_r",
        "outputId": "b529857b-0c2b-4a07-fc00-f6f2b6397d5e"
      },
      "execution_count": 6,
      "outputs": [
        {
          "output_type": "execute_result",
          "data": {
            "text/plain": [
              "[['eat'],\n",
              " ['tea'],\n",
              " ['ate'],\n",
              " ['tea'],\n",
              " ['ate'],\n",
              " ['tan'],\n",
              " ['nat'],\n",
              " ['ate'],\n",
              " ['nat'],\n",
              " ['bat']]"
            ]
          },
          "metadata": {},
          "execution_count": 6
        }
      ]
    },
    {
      "cell_type": "code",
      "source": [
        "def is_anagram(s, t):\n",
        "    return sorted(s) == sorted(t)\n",
        "\n",
        "# Test cases\n",
        "print(is_anagram(\"anagram\", \"nagaram\"))  # Expected: True\n",
        "print(is_anagram(\"rat\", \"car\"))          # Expected: False\n",
        "print(is_anagram(\"hello\", \"oellh\"))      # Expected: True\n",
        "print(is_anagram(\"test\", \"ttew\"))        # Expected: False\n",
        "print(is_anagram(\"aabbcc\", \"abcabc\"))    # Expected: True\n",
        "print(is_anagram(\"aabbcc\", \"aabbccc\"))   # Expected: False\n"
      ],
      "metadata": {
        "colab": {
          "base_uri": "https://localhost:8080/"
        },
        "id": "cjII8BFPJfRa",
        "outputId": "adcfdf0e-99dd-49f5-a389-e74a62d452f4"
      },
      "execution_count": null,
      "outputs": [
        {
          "output_type": "stream",
          "name": "stdout",
          "text": [
            "True\n",
            "False\n",
            "True\n",
            "False\n",
            "True\n",
            "False\n"
          ]
        }
      ]
    },
    {
      "cell_type": "code",
      "source": [
        "def is_anagram(s, t):\n",
        "    if len(s) != len(t):\n",
        "        return False\n",
        "\n",
        "    char_count_s = {}\n",
        "    char_count_t = {}\n",
        "\n",
        "    for char in s:\n",
        "        char_count_s[char] = char_count_s.get(char, 0) + 1\n",
        "\n",
        "    for char in t:\n",
        "        char_count_t[char] = char_count_t.get(char, 0) + 1\n",
        "\n",
        "    return char_count_s == char_count_t\n",
        "\n",
        "# Test cases\n",
        "print(is_anagram(\"anagram\", \"nagaram\"))  # Expected: True\n",
        "print(is_anagram(\"rat\", \"car\"))          # Expected: False\n",
        "print(is_anagram(\"hello\", \"oellh\"))      # Expected: True\n",
        "print(is_anagram(\"test\", \"ttew\"))        # Expected: False\n",
        "print(is_anagram(\"aabbcc\", \"abcabc\"))    # Expected: True\n",
        "print(is_anagram(\"aabbcc\", \"aabbccc\"))   # Expected: False\n"
      ],
      "metadata": {
        "colab": {
          "base_uri": "https://localhost:8080/"
        },
        "id": "mO7pOlk9Jrr8",
        "outputId": "a993daf1-bbfe-431c-b6c9-9195a8b1328c"
      },
      "execution_count": null,
      "outputs": [
        {
          "output_type": "stream",
          "name": "stdout",
          "text": [
            "{'a': 3, 'n': 1, 'g': 1, 'r': 1, 'm': 1}\n",
            "{'n': 1, 'a': 3, 'g': 1, 'r': 1, 'm': 1}\n",
            "True\n"
          ]
        }
      ]
    },
    {
      "cell_type": "code",
      "source": [
        "def is_anagram(s, t):\n",
        "  if len(s) != len(t):\n",
        "    return False\n",
        "  s_dic = {}\n",
        "  t_dic = {}\n",
        "\n",
        "  for char in s:\n",
        "    s_dic[char] = s_dic.get(char, 0) + 1\n",
        "\n",
        "  for char in t:\n",
        "    t_dic[char] = t_dic.get(char, 0) + 1\n",
        "\n",
        "  return s_dic == t_dic\n",
        "\n",
        "# Test cases\n",
        "print(is_anagram(\"anagram\", \"nagaram\"))  # Expected: True\n",
        "print(is_anagram(\"rat\", \"car\"))          # Expected: False\n",
        "print(is_anagram(\"hello\", \"oellh\"))      # Expected: True\n",
        "print(is_anagram(\"test\", \"ttew\"))        # Expected: False\n",
        "print(is_anagram(\"aabbcc\", \"abcabc\"))    # Expected: True\n",
        "print(is_anagram(\"aabbcc\", \"aabbccc\"))   # Expected: False\n",
        "\n"
      ],
      "metadata": {
        "colab": {
          "base_uri": "https://localhost:8080/"
        },
        "id": "N-Bkku2KKdNJ",
        "outputId": "eaf71257-d425-4cce-9465-60fc0af5cfea"
      },
      "execution_count": null,
      "outputs": [
        {
          "output_type": "stream",
          "name": "stdout",
          "text": [
            "True\n",
            "False\n",
            "True\n",
            "False\n",
            "True\n",
            "False\n"
          ]
        }
      ]
    },
    {
      "cell_type": "markdown",
      "source": [
        "## Problem list\n",
        "\n",
        "Examples:\n",
        "```\n",
        "Input: nums = [2, 7, 11, 15], target = 9\n",
        "Output: [0, 1]\n",
        "\n",
        "Input: nums = [3, 2, 4], target = 6\n",
        "Output: [1, 2]\n",
        "```\n"
      ],
      "metadata": {
        "id": "stIks9RmRpeN"
      }
    },
    {
      "cell_type": "code",
      "source": [
        "def sumNum(nums, target):\n",
        "  for i in range(0, len(nums)):\n",
        "    for j in range(i+1, len(nums)):\n",
        "      if nums[i] + nums[j] == target:\n",
        "        return [i, j]\n",
        "\n",
        "print(sumNum(nums = [2, 7, 11, 15], target = 9))\n",
        "print(sumNum(nums = [3, 2, 4], target = 6))"
      ],
      "metadata": {
        "colab": {
          "base_uri": "https://localhost:8080/"
        },
        "id": "ruA5yuS2QgQc",
        "outputId": "d9dc59b7-8844-4668-b183-d13cb0b29fe3"
      },
      "execution_count": null,
      "outputs": [
        {
          "output_type": "stream",
          "name": "stdout",
          "text": [
            "[0, 1]\n",
            "[1, 2]\n"
          ]
        }
      ]
    },
    {
      "cell_type": "code",
      "source": [
        "def sumNum(nums, target):\n",
        "  hashmap = {}\n",
        "\n",
        "  for i, n in enumerate(nums):\n",
        "    diff = target - n\n",
        "\n",
        "    if diff in hashmap:\n",
        "      return [i, hashmap[diff]]\n",
        "\n",
        "    hashmap[n] = i\n",
        "\n",
        "print(sumNum(nums = [2, 7, 11, 15], target = 9))\n",
        "print(sumNum(nums = [3, 2, 4], target = 6))"
      ],
      "metadata": {
        "colab": {
          "base_uri": "https://localhost:8080/"
        },
        "id": "Bs-VMv_4TJv7",
        "outputId": "25fcbc05-dfd0-47f3-e96e-5dbcb77042fb"
      },
      "execution_count": null,
      "outputs": [
        {
          "output_type": "stream",
          "name": "stdout",
          "text": [
            "[1, 0]\n",
            "[2, 1]\n"
          ]
        }
      ]
    },
    {
      "cell_type": "code",
      "source": [],
      "metadata": {
        "id": "BOeYGh3Ac9B4"
      },
      "execution_count": null,
      "outputs": []
    }
  ]
}