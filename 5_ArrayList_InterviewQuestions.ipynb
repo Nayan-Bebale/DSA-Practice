{
  "nbformat": 4,
  "nbformat_minor": 0,
  "metadata": {
    "colab": {
      "provenance": [],
      "authorship_tag": "ABX9TyNlJ+GwFA6HNEdp4+QxQGLm",
      "include_colab_link": true
    },
    "kernelspec": {
      "name": "python3",
      "display_name": "Python 3"
    },
    "language_info": {
      "name": "python"
    }
  },
  "cells": [
    {
      "cell_type": "markdown",
      "metadata": {
        "id": "view-in-github",
        "colab_type": "text"
      },
      "source": [
        "<a href=\"https://colab.research.google.com/github/Nayan-Bebale/DSA-Practice/blob/main/5_ArrayList_InterviewQuestions.ipynb\" target=\"_parent\"><img src=\"https://colab.research.google.com/assets/colab-badge.svg\" alt=\"Open In Colab\"/></a>"
      ]
    },
    {
      "cell_type": "markdown",
      "source": [
        "# Interview Questions"
      ],
      "metadata": {
        "id": "5vRzKiczes99"
      }
    },
    {
      "cell_type": "markdown",
      "source": [
        "Q1. Find Missing values from list.<br>\n",
        "mylist = [1, 2, 3, 4, 5, 6, 7, 8, 9, 10, 11, 12, 13, 14, 15, 16, 17, 18, 19, 20, 21, 22, 23, 24, 25, 26, 27, 28, 29, 30, 31, 32, 33, 34, 35, 36, 37, 38, 39, 40, 41, 42, 43, 44, 45, 46, 47, 48, 49, 50, 51, 52, 53, 54, 55, 56, 57, 58, 59, 60, 61, 62, 63, 64, 65, 66, 67, 68, 69, 70, 71, 72, 74, 75, 76, 77, 78, 79, 80, 81, 82, 83, 84, 85, 86, 87, 88, 89, 90, 91, 92, 93, 94, 95, 96, 97, 98, 99, 100]\n"
      ],
      "metadata": {
        "id": "QqCaC-0FexvM"
      }
    },
    {
      "cell_type": "code",
      "execution_count": null,
      "metadata": {
        "colab": {
          "base_uri": "https://localhost:8080/"
        },
        "id": "rZXcIKisc3cc",
        "outputId": "ea12495a-291d-4fd6-b80e-d359efa31cb7"
      },
      "outputs": [
        {
          "output_type": "stream",
          "name": "stdout",
          "text": [
            "73\n"
          ]
        }
      ],
      "source": [
        "mylist = [1, 2, 3, 4, 5, 6, 7, 8, 9, 10, 11, 12, 13, 14, 15, 16, 17, 18, 19, 20, 21, 22, 23, 24, 25, 26, 27, 28, 29, 30, 31, 32, 33, 34, 35, 36, 37, 38, 39, 40, 41, 42, 43, 44, 45, 46, 47, 48, 49, 50, 51, 52, 53, 54, 55, 56, 57, 58, 59, 60, 61, 62, 63, 64, 65, 66, 67, 68, 69, 70, 71, 72, 74, 75, 76, 77, 78, 79, 80, 81, 82, 83, 84, 85, 86, 87, 88, 89, 90, 91, 92, 93, 94, 95, 96, 97, 98, 99, 100]\n",
        "for i in range(1, 101):\n",
        "  if i not in mylist:\n",
        "    print(i)"
      ]
    },
    {
      "cell_type": "code",
      "source": [
        "def findMissing(list, n):\n",
        "    sum1 = sum(list)\n",
        "    sum2 = 100*101/2\n",
        "    print(sum2-sum1)\n",
        "\n",
        "\n",
        "findMissing(mylist, 100)"
      ],
      "metadata": {
        "colab": {
          "base_uri": "https://localhost:8080/"
        },
        "id": "NN9vHVZlfH0p",
        "outputId": "f804fe17-97af-4be0-afb6-013bccfadb52"
      },
      "execution_count": null,
      "outputs": [
        {
          "output_type": "stream",
          "name": "stdout",
          "text": [
            "73.0\n"
          ]
        }
      ]
    },
    {
      "cell_type": "markdown",
      "source": [
        "Q2. Write a program to find all pairs of integers whose sum is equal to given number.\n",
        "\n",
        "Example:1<br>\n",
        "**Input :** nums= [2,7,11, 15], target=9<br>\n",
        "<br>**Output :** [0, 1]<br>**Output :** Because nums[0] + nums[1] == 9, we return [0, 1]"
      ],
      "metadata": {
        "id": "xREI43N0uvXm"
      }
    },
    {
      "cell_type": "code",
      "source": [
        "def pairSum(nums, sum):\n",
        "  for i in range(len(nums)):\n",
        "    for j in range(i, len(nums)):\n",
        "      if sum == nums[i]+nums[j]:\n",
        "        print([i, j])\n",
        "\n",
        "pairSum([2,7,11,5,4,15], 9)\n"
      ],
      "metadata": {
        "id": "roCnt7EQf7dy",
        "colab": {
          "base_uri": "https://localhost:8080/"
        },
        "outputId": "1543c423-12a0-44d0-b08a-3a4f0d945c23"
      },
      "execution_count": null,
      "outputs": [
        {
          "output_type": "stream",
          "name": "stdout",
          "text": [
            "[0, 1]\n",
            "[3, 4]\n"
          ]
        }
      ]
    },
    {
      "cell_type": "markdown",
      "source": [
        "Q3. How to check if an array contains a number in python."
      ],
      "metadata": {
        "id": "CGa2x9nDzcbW"
      }
    },
    {
      "cell_type": "code",
      "source": [
        "import numpy as np\n",
        "\n",
        "myArray = np.array([1, 2, 3, 4, 5, 6, 7, 8, 9, 10, 11, 12, 13, 14, 15, 16, 17, 18, 19, 20])\n",
        "\n",
        "def findNumbers(array, num):\n",
        "  if num in array:\n",
        "    print(f\"{num} is present\")\n",
        "  else:\n",
        "    print(f\"{num} is not present\")\n",
        "\n",
        "findNumbers(myArray, 6)"
      ],
      "metadata": {
        "colab": {
          "base_uri": "https://localhost:8080/"
        },
        "id": "X3mbFB1kx9Lq",
        "outputId": "0ca69b38-e110-488e-d6d5-c8caae1d0434"
      },
      "execution_count": null,
      "outputs": [
        {
          "output_type": "stream",
          "name": "stdout",
          "text": [
            "6 is present\n"
          ]
        }
      ]
    },
    {
      "cell_type": "markdown",
      "source": [
        "Q4. How to find maximum product of two integers in the array where all elements are positive"
      ],
      "metadata": {
        "id": "Y5IEZGqZ4Y_O"
      }
    },
    {
      "cell_type": "code",
      "source": [
        "import numpy as np\n",
        "\n",
        "arr1 = np.array([23, 340, 2, 25, 56, 22, 98, 34, 54, 64, 23, 64, 98, 100, 54])\n",
        "add = 0\n",
        "a = 0\n",
        "max = 0\n",
        "b = 0\n",
        "for i in range(len(arr1)):\n",
        "  for j in range(i+1, len(arr1)):\n",
        "    add = arr1[i] + arr1[j]\n",
        "    if max < add:\n",
        "      max = add\n",
        "      a = arr1[i]\n",
        "      b = arr1[j]\n",
        "\n",
        "print(f\"Combination of {a} and {b} is the maximum product is {max}\")"
      ],
      "metadata": {
        "id": "h81jtaP101WI",
        "colab": {
          "base_uri": "https://localhost:8080/"
        },
        "outputId": "ec4b2836-3fa5-4107-d5c4-ded7ec16c4be"
      },
      "execution_count": null,
      "outputs": [
        {
          "output_type": "stream",
          "name": "stdout",
          "text": [
            "Combination of 340 and 100 is the maximum product is 440\n"
          ]
        }
      ]
    },
    {
      "cell_type": "code",
      "source": [
        "def findMaxProduct(array):\n",
        "    maxProduct = 0\n",
        "    for i in range(len(array)):\n",
        "        for j in range(i+1,len(array)):\n",
        "            if array[i]*array[j] > maxProduct:\n",
        "                maxProduct = array[i]*array[j]\n",
        "                pairs = str(array[i])+ \",\" + str(array[j])\n",
        "    print(pairs)\n",
        "    print(maxProduct)\n",
        "\n",
        "findMaxProduct(arr1)"
      ],
      "metadata": {
        "colab": {
          "base_uri": "https://localhost:8080/"
        },
        "id": "mViqwOyi7Nul",
        "outputId": "07c883c5-988b-4f93-9845-e13ddaecb32f"
      },
      "execution_count": null,
      "outputs": [
        {
          "output_type": "stream",
          "name": "stdout",
          "text": [
            "340,100\n",
            "34000\n"
          ]
        }
      ]
    },
    {
      "cell_type": "markdown",
      "source": [
        "Q5. Is Unique: Implement an algorithm to determine if a list has all unique characters, using python list."
      ],
      "metadata": {
        "id": "o9HEmI4V8qhN"
      }
    },
    {
      "cell_type": "code",
      "source": [
        "arr1 = [1, 2, 4, 5, 6, 7, 8, 9]\n",
        "\n",
        "def checkUnique(arr1):\n",
        "  for i in range(len(arr1)):\n",
        "    for j in range(i+1, len(arr1)):\n",
        "      if arr1[i] == arr1[j]:\n",
        "        return False\n",
        "  return True\n",
        "\n",
        "checkUnique(arr1)"
      ],
      "metadata": {
        "colab": {
          "base_uri": "https://localhost:8080/"
        },
        "id": "o_BN3OE778L-",
        "outputId": "780225a1-2e94-4985-c525-cb4d74e28881"
      },
      "execution_count": null,
      "outputs": [
        {
          "output_type": "execute_result",
          "data": {
            "text/plain": [
              "True"
            ]
          },
          "metadata": {},
          "execution_count": 8
        }
      ]
    },
    {
      "cell_type": "code",
      "source": [
        "def isUnique(list):\n",
        "  a=[]\n",
        "  for i in list:\n",
        "    if i in a:\n",
        "        print(i)\n",
        "        return False\n",
        "    else:\n",
        "        a.append(i)\n",
        "  return True\n",
        "\n",
        "print(isUnique(arr1))"
      ],
      "metadata": {
        "colab": {
          "base_uri": "https://localhost:8080/"
        },
        "id": "2JA7rBHd98Oy",
        "outputId": "5beb7b9f-f506-46d2-8a0e-eae9623e2f1c"
      },
      "execution_count": null,
      "outputs": [
        {
          "output_type": "stream",
          "name": "stdout",
          "text": [
            "True\n"
          ]
        }
      ]
    },
    {
      "cell_type": "markdown",
      "source": [
        "Q6. **Permutations** : any of the different ways in which a set of things can be ordered\n",
        "\n",
        "**Example:**<br>\n",
        "list1 = [1, 2, 4]\n",
        "list2 = [2, 4, 1]\n",
        "\n",
        "Its the permutations of each other."
      ],
      "metadata": {
        "id": "DZok_U2p-38S"
      }
    },
    {
      "cell_type": "code",
      "source": [
        "list1 = [1, 2, 4]\n",
        "list2 = [2, 4, 1, 4]\n",
        "\n",
        "def isPermutated(list1, list2):\n",
        "  if len(list1) == len(list2):\n",
        "    for i in list1:\n",
        "      if i not in list2:\n",
        "        return False\n",
        "  else:\n",
        "    return False\n",
        "  return True\n",
        "\n",
        "print(isPermutated(list1, list2))"
      ],
      "metadata": {
        "colab": {
          "base_uri": "https://localhost:8080/"
        },
        "id": "uD-yf8C0-aLF",
        "outputId": "8bf7eb5d-0bb1-4c30-e48c-769ff07fa39d"
      },
      "execution_count": null,
      "outputs": [
        {
          "output_type": "stream",
          "name": "stdout",
          "text": [
            "False\n"
          ]
        }
      ]
    },
    {
      "cell_type": "code",
      "source": [
        "def permuntation(list1, list2):\n",
        "    print(list1)\n",
        "    print(list2.reverse())\n",
        "    if list1 == list2:   # if list1 == list2.reverse() -- false\n",
        "        return True\n",
        "    else:\n",
        "        return False\n",
        "\n",
        "print(permuntation([1,2,3], [3,2,1]))"
      ],
      "metadata": {
        "colab": {
          "base_uri": "https://localhost:8080/"
        },
        "id": "FrDCeXZ0A4xR",
        "outputId": "4e6755dc-ca9a-442b-b2b9-fb7872bc5951"
      },
      "execution_count": null,
      "outputs": [
        {
          "output_type": "stream",
          "name": "stdout",
          "text": [
            "[1, 2, 3]\n",
            "None\n",
            "True\n"
          ]
        }
      ]
    },
    {
      "cell_type": "markdown",
      "source": [
        "**Rotate Matrix**- Give 2d array represented by an NxN matrix  write a method to rotate the 2d array by 90 degrees.<br>\n",
        "**Input:-**<br>\n",
        " |-----------|<br>\n",
        " |[1 2 3] |<br>\n",
        " |[4 5 6] |<br>\n",
        " |[7 8 9] |<br>\n",
        " |-----------|\n",
        "<br>\n",
        "**Output:-**<br>\n",
        "|-----------|<br>\n",
        " |[7 4 1] |<br>\n",
        " |[8 5 2] |<br>\n",
        " |[9 6 3] |<br>\n",
        " |-----------|"
      ],
      "metadata": {
        "id": "RMAQd_6XJ3xk"
      }
    },
    {
      "cell_type": "code",
      "source": [
        "import numpy as np\n",
        "\n",
        "TwoDArray = np.array([[1, 2, 3],[4, 5, 6],[7, 8, 9]])\n",
        "print(TwoDArray)\n",
        "\n",
        "def rotationalMatrix(matrix):\n",
        "  n = len(matrix)\n",
        "  for layer in range(n//2):\n",
        "    first = layer\n",
        "    last = n-layer-1\n",
        "    for i in range(first, last):\n",
        "      # save top element\n",
        "      top = matrix[layer][i]\n",
        "      # move left element to top\n",
        "      matrix[layer][i] = matrix[-i-1][layer]\n",
        "      # move  bottom element to left\n",
        "      matrix[-i-1][layer] = matrix[-layer-1][-i-1]\n",
        "      # move right to bottom\n",
        "      matrix[-layer-1][-i-1] = matrix[i][-layer-1]\n",
        "      # move to right\n",
        "      matrix[i][-layer-1] = top\n",
        "  return matrix\n",
        "\n",
        "print(rotationalMatrix(TwoDArray))"
      ],
      "metadata": {
        "colab": {
          "base_uri": "https://localhost:8080/"
        },
        "id": "IunqYldgBmxk",
        "outputId": "a306efd5-88f1-4147-ad90-e2d9fc619bd0"
      },
      "execution_count": null,
      "outputs": [
        {
          "output_type": "stream",
          "name": "stdout",
          "text": [
            "[[1 2 3]\n",
            " [4 5 6]\n",
            " [7 8 9]]\n",
            "[[7 4 1]\n",
            " [8 5 2]\n",
            " [9 6 3]]\n"
          ]
        }
      ]
    },
    {
      "cell_type": "code",
      "source": [
        "print(\"We will see more questions\")"
      ],
      "metadata": {
        "id": "5Ee85fcwK4UG"
      },
      "execution_count": null,
      "outputs": []
    },
    {
      "cell_type": "code",
      "source": [],
      "metadata": {
        "id": "Gu_xaQpeiXCT"
      },
      "execution_count": null,
      "outputs": []
    }
  ]
}