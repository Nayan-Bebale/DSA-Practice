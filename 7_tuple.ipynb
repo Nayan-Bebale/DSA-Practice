{
  "nbformat": 4,
  "nbformat_minor": 0,
  "metadata": {
    "colab": {
      "provenance": [],
      "authorship_tag": "ABX9TyO43WEl2ZQjSLhUdviE9Cn1",
      "include_colab_link": true
    },
    "kernelspec": {
      "name": "python3",
      "display_name": "Python 3"
    },
    "language_info": {
      "name": "python"
    }
  },
  "cells": [
    {
      "cell_type": "markdown",
      "metadata": {
        "id": "view-in-github",
        "colab_type": "text"
      },
      "source": [
        "<a href=\"https://colab.research.google.com/github/Nayan-Bebale/DSA-Practice/blob/main/7_tuple.ipynb\" target=\"_parent\"><img src=\"https://colab.research.google.com/assets/colab-badge.svg\" alt=\"Open In Colab\"/></a>"
      ]
    },
    {
      "cell_type": "markdown",
      "source": [
        "# Tuples\n",
        "\n",
        "A tuple is an immutable sequence of Python objects\n",
        "\n",
        "Tuples are also comparable and hashable\n",
        "\n",
        "t = ('a', 'b', 'c', 'd', 'e')\n",
        "\n",
        "**Immutable means:-** Onec You declare the tuple then you can not be change there element or value.<br>\n",
        "Value can't be change"
      ],
      "metadata": {
        "id": "cAB8ufpojzRV"
      }
    },
    {
      "cell_type": "code",
      "execution_count": null,
      "metadata": {
        "id": "-1Qa6TaR2j1x",
        "colab": {
          "base_uri": "https://localhost:8080/"
        },
        "outputId": "11e87e63-54f0-49b6-f38c-46d6bc5dc6b0"
      },
      "outputs": [
        {
          "output_type": "stream",
          "name": "stdout",
          "text": [
            "('a', 'b', 'c', 'd', 'e')\n",
            "<class 'str'>\n",
            "<class 'tuple'>\n",
            "('a', 'b', 'c', 'd', 'e', 'f', 'h', 'h', 'i', 'k', 'k', 'l', 'm', 'n', 'o', 'p', 'q', 'e', 's', 'r', 'u', 'c', 'w', 'x', 'u', 'z')\n"
          ]
        }
      ],
      "source": [
        "t = 'a', 'b', 'c', 'd', 'e'\n",
        "print(t)\n",
        "\n",
        "# If we have single value in tuple, then we have to put , (coma) after value\n",
        "newTuple = ('a')\n",
        "print(type(newTuple))\n",
        "\n",
        "# We have set comma\n",
        "newTuple1 = ('a',)\n",
        "print(type(newTuple1))\n",
        "\n",
        "# Now, by tuple function\n",
        "funcTuple = tuple('abcdefhhikklmnopqesrucwxuz')\n",
        "print(funcTuple)"
      ]
    },
    {
      "cell_type": "markdown",
      "source": [
        "When we creating a tuple then,<br>\n",
        "**Time Complexity:** O(1)<br>\n",
        "**Space Complexity:** O(n)"
      ],
      "metadata": {
        "id": "2CXXXSzq4fmH"
      }
    },
    {
      "cell_type": "markdown",
      "source": [
        "### Tuples in Memory / Accessing Tuple Elements\n",
        "\n",
        "An empty tuple occupies a block of 48 bytes.\n",
        "\n",
        "<img src=\"https://www.opensourceforu.com/wp-content/uploads/2021/04/Lists-and-Tuples_python-illustration.jpg\" alt=\"memoryInTupleOrList\" height=\"390px\"/>"
      ],
      "metadata": {
        "id": "eaaaPvPM4_Cx"
      }
    },
    {
      "cell_type": "markdown",
      "source": [
        "### Access Tuple elements\n",
        "1. [] bracket operator\n",
        "  * newTuple = ('a', 'b', 'c', 'd', 'e')\n",
        "  * print(newTuple[2])\n",
        "  * print(newTuple[-2])\n",
        "2. slice[:] operator\n",
        "  * **syntax:** tuple[leftIndex:rightIndex]\n",
        "    * print(newTuple[1: 4])\n",
        "    * ('b', 'c', 'd')"
      ],
      "metadata": {
        "id": "ziDzd6us8GIz"
      }
    },
    {
      "cell_type": "code",
      "source": [
        "newTuple = ('a', 'b', 'c', 'd', 'e')\n",
        "print(newTuple[1: 4])"
      ],
      "metadata": {
        "id": "DtzrwyXolplj",
        "colab": {
          "base_uri": "https://localhost:8080/"
        },
        "outputId": "3bcc0ead-b114-463e-f542-e0f24923665e"
      },
      "execution_count": null,
      "outputs": [
        {
          "output_type": "stream",
          "name": "stdout",
          "text": [
            "('b', 'c', 'd')\n"
          ]
        }
      ]
    },
    {
      "cell_type": "markdown",
      "source": [
        "### Traverse through tuple"
      ],
      "metadata": {
        "id": "TFaAdv6b9yNZ"
      }
    },
    {
      "cell_type": "code",
      "source": [
        "for i in newTuple:\n",
        "  print(i)\n",
        "print(\"###########\")\n",
        "for i in range(len(newTuple)):\n",
        "  print(newTuple[i])\n",
        "\n",
        "# Time Complexity: O(n)\n",
        "# Space Complexity: O(1)"
      ],
      "metadata": {
        "id": "n6M2T6Pf8dFV"
      },
      "execution_count": null,
      "outputs": []
    },
    {
      "cell_type": "markdown",
      "source": [
        "### Searching for an element in Tuple"
      ],
      "metadata": {
        "id": "L6va401Swhqg"
      }
    },
    {
      "cell_type": "code",
      "source": [
        "def searchElement(tup, ele):\n",
        "  for i in tup:\n",
        "    if ele == i:\n",
        "      return f\"You got {i}\"\n",
        "  else:\n",
        "    return f\"You haven't {ele}\"\n",
        "\n",
        "print(searchElement(newTuple, 'b'))\n",
        "\n",
        "# Time Complexity : O(n)\n",
        "# Space Complexity : O(1)"
      ],
      "metadata": {
        "id": "tNs9e60c99kA",
        "colab": {
          "base_uri": "https://localhost:8080/"
        },
        "outputId": "b3ba0c49-1a28-47f2-d428-54f748542144"
      },
      "execution_count": null,
      "outputs": [
        {
          "output_type": "stream",
          "name": "stdout",
          "text": [
            "You got b\n"
          ]
        }
      ]
    },
    {
      "cell_type": "markdown",
      "source": [
        "### Tuple Operations Functions"
      ],
      "metadata": {
        "id": "Q-2ztR1GxZMd"
      }
    },
    {
      "cell_type": "code",
      "source": [
        "# + operator\n",
        "# Syntex:- tuple1 + tuple2\n",
        "tryTuple = 1,2,3,5,6,7\n",
        "print(tryTuple + funcTuple)"
      ],
      "metadata": {
        "colab": {
          "base_uri": "https://localhost:8080/"
        },
        "id": "v5SzV9mBxSwX",
        "outputId": "51db3a32-1219-4ce7-a851-c51c7368b461"
      },
      "execution_count": null,
      "outputs": [
        {
          "output_type": "stream",
          "name": "stdout",
          "text": [
            "(1, 2, 3, 5, 6, 7, 'a', 'b', 'c', 'd', 'e', 'f', 'h', 'h', 'i', 'k', 'k', 'l', 'm', 'n', 'o', 'p', 'q', 'e', 's', 'r', 'u', 'c', 'w', 'x', 'u', 'z')\n"
          ]
        }
      ]
    },
    {
      "cell_type": "code",
      "source": [
        "# * operator\n",
        "# Syntex: tuple * int\n",
        "# we use * operator for repeating element int times\n",
        "print(tryTuple*2)"
      ],
      "metadata": {
        "colab": {
          "base_uri": "https://localhost:8080/"
        },
        "id": "ypw4Vwuvx7GB",
        "outputId": "341dae78-0895-4198-ecd3-9f4f082f0c12"
      },
      "execution_count": null,
      "outputs": [
        {
          "output_type": "stream",
          "name": "stdout",
          "text": [
            "(1, 2, 3, 5, 6, 7, 1, 2, 3, 5, 6, 7)\n"
          ]
        }
      ]
    },
    {
      "cell_type": "code",
      "source": [
        "print(3 in tryTuple)\n",
        "print(4 in tryTuple)"
      ],
      "metadata": {
        "colab": {
          "base_uri": "https://localhost:8080/"
        },
        "id": "Astn88QdywbG",
        "outputId": "8d03a232-1e25-42df-b4aa-0d8a5cf38af3"
      },
      "execution_count": null,
      "outputs": [
        {
          "output_type": "stream",
          "name": "stdout",
          "text": [
            "True\n",
            "False\n"
          ]
        }
      ]
    },
    {
      "cell_type": "code",
      "source": [
        "# count method\n",
        "print(tryTuple.count(2))"
      ],
      "metadata": {
        "colab": {
          "base_uri": "https://localhost:8080/"
        },
        "id": "dffj77QKzPxz",
        "outputId": "44a2c24b-8d8b-44dc-a916-5561e644db37"
      },
      "execution_count": null,
      "outputs": [
        {
          "output_type": "stream",
          "name": "stdout",
          "text": [
            "1\n"
          ]
        }
      ]
    },
    {
      "cell_type": "code",
      "source": [
        "# index method\n",
        "print(tryTuple.index(3))"
      ],
      "metadata": {
        "colab": {
          "base_uri": "https://localhost:8080/"
        },
        "id": "9LCQpYJSzcLV",
        "outputId": "f629f30b-da26-47c6-d60e-29b0fd0ee563"
      },
      "execution_count": null,
      "outputs": [
        {
          "output_type": "stream",
          "name": "stdout",
          "text": [
            "2\n"
          ]
        }
      ]
    },
    {
      "cell_type": "code",
      "source": [
        "# len method\n",
        "print(len(tryTuple))"
      ],
      "metadata": {
        "colab": {
          "base_uri": "https://localhost:8080/"
        },
        "id": "J8QlsInIzkPf",
        "outputId": "91743b09-012e-4e22-9e90-450b05390538"
      },
      "execution_count": null,
      "outputs": [
        {
          "output_type": "stream",
          "name": "stdout",
          "text": [
            "6\n"
          ]
        }
      ]
    },
    {
      "cell_type": "code",
      "source": [
        "# min method\n",
        "print(min(tryTuple))"
      ],
      "metadata": {
        "colab": {
          "base_uri": "https://localhost:8080/"
        },
        "id": "9OZvOTBvzqQ-",
        "outputId": "4ba5cf80-285e-4f32-9c3b-c44ed2aecd3b"
      },
      "execution_count": null,
      "outputs": [
        {
          "output_type": "stream",
          "name": "stdout",
          "text": [
            "1\n"
          ]
        }
      ]
    },
    {
      "cell_type": "code",
      "source": [
        "# max method\n",
        "print(max(tryTuple))"
      ],
      "metadata": {
        "colab": {
          "base_uri": "https://localhost:8080/"
        },
        "id": "AgY0bkt_z8Al",
        "outputId": "817c9e47-11ce-4b00-f89c-b5421305ec57"
      },
      "execution_count": null,
      "outputs": [
        {
          "output_type": "stream",
          "name": "stdout",
          "text": [
            "7\n"
          ]
        }
      ]
    },
    {
      "cell_type": "code",
      "source": [
        "# tuple method\n",
        "print(tuple([0, 9, 8, 7, 6]))"
      ],
      "metadata": {
        "colab": {
          "base_uri": "https://localhost:8080/"
        },
        "id": "Ne55J61C0AmY",
        "outputId": "9972e40f-dfb1-487f-eaec-e228536450bc"
      },
      "execution_count": null,
      "outputs": [
        {
          "output_type": "stream",
          "name": "stdout",
          "text": [
            "(0, 9, 8, 7, 6)\n"
          ]
        }
      ]
    },
    {
      "cell_type": "markdown",
      "source": [
        "### Tuple V/s List\n",
        "\n",
        "\n",
        "1.   List is **mutable**, whereas a tuple is **immutable.**\n",
        "  *   List\n",
        "  ```\n",
        "  List = [0, 3, 4, 5, 6, 7]\n",
        "  List[1] = 2\n",
        "  print(List)\n",
        "  # [0, 2, 4, 5, 6, 7]\n",
        "  ```\n",
        "  \n",
        "  * Tuple\n",
        "  ```\n",
        "  tuple = 0, 1, 3, 4, 5, 6, 7\n",
        "  tuple[2] = 2\n",
        "  print(tuple)\n",
        "\n",
        "  ---------------------------------------------------------------------------\n",
        "  TypeError                                 Traceback (most recent call last)\n",
        "  <ipython-input-22-aa8f482553a5> in <cell line: 2>()\n",
        "        1 tuple = 0, 1, 3, 4, 5, 6, 7\n",
        "  ----> 2 tuple[2] = 2\n",
        "        3 print(tuple)\n",
        "\n",
        "  TypeError: 'tuple' object does not support item assignment\n",
        "\n",
        "2. Functions that can be used for both lists and tuples:<br>\n",
        "     **len(), max(), min(), sum(), any(), all(), sorted()**\n",
        "\n",
        "3. Methods that can be used for both lists and tuples:\n",
        "  * count()\n",
        "  * index()\n",
        "\n",
        "4. Methods that can NIT be used for tuples:\n",
        "  * append()\n",
        "  * insert()\n",
        "  * remove()\n",
        "  * pop()\n",
        "  * clear()\n",
        "  * sort()\n",
        "  * reverse()\n",
        "\n",
        "5. -Tuple can be stored in Lists<br>- List can be stored in Tuple\n",
        " ```\n",
        " list1 = [(1,2), (9,0), (3,4)]\n",
        " print(list1)\n",
        " [(1, 2), (9, 0), (3, 4)]\n",
        " <!--  -->\n",
        "  tuple1 = ([1, 3], [4, 5], [6, 7])\n",
        "  print(tuple1)\n",
        "  ([1, 3], [4, 5], [6, 7])\n",
        "  ```\n",
        "\n",
        "  <img src=\"https://encrypted-tbn0.gstatic.com/images?q=tbn:ANd9GcQ604Uan_JtVeKViMahYjFZ8E0K6k7RTJ0wkg&usqp=CAU\" alt=\"TupleVsList\" width=\"580px\" height=\"350px\" >\n",
        "\n",
        "6. Important Points<br>- We generally use tuples for heterogeneous (different) data types and list for homogeneous (similar) data types.<br>- Iterating through a tuple is faster than with list.<br>- Tuples that contain immutable elemnets can be used as a key for a dictionary.<br>- If you have data that doesn't change. implementing it as tuple will gurantee that it remains write-protected.\n"
      ],
      "metadata": {
        "id": "VSQN_Xjx0MN-"
      }
    },
    {
      "cell_type": "markdown",
      "source": [
        "### Time and Space Complexity in Python Tuples\n",
        "\n",
        "|Operations                     |\tTime Complexity|\tSpace Complexity        |\n",
        "|:-----------------------------:|:--------------:|:----------------:|\n",
        "|Creating an Tuple\t      |O(1)            |\t    O(n)        |                                          \n",
        "|Traversining a given tuple\t   |O(n)             |\tO(1)              |                      \n",
        "|Accessing a given cell\t       |O(1)             |\tO(1)|                    \n",
        "|Searching a given value\t     |O(n)             |\tO(1)              |                        "
      ],
      "metadata": {
        "id": "Tlr1zFa0EBRN"
      }
    },
    {
      "cell_type": "markdown",
      "source": [
        "### Tuple Interview Questions\n",
        "\n",
        "**Q-1. What will be the output of the following code block?**\n",
        "```\n",
        "init_tuple = ()\n",
        "print (init_tuple.__len__())\n",
        "```\n",
        "<br>A. None\n",
        "<br>B.  1\n",
        "<br>C. 0\n",
        "<br>D. Exception\n",
        "\n",
        "**Q-2. What will be the output of the following code block?**\n",
        "```\n",
        "init_tuple_a = 'a', 'b'\n",
        "init_tuple_b = ('a', 'b')\n",
        "\n",
        "print (init_tuple_a == init_tuple_b)\n",
        "```\n",
        "<br>A. 0\n",
        "<br>B.  1\n",
        "<br>C. False\n",
        "<br>D. True\n",
        "\n",
        "\n",
        "**Q-3. What will be the output of the following code block?**\n",
        "```\n",
        "init_tuple_a = '1', '2'\n",
        "init_tuple_b = ('3', '4')\n",
        "\n",
        "print (init_tuple_a + init_tuple_b)\n",
        "```\n",
        "<br>A. (1, 2, 3, 4)\n",
        "<br>B.  (‘1’, ‘2’, ‘3’, ‘4’)\n",
        "<br>C. [‘1’, ‘2’, ‘3’, ‘4’]\n",
        "<br>D. None\n",
        "\n",
        "**Q-4. What will be the output of the following code block?**\n",
        "```\n",
        "init_tuple_a = 1, 2\n",
        "init_tuple_b = (3, 4)\n",
        "\n",
        "[print(sum(x)) for x in [init_tuple_a + init_tuple_b]]\n",
        "```\n",
        "<br>A. Nothing gets printed.\n",
        "<br>B.  4\n",
        "<br>C. 10\n",
        "<br>D. TypeError: unsupported operand type\n",
        "\n",
        "**Q-5. What will be the output of the following code block?**\n",
        "```\n",
        "init_tuple = [(0, 1), (1, 2), (2, 3)]\n",
        "result = sum(n for _, n in init_tuple)\n",
        "\n",
        "print(result)\n",
        "```\n",
        "<br>A. 3\n",
        "<br>B. 6\n",
        "<br>C. 9\n",
        "<br>D. Nothing gets printed.\n",
        "\n",
        "**Q-6. Which of the following statements given below is/are true?**\n",
        "\n",
        "A. Tuples have structure, lists have an order.\n",
        "<br>B. Tuples are homogeneous, lists are heterogeneous.\n",
        "<br>C. Tuples are immutable, lists are mutable.\n",
        "<br>D. All of them.\n",
        "\n",
        "**Q-7. What will be the output of the following code block?**\n",
        "```\n",
        "l = [1, 2, 3]\n",
        "init_tuple = ('Python',) * (l.__len__() - l[::-1][0])\n",
        "\n",
        "print(init_tuple)\n",
        "```\n",
        "<br>A. ()\n",
        "<br>B. (‘Python’)\n",
        "<br>C. (‘Python’, ‘Python’)\n",
        "<br>D. Runtime Exception.\n",
        "\n",
        "**Q-8. What will be the output of the following code block?**\n",
        "```\n",
        "init_tuple = ('Python') * 3\n",
        "\n",
        "print(type(init_tuple))\n",
        "```\n",
        "<br>A. <class ‘tuple’>\n",
        "<br>B. <class ‘str’>\n",
        "<br>C. <class ‘list’>\n",
        "<br>D. <class ‘function’>\n",
        "\n",
        "**Q-9. What will be the output of the following code block?**\n",
        "```\n",
        "init_tuple = (1,) * 3\n",
        "init_tuple[0] = 2\n",
        "print(init_tuple)\n",
        "```\n",
        "<br>A. (1, 1, 1)\n",
        "<br>B. (2, 2, 2)\n",
        "<br>C. (2, 1, 1)\n",
        "<br>D. TypeError: ‘tuple’ object does not support item assignment\n",
        "\n",
        "**Q-10. What will be the output of the following code block?**\n",
        "```\n",
        "init_tuple = ((1, 2),) * 7\n",
        "print(len(init_tuple[3:8]))\n",
        "```\n",
        "<br>A. Exception\n",
        "<br>B. 5\n",
        "<br>C. 4\n",
        "<br>D. None"
      ],
      "metadata": {
        "id": "2xG5mnQMFSq2"
      }
    },
    {
      "cell_type": "code",
      "source": [
        "init_tuple = ()\n",
        "print (init_tuple.__len__())"
      ],
      "metadata": {
        "colab": {
          "base_uri": "https://localhost:8080/"
        },
        "id": "sLpp0t3-1WVk",
        "outputId": "78131fe6-6f76-44c3-fcc7-e88e37fe02db"
      },
      "execution_count": null,
      "outputs": [
        {
          "output_type": "stream",
          "name": "stdout",
          "text": [
            "0\n"
          ]
        }
      ]
    },
    {
      "cell_type": "code",
      "source": [
        "init_tuple_a = 'a', 'b'\n",
        "init_tuple_b = ('a', 'b')\n",
        "\n",
        "print (init_tuple_a == init_tuple_b)"
      ],
      "metadata": {
        "colab": {
          "base_uri": "https://localhost:8080/"
        },
        "id": "fErFRnH66HWF",
        "outputId": "fb4259e2-bff1-418d-d09b-80952c1f9079"
      },
      "execution_count": null,
      "outputs": [
        {
          "output_type": "stream",
          "name": "stdout",
          "text": [
            "True\n"
          ]
        }
      ]
    },
    {
      "cell_type": "code",
      "source": [
        "init_tuple_a = '1', '2'\n",
        "init_tuple_b = ('3', '4')\n",
        "\n",
        "print (init_tuple_a + init_tuple_b)"
      ],
      "metadata": {
        "colab": {
          "base_uri": "https://localhost:8080/"
        },
        "id": "EKWVHV4TU_RS",
        "outputId": "257a6285-60d3-43e4-a6d1-dfe56139c28c"
      },
      "execution_count": 27,
      "outputs": [
        {
          "output_type": "stream",
          "name": "stdout",
          "text": [
            "('1', '2', '3', '4')\n"
          ]
        }
      ]
    },
    {
      "cell_type": "code",
      "source": [
        "init_tuple_a = 1, 2\n",
        "init_tuple_b = (3, 4)\n",
        "\n",
        "[print(sum(x)) for x in [init_tuple_a + init_tuple_b]]"
      ],
      "metadata": {
        "colab": {
          "base_uri": "https://localhost:8080/"
        },
        "id": "XtzuWpbTWM1u",
        "outputId": "fd966cc9-463b-4d54-c48d-6d6acd271bda"
      },
      "execution_count": 28,
      "outputs": [
        {
          "output_type": "stream",
          "name": "stdout",
          "text": [
            "10\n"
          ]
        },
        {
          "output_type": "execute_result",
          "data": {
            "text/plain": [
              "[None]"
            ]
          },
          "metadata": {},
          "execution_count": 28
        }
      ]
    },
    {
      "cell_type": "code",
      "source": [
        "init_tuple = [(0, 1), (1, 2), (2, 3)]\n",
        "result = sum(n for _, n in init_tuple)\n",
        "\n",
        "print(result)"
      ],
      "metadata": {
        "colab": {
          "base_uri": "https://localhost:8080/"
        },
        "id": "VE65vQ5xXJ8J",
        "outputId": "76a875c7-026c-4519-b62f-82badb6323ed"
      },
      "execution_count": 29,
      "outputs": [
        {
          "output_type": "stream",
          "name": "stdout",
          "text": [
            "6\n"
          ]
        }
      ]
    },
    {
      "cell_type": "markdown",
      "source": [
        "This Python code performs the following operations:\n",
        "\n",
        "1. **`init_tuple`** is initialized as a list of tuples, where each tuple contains two elements.\n",
        "2. `result` is assigned the sum of the second elements of each tuple in `init_tuple`, utilizing a generator expression.\n",
        "\n",
        "Let's break down the code step by step:\n",
        "\n",
        "- `init_tuple = [(0, 1), (1, 2), (2, 3)]`: This line initializes a list called `init_tuple` containing three tuples. Each tuple consists of two elements.\n",
        "- `result = sum(n for _, n in init_tuple)`: This line calculates the sum of the second elements of each tuple in `init_tuple`. It uses a generator expression `(n for _, n in init_tuple)` to iterate through each tuple in `init_tuple` and extract the second element (`n`). The first element of each tuple is represented by `_` as a convention in Python to indicate that it is not being used in the computation. Finally, `sum()` is used to calculate the sum of all the extracted second elements.\n",
        "- `print(result)`: This line prints the value of `result`.\n",
        "\n",
        "In this specific case, the code sums the second elements of the tuples in `init_tuple`, which are `(1, 2, 3)`, resulting in `6`. Therefore, `print(result)` will output `6`."
      ],
      "metadata": {
        "id": "t77JPnKmYwsF"
      }
    },
    {
      "cell_type": "code",
      "source": [
        "l = [1, 2, 3]\n",
        "init_tuple = ('Python',) * (l.__len__() - l[::-1][0])\n",
        "\n",
        "print(init_tuple)"
      ],
      "metadata": {
        "colab": {
          "base_uri": "https://localhost:8080/"
        },
        "id": "-YdGYC_La-mQ",
        "outputId": "c536bd95-7074-4d5c-ee12-b3f06f8a54ec"
      },
      "execution_count": 30,
      "outputs": [
        {
          "output_type": "stream",
          "name": "stdout",
          "text": [
            "()\n"
          ]
        }
      ]
    },
    {
      "cell_type": "code",
      "source": [
        "init_tuple = ('Python') * 3"
      ],
      "metadata": {
        "id": "OQ3hFYFcctJJ"
      },
      "execution_count": 31,
      "outputs": []
    },
    {
      "cell_type": "code",
      "source": [
        "print(type(init_tuple))"
      ],
      "metadata": {
        "colab": {
          "base_uri": "https://localhost:8080/"
        },
        "id": "9yJL37JPcu2b",
        "outputId": "0712edb6-5ca2-4bdd-8fbd-4299079cc927"
      },
      "execution_count": 33,
      "outputs": [
        {
          "output_type": "stream",
          "name": "stdout",
          "text": [
            "<class 'str'>\n"
          ]
        }
      ]
    },
    {
      "cell_type": "code",
      "source": [
        "init_tuple = (1,) * 3\n",
        "init_tuple[0] = 2\n",
        "print(init_tuple)"
      ],
      "metadata": {
        "colab": {
          "base_uri": "https://localhost:8080/",
          "height": 176
        },
        "id": "yGWAYLR7eFAe",
        "outputId": "bfe71db9-d518-45c7-938f-99329fb0f5d5"
      },
      "execution_count": 34,
      "outputs": [
        {
          "output_type": "error",
          "ename": "TypeError",
          "evalue": "'tuple' object does not support item assignment",
          "traceback": [
            "\u001b[0;31m---------------------------------------------------------------------------\u001b[0m",
            "\u001b[0;31mTypeError\u001b[0m                                 Traceback (most recent call last)",
            "\u001b[0;32m<ipython-input-34-a1efd45b4120>\u001b[0m in \u001b[0;36m<cell line: 2>\u001b[0;34m()\u001b[0m\n\u001b[1;32m      1\u001b[0m \u001b[0minit_tuple\u001b[0m \u001b[0;34m=\u001b[0m \u001b[0;34m(\u001b[0m\u001b[0;36m1\u001b[0m\u001b[0;34m,\u001b[0m\u001b[0;34m)\u001b[0m \u001b[0;34m*\u001b[0m \u001b[0;36m3\u001b[0m\u001b[0;34m\u001b[0m\u001b[0;34m\u001b[0m\u001b[0m\n\u001b[0;32m----> 2\u001b[0;31m \u001b[0minit_tuple\u001b[0m\u001b[0;34m[\u001b[0m\u001b[0;36m0\u001b[0m\u001b[0;34m]\u001b[0m \u001b[0;34m=\u001b[0m \u001b[0;36m2\u001b[0m\u001b[0;34m\u001b[0m\u001b[0;34m\u001b[0m\u001b[0m\n\u001b[0m\u001b[1;32m      3\u001b[0m \u001b[0mprint\u001b[0m\u001b[0;34m(\u001b[0m\u001b[0minit_tuple\u001b[0m\u001b[0;34m)\u001b[0m\u001b[0;34m\u001b[0m\u001b[0;34m\u001b[0m\u001b[0m\n",
            "\u001b[0;31mTypeError\u001b[0m: 'tuple' object does not support item assignment"
          ]
        }
      ]
    },
    {
      "cell_type": "code",
      "source": [
        "init_tuple = ((1, 2),) * 7\n",
        "print(len(init_tuple[3:8]))\n"
      ],
      "metadata": {
        "colab": {
          "base_uri": "https://localhost:8080/"
        },
        "id": "E9s0Z-CRfDfA",
        "outputId": "a7e049ea-a280-469f-ff3c-df93fd80daf9"
      },
      "execution_count": 35,
      "outputs": [
        {
          "output_type": "stream",
          "name": "stdout",
          "text": [
            "4\n"
          ]
        }
      ]
    },
    {
      "cell_type": "markdown",
      "source": [
        "### Answer the questions.\n",
        "\n",
        "1. 0 <br>\n",
        "2. True<br>\n",
        "3. ('1', '2', '3', '4')<br>\n",
        "4. 10\n",
        "5. 6\n",
        "6. All of them.\n",
        "7. ( )\n",
        "8. <class ‘str’>\n",
        "9. TypeError: 'tuple' object does not support item assignment\n",
        "10. 4"
      ],
      "metadata": {
        "id": "QYHbhI_UTuAN"
      }
    },
    {
      "cell_type": "code",
      "source": [],
      "metadata": {
        "id": "nZSRcbaAGHw0"
      },
      "execution_count": null,
      "outputs": []
    }
  ]
}