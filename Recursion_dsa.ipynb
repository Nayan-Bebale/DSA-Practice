{
  "nbformat": 4,
  "nbformat_minor": 0,
  "metadata": {
    "colab": {
      "provenance": [],
      "authorship_tag": "ABX9TyP/2vh/wbd14Y1D+2HOIcSg",
      "include_colab_link": true
    },
    "kernelspec": {
      "name": "python3",
      "display_name": "Python 3"
    },
    "language_info": {
      "name": "python"
    }
  },
  "cells": [
    {
      "cell_type": "markdown",
      "metadata": {
        "id": "view-in-github",
        "colab_type": "text"
      },
      "source": [
        "<a href=\"https://colab.research.google.com/github/Nayan-Bebale/DSA-Practice/blob/main/Recursion_dsa.ipynb\" target=\"_parent\"><img src=\"https://colab.research.google.com/assets/colab-badge.svg\" alt=\"Open In Colab\"/></a>"
      ]
    },
    {
      "cell_type": "markdown",
      "source": [
        "# RECURSION\n"
      ],
      "metadata": {
        "id": "7ioJcIom5_0P"
      }
    },
    {
      "cell_type": "code",
      "source": [
        "def factorial(n):\n",
        "  assert n >= 0  and int(n) == n, 'Factorial number must be positive and integer'\n",
        "  if n in [0, 1]:\n",
        "    return n\n",
        "  else:\n",
        "    return n * factorial(n-1)\n",
        "\n",
        "factorial(5)"
      ],
      "metadata": {
        "colab": {
          "base_uri": "https://localhost:8080/"
        },
        "id": "cAoUSlK7p2hu",
        "outputId": "2659f0ae-0361-4b78-db79-ab1ac3d3eee4"
      },
      "execution_count": null,
      "outputs": [
        {
          "output_type": "execute_result",
          "data": {
            "text/plain": [
              "120"
            ]
          },
          "metadata": {},
          "execution_count": 3
        }
      ]
    },
    {
      "cell_type": "code",
      "source": [
        "def fibonacci(n):\n",
        "  assert n >= 0  and int(n) == n, 'Fibonacci number must be positive and integer'\n",
        "  if n in [0, 1]:\n",
        "    return n\n",
        "  else:\n",
        "    return fibonacci(n-1) + fibonacci(n-2)\n",
        "\n",
        "number = 10\n",
        "for i in range(0,number):\n",
        "  print(fibonacci(i), end=' ')"
      ],
      "metadata": {
        "colab": {
          "base_uri": "https://localhost:8080/"
        },
        "id": "1uemCGdVf704",
        "outputId": "81d73768-7b63-4af0-de58-9c50bb6d8cfe"
      },
      "execution_count": null,
      "outputs": [
        {
          "output_type": "stream",
          "name": "stdout",
          "text": [
            "0 1 1 2 3 5 8 13 21 34 "
          ]
        }
      ]
    },
    {
      "cell_type": "markdown",
      "source": [
        "Write a Python program to calculate the sum of a list of numbers using recursion."
      ],
      "metadata": {
        "id": "Od7TJpGP6IIE"
      }
    },
    {
      "cell_type": "code",
      "source": [
        "def lisSum(lisnum):\n",
        "  if len(lisnum) == 1:\n",
        "    return lisnum[0]\n",
        "  else:\n",
        "    return lisnum[0] + lisSum(lisnum[1:])\n",
        "\n",
        "print(lisSum([1, 2, 3, 4, 5]))"
      ],
      "metadata": {
        "colab": {
          "base_uri": "https://localhost:8080/"
        },
        "id": "H11o3k_PrCA9",
        "outputId": "ed02f6b8-5b6b-403b-ff70-4ef4afa25e55"
      },
      "execution_count": null,
      "outputs": [
        {
          "output_type": "stream",
          "name": "stdout",
          "text": [
            "15\n"
          ]
        }
      ]
    },
    {
      "cell_type": "markdown",
      "source": [
        "Write a Python program to sum recursion lists using recursion.\n",
        "Test Data: [1, 2, [3,4], [5,6]]\n",
        "Expected Result: 21"
      ],
      "metadata": {
        "id": "EJ3pJRWHrm2v"
      }
    },
    {
      "cell_type": "code",
      "source": [
        "def lisSum(lisnum):\n",
        "    if len(lisnum) == 1:\n",
        "        if isinstance(lisnum[0], list):\n",
        "            # If the only element is a list, recursively call lisSum on that list\n",
        "            return lisSum(lisnum[0])\n",
        "        else:\n",
        "            # If the only element is a number, return the number\n",
        "            return lisnum[0]\n",
        "    else:\n",
        "        # Sum the first element (handled by inerlis) and recursively call lisSum on the rest\n",
        "        return inerlis(lisnum[0]) + lisSum(lisnum[1:])\n",
        "\n",
        "def inerlis(innum):\n",
        "    if isinstance(innum, int):\n",
        "        # If the element is a number, return the number\n",
        "        return innum\n",
        "    elif isinstance(innum, list):\n",
        "        # If the element is a list, recursively call lisSum on that list\n",
        "        return lisSum(innum)\n",
        "\n",
        "# Test Data\n",
        "input_list = [[3, 4], 2, [3, 4], [5, 6]]\n",
        "\n",
        "result = lisSum(input_list)\n",
        "print(result)\n"
      ],
      "metadata": {
        "colab": {
          "base_uri": "https://localhost:8080/"
        },
        "id": "nJ358X5MrwqJ",
        "outputId": "2b816574-904c-440a-def4-2d9ade7d9c75"
      },
      "execution_count": null,
      "outputs": [
        {
          "output_type": "stream",
          "name": "stdout",
          "text": [
            "27\n"
          ]
        }
      ]
    },
    {
      "cell_type": "code",
      "source": [
        "def sumlist(lisnum):\n",
        "  total = 0\n",
        "  for i in lisnum:\n",
        "    if isinstance(i , list):\n",
        "      total += sumlist(i)\n",
        "    else:\n",
        "      total += i\n",
        "  return total\n",
        "\n",
        "print(sumlist([[3, 4], 2, [3, 4], [5, 6]]))"
      ],
      "metadata": {
        "colab": {
          "base_uri": "https://localhost:8080/"
        },
        "id": "o_ChJLqEwlD1",
        "outputId": "36563b7a-3d6e-4237-9cda-7351694c9961"
      },
      "execution_count": null,
      "outputs": [
        {
          "output_type": "stream",
          "name": "stdout",
          "text": [
            "27\n"
          ]
        }
      ]
    },
    {
      "cell_type": "markdown",
      "source": [
        "6. Write a Python program to get the sum of a non-negative integer using recursion.\n",
        "\n",
        "Test Data:\n",
        "\n",
        "sumDigits(345) -> 12\n",
        "\n",
        "sumDigits(45) -> 9"
      ],
      "metadata": {
        "id": "08M8QcDXzr_m"
      }
    },
    {
      "cell_type": "code",
      "source": [
        "def sumDigits(num):\n",
        "  numstr = str(num)\n",
        "  if len(numstr) == 1:\n",
        "    return int(numstr)\n",
        "  else:\n",
        "    return int(numstr[0]) + int(sumDigits(numstr[1:]))\n",
        "\n",
        "\n",
        "sumDigits(53232)"
      ],
      "metadata": {
        "colab": {
          "base_uri": "https://localhost:8080/"
        },
        "id": "13Vb_ZBez2PD",
        "outputId": "bbba2588-ca33-4cb4-b0a5-be385bfa4c17"
      },
      "execution_count": null,
      "outputs": [
        {
          "output_type": "execute_result",
          "data": {
            "text/plain": [
              "15"
            ]
          },
          "metadata": {},
          "execution_count": 78
        }
      ]
    },
    {
      "cell_type": "code",
      "source": [
        "# def SumDigits(n):\n",
        "#   assert n >= 0  and int(n) == n, 'Number must be positive and integer'\n",
        "#   temp = n//10\n",
        "#   modus = n%10\n",
        "#   if temp == 0:\n",
        "#     return modus\n",
        "#   else:\n",
        "#     return modus+SumDigits(temp)\n",
        "\n",
        "# print(SumDigits(11))\n",
        "\n",
        "\n",
        "def SumDigits(n):\n",
        "  assert n >= 0  and int(n) == n, 'Number must be positive and integer'\n",
        "  if n == 0:\n",
        "    return n\n",
        "  else:\n",
        "    return n%10+SumDigits(n//10)\n",
        "\n",
        "print(SumDigits(1197))\n",
        "\n"
      ],
      "metadata": {
        "colab": {
          "base_uri": "https://localhost:8080/"
        },
        "id": "4nEF5qWTG0NT",
        "outputId": "bb0379f6-f0fb-40cf-9d6f-e906efd106ae"
      },
      "execution_count": null,
      "outputs": [
        {
          "output_type": "stream",
          "name": "stdout",
          "text": [
            "18\n"
          ]
        }
      ]
    },
    {
      "cell_type": "markdown",
      "source": [
        "how to calculate power of a number using recursion"
      ],
      "metadata": {
        "id": "bNdZ5X-HLR8G"
      }
    },
    {
      "cell_type": "code",
      "source": [
        "def power(n, pow):\n",
        "  assert pow >= 0  and int(pow) == pow, 'Number must be positive and integer'\n",
        "  if pow == 0:\n",
        "    return n//n\n",
        "  else:\n",
        "    return n*power(n, pow-1)\n",
        "\n",
        "print(power(5, 3))"
      ],
      "metadata": {
        "colab": {
          "base_uri": "https://localhost:8080/"
        },
        "id": "sxFTkrZ0LcP8",
        "outputId": "12d4daff-0af0-422e-a355-d976fac100ce"
      },
      "execution_count": null,
      "outputs": [
        {
          "output_type": "stream",
          "name": "stdout",
          "text": [
            "125\n"
          ]
        }
      ]
    },
    {
      "cell_type": "markdown",
      "source": [
        "How to find GCD (Greatest Common Divisor) of two numbers using recursion?"
      ],
      "metadata": {
        "id": "jxxmXOaFYCl1"
      }
    },
    {
      "cell_type": "code",
      "source": [
        "def GCD(num1, num2):\n",
        "  if num2 == 0:\n",
        "    return num1\n",
        "  else:\n",
        "    return GCD(num2, num1%num2)\n",
        "\n",
        "print(GCD(45, 30))"
      ],
      "metadata": {
        "colab": {
          "base_uri": "https://localhost:8080/"
        },
        "id": "-hV6K8hJYWyc",
        "outputId": "dd3ddea9-e322-4172-aa87-17dc6f2f87d6"
      },
      "execution_count": null,
      "outputs": [
        {
          "output_type": "stream",
          "name": "stdout",
          "text": [
            "15\n"
          ]
        }
      ]
    },
    {
      "cell_type": "markdown",
      "source": [
        "how to convert a number from Decimal to Binary using recursion"
      ],
      "metadata": {
        "id": "wahheyHFdsT0"
      }
    },
    {
      "cell_type": "code",
      "source": [
        "def DeciToBinary(n):\n",
        "  assert int(n) == n, 'The parameter must be an integer only!'\n",
        "  if n == 0:\n",
        "    return 0\n",
        "  else:\n",
        "    return n%2 + 10 * DeciToBinary(int(n/2))\n",
        "\n",
        "\n",
        "# s = ''\n",
        "\n",
        "# def DeciToBinary(n):\n",
        "#   global s\n",
        "#   rem = n%2\n",
        "#   n //= 2\n",
        "#   s = str(rem) + s\n",
        "#   if n == 0:\n",
        "#     return s\n",
        "#   else:\n",
        "#     return DeciToBinary(n)\n",
        "\n",
        "print(DeciToBinary(35))"
      ],
      "metadata": {
        "colab": {
          "base_uri": "https://localhost:8080/"
        },
        "id": "A0LfFw2mdtn3",
        "outputId": "3c78a5e2-c02e-4e57-bd33-bce77423f791"
      },
      "execution_count": null,
      "outputs": [
        {
          "output_type": "stream",
          "name": "stdout",
          "text": [
            "100011\n"
          ]
        }
      ]
    },
    {
      "cell_type": "code",
      "source": [
        "def check():\n",
        "  return isinstance([2, 3], int)\n",
        "\n",
        "check()"
      ],
      "metadata": {
        "colab": {
          "base_uri": "https://localhost:8080/"
        },
        "id": "2SwbTckAt9ZU",
        "outputId": "31277c29-ff7c-464d-9122-c1633114677e"
      },
      "execution_count": null,
      "outputs": [
        {
          "output_type": "execute_result",
          "data": {
            "text/plain": [
              "False"
            ]
          },
          "metadata": {},
          "execution_count": 35
        }
      ]
    },
    {
      "cell_type": "markdown",
      "source": [
        "## Bonus Challenging Recursions\n",
        "\n",
        "1. power\n",
        "2. factorial\n",
        "3. productofArray\n",
        "4. recursiveRange\n",
        "5. fib\n",
        "6. reverse\n",
        "7. isPalindrome\n",
        "8. someRecursive\n",
        "9. flatten\n",
        "10. captalizeFirst\n",
        "11. nestedEvenSum\n",
        "12. capatalizeWords\n",
        "13. stringifyNumbers\n",
        "14. collectStrings\n"
      ],
      "metadata": {
        "id": "nRf4hUFu15Gr"
      }
    },
    {
      "cell_type": "code",
      "source": [
        "def captalizeFirst(lest):\n",
        "  pass"
      ],
      "metadata": {
        "id": "_UoPUuBgPxjn"
      },
      "execution_count": null,
      "outputs": []
    },
    {
      "cell_type": "code",
      "source": [
        "def nestedEvenSum(dic, sum=0):\n",
        "  for key in dic:\n",
        "    if type(dic[key]) is dict:\n",
        "      sum += nestedEvenSum(dic[key])\n",
        "    elif type(dic[key]) is int and dic[key]%2 == 0:\n",
        "      sum += dic[key]\n",
        "  return sum\n",
        "\n",
        "print(nestedEvenSum(obj1))"
      ],
      "metadata": {
        "colab": {
          "base_uri": "https://localhost:8080/"
        },
        "id": "qbn64tX_KzhO",
        "outputId": "911f3cb3-54c5-4543-fcf2-5b87e085271d"
      },
      "execution_count": null,
      "outputs": [
        {
          "output_type": "stream",
          "name": "stdout",
          "text": [
            "6\n"
          ]
        }
      ]
    },
    {
      "cell_type": "code",
      "source": [
        "obj1 = {\n",
        "  \"outer\": 2,\n",
        "  \"obj\": {\n",
        "    \"inner\": 2,\n",
        "    \"otherObj\": {\n",
        "      \"superInner\": 2,\n",
        "      \"notANumber\": True,\n",
        "      \"alsoNotANumber\": \"yup\"\n",
        "    }\n",
        "  }\n",
        "}\n",
        "\n",
        "for key in obj1:\n",
        "  if type(obj1[key]) is dict:\n",
        "    pass\n",
        "  elif type(obj1[key]) is int:\n",
        "    pass\n",
        "# 6"
      ],
      "metadata": {
        "id": "37LuKU6OH_Xj"
      },
      "execution_count": null,
      "outputs": []
    },
    {
      "cell_type": "code",
      "source": [
        "new = 'deepak'\n",
        "print(new[1:-1:])\n",
        "start = new[0]\n",
        "end = new[-1]\n",
        "\n",
        "print(start, end)"
      ],
      "metadata": {
        "colab": {
          "base_uri": "https://localhost:8080/"
        },
        "id": "ydwslV-aBilh",
        "outputId": "858c6cbb-43b2-4a92-cb7a-7759f5f56b71"
      },
      "execution_count": null,
      "outputs": [
        {
          "output_type": "stream",
          "name": "stdout",
          "text": [
            "eepa\n",
            "d k\n"
          ]
        }
      ]
    },
    {
      "cell_type": "code",
      "source": [
        "# def isPalindrome(strng):\n",
        "#     if len(strng) == 0:\n",
        "#         return True\n",
        "#     if strng[0] != strng[len(strng)-1]:\n",
        "#         return False\n",
        "#     return isPalindrome(strng[1:-1])\n",
        "\n",
        "def isPalindrome(string):\n",
        "  assert str(string) == string, 'Words must be string'\n",
        "  if len(string) == 1 or len(string) == 0:\n",
        "    return 'Palindrom'\n",
        "  else:\n",
        "    start = string[0]\n",
        "    end = string[-1]\n",
        "    if start != end:\n",
        "      return 'Not Palindrom'\n",
        "    else:\n",
        "      return isPalindrome(string[1:-1:])\n",
        "\n",
        "print(isPalindrome('nayan'))\n",
        "print(isPalindrome('awesome')) # false\n",
        "print(isPalindrome('foobar')) # false\n",
        "print(isPalindrome('tacocat')) # true\n",
        "print(isPalindrome('amanaplanacanalpanama')) # true\n",
        "print(isPalindrome('amanaplanacanalpandemonium')) # false"
      ],
      "metadata": {
        "colab": {
          "base_uri": "https://localhost:8080/"
        },
        "id": "Cymo3Sq-CUGG",
        "outputId": "fa7da034-26f5-443c-b03d-1f61514b1ff5"
      },
      "execution_count": null,
      "outputs": [
        {
          "output_type": "stream",
          "name": "stdout",
          "text": [
            "Palindrom\n",
            "Not Palindrom\n",
            "Not Palindrom\n",
            "Palindrom\n",
            "Palindrom\n",
            "Not Palindrom\n"
          ]
        }
      ]
    },
    {
      "cell_type": "code",
      "source": [
        "def reverse(string):\n",
        "  if len(string) == 1:\n",
        "    return string[0]\n",
        "  else:\n",
        "    return reverse(string[1:]) + string[0]\n",
        "\n",
        "reverse('python')"
      ],
      "metadata": {
        "colab": {
          "base_uri": "https://localhost:8080/",
          "height": 35
        },
        "id": "xfUf7XRQ8h-m",
        "outputId": "6850970e-7d1e-4b27-9baf-534201f84b12"
      },
      "execution_count": null,
      "outputs": [
        {
          "output_type": "execute_result",
          "data": {
            "text/plain": [
              "'nohtyp'"
            ],
            "application/vnd.google.colaboratory.intrinsic+json": {
              "type": "string"
            }
          },
          "metadata": {},
          "execution_count": 28
        }
      ]
    },
    {
      "cell_type": "code",
      "source": [
        "# 5\n",
        "def fib(n):\n",
        "  if n in [0, 1]:\n",
        "    return n\n",
        "  else:\n",
        "    return fib(n-1) + fib(n-2)\n",
        "\n",
        "fib(7)"
      ],
      "metadata": {
        "colab": {
          "base_uri": "https://localhost:8080/"
        },
        "id": "ZwEL8uQ076Ue",
        "outputId": "b2dd996e-aba3-4ddc-afcc-4ec19881336c"
      },
      "execution_count": null,
      "outputs": [
        {
          "output_type": "execute_result",
          "data": {
            "text/plain": [
              "13"
            ]
          },
          "metadata": {},
          "execution_count": 16
        }
      ]
    },
    {
      "cell_type": "code",
      "source": [
        "# 4\n",
        "def recursiveRange(n):\n",
        "  if n <= 0:\n",
        "    return 0\n",
        "  else:\n",
        "    return n + recursiveRange(n-1)\n",
        "\n",
        "print(recursiveRange(100))"
      ],
      "metadata": {
        "colab": {
          "base_uri": "https://localhost:8080/"
        },
        "id": "xcyGtTmO5D-A",
        "outputId": "3195484c-ede7-4437-a656-c0d59e19ccb8"
      },
      "execution_count": null,
      "outputs": [
        {
          "output_type": "stream",
          "name": "stdout",
          "text": [
            "5050\n"
          ]
        }
      ]
    },
    {
      "cell_type": "code",
      "source": [
        "# 3\n",
        "def productofArray(arr):\n",
        "  if len(arr) == 1:\n",
        "    return arr[0]\n",
        "  else:\n",
        "    return arr[0] * productofArray(arr[1:])\n",
        "\n",
        "print(productofArray([1, 3, 4, 5]))"
      ],
      "metadata": {
        "colab": {
          "base_uri": "https://localhost:8080/"
        },
        "id": "fULuOzlf4MuC",
        "outputId": "d20ef122-da78-41e0-d345-ef79024b64f9"
      },
      "execution_count": null,
      "outputs": [
        {
          "output_type": "stream",
          "name": "stdout",
          "text": [
            "60\n"
          ]
        }
      ]
    },
    {
      "cell_type": "code",
      "source": [
        "# 2\n",
        "def factorial(n):\n",
        "  if n in [0, 1]:\n",
        "    return n\n",
        "  else:\n",
        "    return n * factorial(n-1)\n",
        "\n",
        "print(factorial(5))"
      ],
      "metadata": {
        "colab": {
          "base_uri": "https://localhost:8080/"
        },
        "id": "T8_ORa3-3WZK",
        "outputId": "98017a78-3356-4643-e2e1-e92d815dc14a"
      },
      "execution_count": null,
      "outputs": [
        {
          "output_type": "stream",
          "name": "stdout",
          "text": [
            "120\n"
          ]
        }
      ]
    },
    {
      "cell_type": "code",
      "source": [
        "numlis = [1, 2, [3,4], [5,6]]\n",
        "sum = 0\n",
        "for i in numlis:\n",
        "  if type(i) == int:\n",
        "    sum+=i\n",
        "  else:\n",
        "    for j in i:\n",
        "      sum += j\n",
        "\n",
        "print(sum)"
      ],
      "metadata": {
        "colab": {
          "base_uri": "https://localhost:8080/"
        },
        "id": "k1ArGmr56RNu",
        "outputId": "5981cd85-9823-4e99-c1a8-b715afc9a475"
      },
      "execution_count": null,
      "outputs": [
        {
          "output_type": "stream",
          "name": "stdout",
          "text": [
            "21\n"
          ]
        }
      ]
    },
    {
      "cell_type": "code",
      "source": [
        "def findMaxNumRec(sampleArray, n):\n",
        "  if n == 1:\n",
        "    return sampleArray[0]\n",
        "  return max(sampleArray[n-1], findMaxNumRec(sampleArray, n-1))\n",
        "\n",
        "findMaxNumRec([11, 4, 12, 7, 2], 5)"
      ],
      "metadata": {
        "colab": {
          "base_uri": "https://localhost:8080/"
        },
        "id": "_cwh9dwUZdiV",
        "outputId": "36ec2c2e-9d67-48f0-db79-d37b717b6e9a"
      },
      "execution_count": null,
      "outputs": [
        {
          "output_type": "execute_result",
          "data": {
            "text/plain": [
              "12"
            ]
          },
          "metadata": {},
          "execution_count": 33
        }
      ]
    }
  ]
}