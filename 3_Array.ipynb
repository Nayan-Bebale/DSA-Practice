{
  "nbformat": 4,
  "nbformat_minor": 0,
  "metadata": {
    "colab": {
      "provenance": [],
      "toc_visible": true,
      "include_colab_link": true
    },
    "kernelspec": {
      "name": "python3",
      "display_name": "Python 3"
    },
    "language_info": {
      "name": "python"
    }
  },
  "cells": [
    {
      "cell_type": "markdown",
      "metadata": {
        "id": "view-in-github",
        "colab_type": "text"
      },
      "source": [
        "<a href=\"https://colab.research.google.com/github/Nayan-Bebale/DSA-Practice/blob/main/3_Array.ipynb\" target=\"_parent\"><img src=\"https://colab.research.google.com/assets/colab-badge.svg\" alt=\"Open In Colab\"/></a>"
      ]
    },
    {
      "cell_type": "markdown",
      "source": [
        "# Array\n",
        "\n",
        "## What is array?\n",
        "\n",
        "In computer science, an array is a data structure consisting of a collection of elements, each identified by at least one array index or key. An array is stored such that the position of each element can be computed form its index by a mathematical formula.\n",
        "\n",
        "\n",
        "\n",
        "1.   collection of same data type element.\n",
        "2.   element of an array are located in a contiguous.\n",
        "3. Each  element of an array has a unique index\n",
        "4. The size of an array is predefined and cannot be modify.\n",
        "\n",
        "Array :- [ 5 | 4 | 10 | 11 | 8 | 11 | 89 | 87 | 12 ]\n",
        "<br>\n",
        "Index:-  [0] [1] [2]  [3]  [4] [5]   [6]  [7]  [8]"
      ],
      "metadata": {
        "id": "nAZ6OitnAbmc"
      }
    },
    {
      "cell_type": "markdown",
      "source": [
        "## Type of Array\n",
        "There are two types of array\n",
        "1. One Dimenstional Array\n",
        "2. Multi Dimenstional\n",
        "\n",
        "**Creating array**\n",
        "\n",
        "from array import *\n",
        "\n",
        "arrayName = array(typecode, [Initializers])\n",
        "\n",
        "---\n",
        "\n",
        "\n",
        "|Type Code|\tC++ Type      |\tPython           |\tMinimum Sizes in Bytes |\n",
        "|:-------:|:-------------:|:----------------:|:-----------------------:|\n",
        "|‘c’\t    |char           |\tcharacter        |\t1                      |\n",
        "|‘b’\t    |signed char    |\tint              |\t1                      |\n",
        "|‘B’\t    |unsigned char  |\tint              |\t1                      |\n",
        "|‘u’\t    |Py_UNICODE     |\tunicode character|\t2                      |\n",
        "|‘h’\t    |signed short   |\tint              |\t2                      |\n",
        "|‘H’\t    |unsigned short |\tint              |\t2                      |\n",
        "|‘i’\t    |signed int     |\tint              |\t2                      |\n",
        "|‘I’\t    |unsigned int   |\tlong             |\t2                      |\n",
        "|‘l’\t    |signed long    |\tint              |\t4                      |\n",
        "|‘L’\t    |unsigned long  |\tlong             |\t4                      |\n",
        "|‘f’\t    |float          |float             |\t4                      |\n",
        "|‘d’\t    |double         |float             |\t8                      |\n",
        "\n",
        "\n",
        "\n"
      ],
      "metadata": {
        "id": "iFFUOKYSCw9z"
      }
    },
    {
      "cell_type": "code",
      "execution_count": null,
      "metadata": {
        "id": "hpQVtZv57EO9",
        "colab": {
          "base_uri": "https://localhost:8080/"
        },
        "outputId": "72020356-b751-4665-90e7-abb9e247fc3a"
      },
      "outputs": [
        {
          "output_type": "stream",
          "name": "stdout",
          "text": [
            "array('i', [1, 4, 5, 6, 7, 7, 8, 9])\n"
          ]
        }
      ],
      "source": [
        "from array import array\n",
        "\n",
        "arr1 = array('i', [1, 4, 5, 6, 7, 7, 8, 9])\n",
        "print(arr1)"
      ]
    },
    {
      "cell_type": "markdown",
      "source": [
        "<h3>Insert array</h3>\n",
        "\n",
        "Time complexity : O(n)  [Insertion at the start of the array]\n",
        "<br>*Time* complexity : O(1)  [Insertion at the end of the array]\n",
        "<br>*Time* complexity : O(n)  [Insertion when array is full]"
      ],
      "metadata": {
        "id": "l3gE6CYarnsA"
      }
    },
    {
      "cell_type": "code",
      "source": [
        "# arr1[5] = 26\n",
        "# arr1.insert(index, value)\n",
        "arr1.insert(4, 3)\n",
        "print(arr1)"
      ],
      "metadata": {
        "colab": {
          "base_uri": "https://localhost:8080/"
        },
        "id": "ipk2yfOUrt49",
        "outputId": "da4536ce-339c-4027-ac05-e8f9b437e855"
      },
      "execution_count": null,
      "outputs": [
        {
          "output_type": "stream",
          "name": "stdout",
          "text": [
            "array('i', [1, 4, 5, 6, 3, 7, 7, 8, 9])\n"
          ]
        }
      ]
    },
    {
      "cell_type": "markdown",
      "source": [
        "<h3> Array Traversal</h3>\n",
        "\n",
        "Time complexity : O(n)\n",
        "\n",
        "Space complexity : O(1)"
      ],
      "metadata": {
        "id": "tQbk82F5vJDY"
      }
    },
    {
      "cell_type": "code",
      "source": [
        "for element in arr1:\n",
        "  print(element, end=' ')"
      ],
      "metadata": {
        "id": "uvUgO_C3pLLF",
        "colab": {
          "base_uri": "https://localhost:8080/"
        },
        "outputId": "12b28e90-6095-49de-d45d-3d753b166fe4"
      },
      "execution_count": null,
      "outputs": [
        {
          "output_type": "stream",
          "name": "stdout",
          "text": [
            "1 4 5 6 3 7 7 8 9 "
          ]
        }
      ]
    },
    {
      "cell_type": "markdown",
      "source": [
        "<h3>Accessing the data</h3>"
      ],
      "metadata": {
        "id": "BQowuMSuyiea"
      }
    },
    {
      "cell_type": "code",
      "source": [
        "def accessElement(arr, index):\n",
        "  if index >= len(arr):\n",
        "    print(\"The element out of the index\")\n",
        "  else:\n",
        "    print(arr[index])\n",
        "\n",
        "accessElement(arr1, 5)"
      ],
      "metadata": {
        "colab": {
          "base_uri": "https://localhost:8080/"
        },
        "id": "oPLpO0-Cvhav",
        "outputId": "f9090a42-a28c-4677-c90c-757d73f83a6c"
      },
      "execution_count": null,
      "outputs": [
        {
          "output_type": "stream",
          "name": "stdout",
          "text": [
            "7\n"
          ]
        }
      ]
    },
    {
      "cell_type": "code",
      "source": [
        "def sortElement(arr):\n",
        "  for i in range(0, len(arr)):\n",
        "    for j in range(1, i+1):\n",
        "      if i > j:\n",
        "        arr[j], arr[i] = arr[i], arr[j]\n",
        "\n",
        "  return arr\n",
        "sortElement(arr1)"
      ],
      "metadata": {
        "colab": {
          "base_uri": "https://localhost:8080/"
        },
        "id": "GjEgLD8e0_fQ",
        "outputId": "d59df04b-b7d2-4e16-e4f9-07731af670fe"
      },
      "execution_count": null,
      "outputs": [
        {
          "output_type": "execute_result",
          "data": {
            "text/plain": [
              "array('i', [1, 9, 8, 7, 7, 3, 6, 5, 4])"
            ]
          },
          "metadata": {},
          "execution_count": 14
        }
      ]
    },
    {
      "cell_type": "code",
      "source": [
        "arr1[1]"
      ],
      "metadata": {
        "colab": {
          "base_uri": "https://localhost:8080/"
        },
        "id": "qsJzkNkamjYX",
        "outputId": "63700d54-9841-46e8-d970-a4789bf02153"
      },
      "execution_count": null,
      "outputs": [
        {
          "output_type": "execute_result",
          "data": {
            "text/plain": [
              "4"
            ]
          },
          "metadata": {},
          "execution_count": 13
        }
      ]
    },
    {
      "cell_type": "markdown",
      "source": [
        "<h3>Searching the data</h3>\n"
      ],
      "metadata": {
        "id": "8-0No__GzStw"
      }
    },
    {
      "cell_type": "code",
      "source": [
        "def searchElement(arr, element):\n",
        "  for item in arr:\n",
        "    if item == element:\n",
        "      print(item)\n",
        "      break\n",
        "  else:\n",
        "    print(f\"{element} is not found.\")\n",
        "searchElement(arr1, 745646)"
      ],
      "metadata": {
        "colab": {
          "base_uri": "https://localhost:8080/"
        },
        "id": "RY15s0BWzMc_",
        "outputId": "373855f8-2dea-426f-c252-2dc13c2c8ead"
      },
      "execution_count": null,
      "outputs": [
        {
          "output_type": "stream",
          "name": "stdout",
          "text": [
            "745646 is not found.\n"
          ]
        }
      ]
    },
    {
      "cell_type": "markdown",
      "source": [
        "### Deleting element"
      ],
      "metadata": {
        "id": "bBkLTMcfuKYv"
      }
    },
    {
      "cell_type": "code",
      "source": [
        "print(arr1)"
      ],
      "metadata": {
        "colab": {
          "base_uri": "https://localhost:8080/"
        },
        "id": "YKg4LogzpPrO",
        "outputId": "44a99508-71d5-434d-8131-3321cf9f3bc0"
      },
      "execution_count": null,
      "outputs": [
        {
          "output_type": "stream",
          "name": "stdout",
          "text": [
            "array('i', [1, 4, 5, 6, 3, 7, 7, 8, 9])\n"
          ]
        }
      ]
    },
    {
      "cell_type": "code",
      "source": [
        "arr1.remove(9)\n",
        "print(arr1)"
      ],
      "metadata": {
        "id": "XGyuiw3m0TWU",
        "colab": {
          "base_uri": "https://localhost:8080/"
        },
        "outputId": "81235aed-3477-43d8-8088-04cb629cb6d9"
      },
      "execution_count": null,
      "outputs": [
        {
          "output_type": "stream",
          "name": "stdout",
          "text": [
            "array('i', [4, 5, 6, 7, 7, 8])\n"
          ]
        }
      ]
    },
    {
      "cell_type": "markdown",
      "source": [
        "### Time and Space Complexity in One Dimensioal Arrays\n",
        "\n",
        "\n",
        "|Operations                     |\tTime Complexity|\tSpace Complexity        |\n",
        "|:-----------------------------:|:--------------:|:----------------:|\n",
        "|Creating an empty array\t      |O(1)            |\t    O(n)        |                      \n",
        "|Inserting a value in an array |O(1)/ O(n)       |\tO(1)              |                      \n",
        "|Traversining a given array\t   |O(n)             |\tO(1)              |                      \n",
        "|Accessing a given cell\t       |O(1)             |\tO(1)|                    \n",
        "|Searching a given value\t     |O(n)             |\tO(1)              |                      \n",
        "|Deleting a given value\t       |O(1)/O(n)        |\tO(1)              |                      \n",
        "                     \n",
        "\n"
      ],
      "metadata": {
        "id": "NGXk0MH0un09"
      }
    },
    {
      "cell_type": "markdown",
      "source": [
        "**Let's analyze the time and space complexity of the operations we perform.**\n",
        "\n",
        "1. Creating an empty array takes constant time complexity. The space complexity is O(N), as the system allocates N cells for the array.\n",
        "\n",
        "2. Inserting a value at the end of the array has constant time complexity, while inserting at the beginning takes O(N) time complexity. The space complexity remains O(1).\n",
        "\n",
        "3. Traversing a given array takes O(N) time complexity, visiting each element to print or update it. The space complexity is O(1).\n",
        "\n",
        "4. Accessing a given element in the array has constant time complexity (O(1)). The space complexity is also constant.\n",
        "\n",
        "5. Searching for a given value inside an array takes O(N) time complexity, as it requires visiting each cell. The space complexity is constant.\n",
        "\n",
        "6. Deleting a value from the end of the array has constant time complexity, while deleting from the middle or beginning takes O(N) time complexity. The space complexity remains constant.\n",
        "\n",
        "In summary, the rearranged information:\n",
        "\n",
        "- Creating an empty array: Time - constant, Space - O(N)\n",
        "- Inserting a value (end): Time - constant, Space - O(1)\n",
        "- Inserting a value (beginning): Time - O(N), Space - O(1)\n",
        "- Traversing a given array: Time - O(N), Space - O(1)\n",
        "- Accessing a given element: Time - constant, Space - constant\n",
        "- Searching a given value: Time - O(N), Space - constant\n",
        "- Deleting a value (end): Time - constant, Space - constant\n",
        "- Deleting a value (middle/beginning): Time - O(N), Space - constant\n",
        "\n",
        "Hopefully, this provides a clearer understanding of the time and space complexities for each operation."
      ],
      "metadata": {
        "id": "3Dmu4CBB1UW0"
      }
    },
    {
      "cell_type": "markdown",
      "source": [
        "### Practicing of Array\n",
        "\n",
        "1. Create an array abd traverse."
      ],
      "metadata": {
        "id": "sTPAlKuW2CV2"
      }
    },
    {
      "cell_type": "code",
      "source": [
        "arr2 = array('i', [2, 4, 5, 6, 6, 7, 6, 8, 78, 87])\n",
        "\n",
        "for ele in arr2:\n",
        "  print(ele, end=' ')"
      ],
      "metadata": {
        "colab": {
          "base_uri": "https://localhost:8080/"
        },
        "id": "7NvTKnNDuVlZ",
        "outputId": "f1ccbde4-1280-463f-913a-fdce6f016a57"
      },
      "execution_count": null,
      "outputs": [
        {
          "output_type": "stream",
          "name": "stdout",
          "text": [
            "2 4 5 6 6 7 6 8 78 87 "
          ]
        }
      ]
    },
    {
      "cell_type": "markdown",
      "source": [
        "2. Access individual elements through indexes."
      ],
      "metadata": {
        "id": "XRfBdMYw2t_L"
      }
    },
    {
      "cell_type": "code",
      "source": [
        "def accessByIndex(arr, index):\n",
        "  if len(arr) > index and -len(arr) <= index:\n",
        "    return arr[index]\n",
        "  else:\n",
        "    return \"Index Outof.\"\n",
        "\n",
        "print(accessByIndex(arr2, -10))"
      ],
      "metadata": {
        "colab": {
          "base_uri": "https://localhost:8080/"
        },
        "id": "fQleDFgh2ftn",
        "outputId": "4942ef04-11cb-4f33-9cb1-1ddcf276aa69"
      },
      "execution_count": null,
      "outputs": [
        {
          "output_type": "stream",
          "name": "stdout",
          "text": [
            "2\n"
          ]
        }
      ]
    },
    {
      "cell_type": "markdown",
      "source": [
        "3. Append any value to the array using append() method."
      ],
      "metadata": {
        "id": "miXVW-BT4k_b"
      }
    },
    {
      "cell_type": "code",
      "source": [
        "arr2.append(45)\n",
        "arr2"
      ],
      "metadata": {
        "colab": {
          "base_uri": "https://localhost:8080/"
        },
        "id": "sO5ywVGI4NPZ",
        "outputId": "b608e2f7-5ce2-4503-c5f8-e733b520ddc9"
      },
      "execution_count": null,
      "outputs": [
        {
          "output_type": "execute_result",
          "data": {
            "text/plain": [
              "array('i', [2, 4, 5, 6, 6, 7, 6, 8, 78, 87, 45])"
            ]
          },
          "metadata": {},
          "execution_count": 50
        }
      ]
    },
    {
      "cell_type": "markdown",
      "source": [
        "4. Insert any value to the array using insert() method."
      ],
      "metadata": {
        "id": "0Sd9qQC15G2D"
      }
    },
    {
      "cell_type": "code",
      "source": [
        "# arr2.insert(index, value)\n",
        "arr2.insert(0 , 5)\n",
        "arr2"
      ],
      "metadata": {
        "colab": {
          "base_uri": "https://localhost:8080/"
        },
        "id": "cetUenTh5CbN",
        "outputId": "4a3dc362-3590-43d5-87f7-d5c1834e68cf"
      },
      "execution_count": null,
      "outputs": [
        {
          "output_type": "execute_result",
          "data": {
            "text/plain": [
              "array('i', [5, 2, 4, 5, 6, 6, 7, 6, 8, 78, 87, 45])"
            ]
          },
          "metadata": {},
          "execution_count": 51
        }
      ]
    },
    {
      "cell_type": "markdown",
      "source": [
        "5. Extend python array using extend() method."
      ],
      "metadata": {
        "id": "DRAHeOL75tzH"
      }
    },
    {
      "cell_type": "code",
      "source": [
        "arr2.extend(arr1)\n",
        "arr2"
      ],
      "metadata": {
        "colab": {
          "base_uri": "https://localhost:8080/"
        },
        "id": "Fhss1IQV5WBF",
        "outputId": "a1627c8e-8a89-4148-b290-f292418f2046"
      },
      "execution_count": null,
      "outputs": [
        {
          "output_type": "execute_result",
          "data": {
            "text/plain": [
              "array('i', [5, 2, 4, 5, 6, 6, 7, 6, 8, 78, 87, 45, 1, 4, 5, 6, 7, 7, 8, 9])"
            ]
          },
          "metadata": {},
          "execution_count": 52
        }
      ]
    },
    {
      "cell_type": "markdown",
      "source": [
        "6. Add items form list into array  using fromlist() method."
      ],
      "metadata": {
        "id": "QmbCwlco832z"
      }
    },
    {
      "cell_type": "code",
      "source": [
        "lis1 = [890, 797, 342, 435, 653, 534]\n",
        "arr1.fromlist(lis1)\n",
        "arr1"
      ],
      "metadata": {
        "colab": {
          "base_uri": "https://localhost:8080/"
        },
        "id": "ROLBFRBo5rQj",
        "outputId": "8b81d048-1eaa-410e-8322-943f9494cf25"
      },
      "execution_count": null,
      "outputs": [
        {
          "output_type": "execute_result",
          "data": {
            "text/plain": [
              "array('i', [1, 4, 5, 6, 7, 7, 8, 9, 890, 797, 342, 435, 653, 534])"
            ]
          },
          "metadata": {},
          "execution_count": 53
        }
      ]
    },
    {
      "cell_type": "markdown",
      "source": [
        "7. Remove any array element using remove() method."
      ],
      "metadata": {
        "id": "SyNluPLq80_f"
      }
    },
    {
      "cell_type": "code",
      "source": [
        "arr1.remove(890)\n",
        "arr1"
      ],
      "metadata": {
        "colab": {
          "base_uri": "https://localhost:8080/"
        },
        "id": "y0ngj1kg9QIV",
        "outputId": "1dcf60af-35a1-4b36-b91f-43b3445a3347"
      },
      "execution_count": null,
      "outputs": [
        {
          "output_type": "execute_result",
          "data": {
            "text/plain": [
              "array('i', [1, 4, 5, 6, 7, 7, 8, 9, 797, 342, 435, 653, 534])"
            ]
          },
          "metadata": {},
          "execution_count": 54
        }
      ]
    },
    {
      "cell_type": "markdown",
      "source": [
        "8. Remove any array element using pop() method."
      ],
      "metadata": {
        "id": "1yp0Ya-99veD"
      }
    },
    {
      "cell_type": "code",
      "source": [
        "arr1.pop()\n",
        "arr1"
      ],
      "metadata": {
        "colab": {
          "base_uri": "https://localhost:8080/"
        },
        "id": "LHx48Tlw94nb",
        "outputId": "a7beb5da-dbf0-4880-ac56-7255a8c1c69c"
      },
      "execution_count": null,
      "outputs": [
        {
          "output_type": "execute_result",
          "data": {
            "text/plain": [
              "array('i', [1, 4, 5, 6, 7, 7, 8, 9, 797, 342, 435, 653])"
            ]
          },
          "metadata": {},
          "execution_count": 55
        }
      ]
    },
    {
      "cell_type": "markdown",
      "source": [
        "9. Fetch any element throught its index using index() method."
      ],
      "metadata": {
        "id": "-SQRxhYO-FoO"
      }
    },
    {
      "cell_type": "code",
      "source": [
        "arr1.index(797)"
      ],
      "metadata": {
        "colab": {
          "base_uri": "https://localhost:8080/"
        },
        "id": "uWVLAVu39T1j",
        "outputId": "43a6fb98-8e97-47f5-9d04-272a40c165d0"
      },
      "execution_count": null,
      "outputs": [
        {
          "output_type": "execute_result",
          "data": {
            "text/plain": [
              "8"
            ]
          },
          "metadata": {},
          "execution_count": 56
        }
      ]
    },
    {
      "cell_type": "markdown",
      "source": [
        "10. Reverse a python array using reverse() method."
      ],
      "metadata": {
        "id": "IO-UwwbC-Xi9"
      }
    },
    {
      "cell_type": "code",
      "source": [
        "arr2.reverse()\n",
        "arr2"
      ],
      "metadata": {
        "id": "aCl2ivuw9gzw"
      },
      "execution_count": null,
      "outputs": []
    },
    {
      "cell_type": "markdown",
      "source": [
        "11. Get array buffer information through buffer_info() method\n",
        "\n",
        "---\n",
        "buffer_info() returns a tuple, which contains the memory address and the length of the buffer that holds the array's contents in the form (address, length)."
      ],
      "metadata": {
        "id": "kyhYSJ_A_dAJ"
      }
    },
    {
      "cell_type": "code",
      "source": [
        "arr1.buffer_info()"
      ],
      "metadata": {
        "colab": {
          "base_uri": "https://localhost:8080/"
        },
        "id": "mW6hoEJd_R2n",
        "outputId": "df573237-f611-4bf4-f893-f0fa33135ae2"
      },
      "execution_count": null,
      "outputs": [
        {
          "output_type": "execute_result",
          "data": {
            "text/plain": [
              "(135911912251600, 12)"
            ]
          },
          "metadata": {},
          "execution_count": 61
        }
      ]
    },
    {
      "cell_type": "markdown",
      "source": [
        "12. Check for number of occurrences of an element using count() method."
      ],
      "metadata": {
        "id": "DbNng8aVAh4q"
      }
    },
    {
      "cell_type": "code",
      "source": [
        "arr1.count(7)"
      ],
      "metadata": {
        "colab": {
          "base_uri": "https://localhost:8080/"
        },
        "id": "DOp7dKAi_pgU",
        "outputId": "dc7f84b9-ff6d-48f1-f292-3d4fea3b9163"
      },
      "execution_count": null,
      "outputs": [
        {
          "output_type": "execute_result",
          "data": {
            "text/plain": [
              "2"
            ]
          },
          "metadata": {},
          "execution_count": 64
        }
      ]
    },
    {
      "cell_type": "markdown",
      "source": [
        "13. Convert array to string using tostring() method.\n",
        "\n",
        "tosting() method comes under java language."
      ],
      "metadata": {
        "id": "zje9aYYmA6To"
      }
    },
    {
      "cell_type": "code",
      "source": [
        "test = array('i', [3, 5, 6, 7, 8, 9])"
      ],
      "metadata": {
        "id": "NmKEXn4AAw8k"
      },
      "execution_count": null,
      "outputs": []
    },
    {
      "cell_type": "code",
      "source": [
        "# using list comprehension\n",
        "listToStr = ' '.join([str(elem) for elem in test])\n",
        "\n",
        "print(listToStr)"
      ],
      "metadata": {
        "colab": {
          "base_uri": "https://localhost:8080/"
        },
        "id": "NHuh9fkeBynD",
        "outputId": "b3d6398e-effa-4072-8ce2-8df970874d7a"
      },
      "execution_count": null,
      "outputs": [
        {
          "output_type": "stream",
          "name": "stdout",
          "text": [
            "<class 'str'>\n"
          ]
        }
      ]
    },
    {
      "cell_type": "markdown",
      "source": [
        "14. Convert array to python list with same elements using tolist() method."
      ],
      "metadata": {
        "id": "BDedBaDaDF2G"
      }
    },
    {
      "cell_type": "code",
      "source": [
        "new = test.tolist()\n",
        "type(new)"
      ],
      "metadata": {
        "colab": {
          "base_uri": "https://localhost:8080/"
        },
        "id": "hQdQD2NMB1-R",
        "outputId": "52b7a9a0-4bb3-4963-b83d-58f4c452efb8"
      },
      "execution_count": null,
      "outputs": [
        {
          "output_type": "execute_result",
          "data": {
            "text/plain": [
              "list"
            ]
          },
          "metadata": {},
          "execution_count": 70
        }
      ]
    },
    {
      "cell_type": "markdown",
      "source": [
        "15. Slice Elements form an array\n",
        "\n"
      ],
      "metadata": {
        "id": "yZzX1c4pDrHf"
      }
    },
    {
      "cell_type": "code",
      "source": [
        "arr1"
      ],
      "metadata": {
        "colab": {
          "base_uri": "https://localhost:8080/"
        },
        "id": "EYBKlLYcG9rI",
        "outputId": "323567aa-e6fd-44aa-97b4-8f9fbfe4b90e"
      },
      "execution_count": null,
      "outputs": [
        {
          "output_type": "execute_result",
          "data": {
            "text/plain": [
              "array('i', [1, 4, 5, 6, 7, 7, 8, 9, 797, 342, 435, 653])"
            ]
          },
          "metadata": {},
          "execution_count": 74
        }
      ]
    },
    {
      "cell_type": "code",
      "source": [
        "arr1[0::2]"
      ],
      "metadata": {
        "colab": {
          "base_uri": "https://localhost:8080/"
        },
        "id": "Rjar4568DZDQ",
        "outputId": "f66edf12-c2ce-4ac0-a9c8-e84f8d1274ac"
      },
      "execution_count": null,
      "outputs": [
        {
          "output_type": "execute_result",
          "data": {
            "text/plain": [
              "array('i', [1, 5, 7, 8, 797, 435])"
            ]
          },
          "metadata": {},
          "execution_count": 78
        }
      ]
    },
    {
      "cell_type": "markdown",
      "source": [
        "### Two Dimensional Array\n",
        "\n",
        "An array with a bunch of values having been declared with double index\n",
        "<br>\n",
        "a[i][j] --> i and j between 0 and n.\n",
        "\n",
        "Day 1 - 11, 14, 10, 6<br>\n",
        "Day 2 - 10, 14, 11, 5<br>\n",
        "Day 3 - 13, 14, 12, 8<br>\n",
        "Day 5 - 14, 18, 13, 9<br><br>\n",
        "**When we create an array, we:**\n",
        "\n",
        "\n",
        "*   Assign it to a variable\n",
        "*   Define the type of elements that it will store\n",
        "*   Define its size (the maximum numbers of elements)\n",
        "\n",
        "**Time Complexity** = O(mn)\n",
        "<br>\n",
        "m = no. of column<br>\n",
        "n = no. of row\n"
      ],
      "metadata": {
        "id": "YzdlmdlxIEPi"
      }
    },
    {
      "cell_type": "code",
      "source": [
        "import numpy as np\n",
        "\n",
        "twoDArray = np.array([[11, 14, 10, 6],\n",
        "                      [10, 14, 11, 5],\n",
        "                      [13, 14, 12, 8],\n",
        "                      [14, 18, 13, 9]])\n",
        "print(twoDArray)"
      ],
      "metadata": {
        "colab": {
          "base_uri": "https://localhost:8080/"
        },
        "id": "6PIiKC3GEe4Z",
        "outputId": "62532c0d-80b3-4bf7-8afa-ecc6f1a725dd"
      },
      "execution_count": 1,
      "outputs": [
        {
          "output_type": "stream",
          "name": "stdout",
          "text": [
            "[[11 14 10  6]\n",
            " [10 14 11  5]\n",
            " [13 14 12  8]\n",
            " [14 18 13  9]]\n"
          ]
        }
      ]
    },
    {
      "cell_type": "code",
      "source": [
        "# twoDArray[row][column]\n",
        "twoDArray[3][2]"
      ],
      "metadata": {
        "colab": {
          "base_uri": "https://localhost:8080/"
        },
        "id": "HcggRbruW2Ki",
        "outputId": "093ed6bc-65ee-4941-8145-1ed7b31bff4f"
      },
      "execution_count": null,
      "outputs": [
        {
          "output_type": "execute_result",
          "data": {
            "text/plain": [
              "13"
            ]
          },
          "metadata": {},
          "execution_count": 82
        }
      ]
    },
    {
      "cell_type": "markdown",
      "source": [
        "### Insertion - Two Dimensional array"
      ],
      "metadata": {
        "id": "37e4j6ShX57y"
      }
    },
    {
      "cell_type": "code",
      "source": [
        "# new2DArray = np.insert(arrName, index, [[elements]], axis=row(0), col(1))\n",
        "\n",
        "new2DArray = np.insert(twoDArray, 3,[[1, 2, 3, 4]], axis=0)\n",
        "print(new2DArray)"
      ],
      "metadata": {
        "colab": {
          "base_uri": "https://localhost:8080/"
        },
        "id": "cNatgZp1XHEd",
        "outputId": "9f5a90b7-cb15-4172-8b37-e154e777fa5b"
      },
      "execution_count": null,
      "outputs": [
        {
          "output_type": "stream",
          "name": "stdout",
          "text": [
            "[[11 14 10  6]\n",
            " [10 14 11  5]\n",
            " [13 14 12  8]\n",
            " [ 1  2  3  4]\n",
            " [14 18 13  9]]\n"
          ]
        }
      ]
    },
    {
      "cell_type": "code",
      "source": [
        "newTwoArray = np.insert(twoDArray, 1, [[91, 82, 73, 64]], axis=1)\n",
        "print(newTwoArray)"
      ],
      "metadata": {
        "colab": {
          "base_uri": "https://localhost:8080/"
        },
        "id": "fV7Nonm5eumU",
        "outputId": "521d4a0f-2b34-4c01-9b75-deb68e517b3e"
      },
      "execution_count": null,
      "outputs": [
        {
          "output_type": "stream",
          "name": "stdout",
          "text": [
            "[[11 91 14 10  6]\n",
            " [10 82 14 11  5]\n",
            " [13 73 14 12  8]\n",
            " [14 64 18 13  9]]\n"
          ]
        }
      ]
    },
    {
      "cell_type": "code",
      "source": [
        "newTwoArray = np.insert(twoDArray, 1, [[91, 82, 73, 64]], axis=0)\n",
        "print(newTwoArray)"
      ],
      "metadata": {
        "colab": {
          "base_uri": "https://localhost:8080/"
        },
        "id": "wQTwQZ-We-bA",
        "outputId": "e3117568-b8bb-4346-9d52-213944723f6b"
      },
      "execution_count": null,
      "outputs": [
        {
          "output_type": "stream",
          "name": "stdout",
          "text": [
            "[[11 14 10  6]\n",
            " [91 82 73 64]\n",
            " [10 14 11  5]\n",
            " [13 14 12  8]\n",
            " [14 18 13  9]]\n"
          ]
        }
      ]
    },
    {
      "cell_type": "code",
      "source": [
        "newTwoArray = np.insert(twoDArray, 2, [[91, 82, 73, 64]], axis=1)\n",
        "print(newTwoArray)"
      ],
      "metadata": {
        "colab": {
          "base_uri": "https://localhost:8080/"
        },
        "id": "J9ViJbJufILJ",
        "outputId": "8599cb92-953d-4dd7-8621-5ffc2bd05a43"
      },
      "execution_count": null,
      "outputs": [
        {
          "output_type": "stream",
          "name": "stdout",
          "text": [
            "[[11 14 91 10  6]\n",
            " [10 14 82 11  5]\n",
            " [13 14 73 12  8]\n",
            " [14 18 64 13  9]]\n"
          ]
        }
      ]
    },
    {
      "cell_type": "markdown",
      "source": [
        "### Accessing the data by index.\n",
        "\n",
        "arr[i][j]\n",
        "* i ---> row\n",
        "* j ---> column"
      ],
      "metadata": {
        "id": "LN58Bhsi5i6V"
      }
    },
    {
      "cell_type": "code",
      "source": [
        "print(twoDArray)\n",
        "def accessElement(array, rowindex, colindex):\n",
        "  if rowindex >= len(array) or colindex >= len(array[0]):\n",
        "    print(\"Out Of the index.\")\n",
        "  else:\n",
        "    return twoDArray[rowindex][colindex]\n",
        "\n",
        "accessElement(array=twoDArray, rowindex=2, colindex=2)\n",
        "\n",
        "# Time Complexity:- O(1)\n",
        "# Space Complexity:- O(1)"
      ],
      "metadata": {
        "id": "OCHsj8-fgiqN",
        "colab": {
          "base_uri": "https://localhost:8080/"
        },
        "outputId": "af7c932c-a30b-41da-fb24-a0a9aae169f9"
      },
      "execution_count": null,
      "outputs": [
        {
          "output_type": "stream",
          "name": "stdout",
          "text": [
            "[[11 14 10  6]\n",
            " [10 14 11  5]\n",
            " [13 14 12  8]\n",
            " [14 18 13  9]]\n"
          ]
        },
        {
          "output_type": "execute_result",
          "data": {
            "text/plain": [
              "12"
            ]
          },
          "metadata": {},
          "execution_count": 4
        }
      ]
    },
    {
      "cell_type": "markdown",
      "source": [
        "### Traversing in Two D Array\n",
        "\n",
        "row index = len(array) <br>\n",
        "column index = len(array[0]) <br>"
      ],
      "metadata": {
        "id": "rM3Rl2Us9O9K"
      }
    },
    {
      "cell_type": "code",
      "source": [
        "for row in range(len(twoDArray)):\n",
        "  for col in range(len(twoDArray[0])):\n",
        "    print(twoDArray[row][col])"
      ],
      "metadata": {
        "id": "hugkQ5rz64QM",
        "colab": {
          "base_uri": "https://localhost:8080/"
        },
        "outputId": "3c6db0fc-729e-427a-e397-81581d2aa4a2"
      },
      "execution_count": null,
      "outputs": [
        {
          "output_type": "stream",
          "name": "stdout",
          "text": [
            "11\n",
            "14\n",
            "10\n",
            "6\n",
            "10\n",
            "14\n",
            "11\n",
            "5\n",
            "13\n",
            "14\n",
            "12\n",
            "8\n",
            "14\n",
            "18\n",
            "13\n",
            "9\n"
          ]
        }
      ]
    },
    {
      "cell_type": "markdown",
      "source": [
        "### Searching Element\n"
      ],
      "metadata": {
        "id": "noQonumrAXDV"
      }
    },
    {
      "cell_type": "code",
      "source": [
        "def searchTD(array, search):\n",
        "  for i in range(len(array)):\n",
        "    for j in range(len(array[0])):\n",
        "      if search == array[i][j]:\n",
        "        print(f\"This is the number {search} at {i} row and {j} column.\")\n",
        "        return\n",
        "\n",
        "  print(f\"Not Found {search}\")\n",
        "\n",
        "searchTD(twoDArray, 12)"
      ],
      "metadata": {
        "colab": {
          "base_uri": "https://localhost:8080/"
        },
        "id": "Ii0Di0CH9zx-",
        "outputId": "a0c63d03-bec7-4494-a1bb-fa3ecc18775e"
      },
      "execution_count": null,
      "outputs": [
        {
          "output_type": "stream",
          "name": "stdout",
          "text": [
            "This is the number 12 at 2 row and 2 column.\n"
          ]
        }
      ]
    },
    {
      "cell_type": "markdown",
      "source": [
        "### Deletion - Two Dimensional array"
      ],
      "metadata": {
        "id": "DT_dFnKXvx5i"
      }
    },
    {
      "cell_type": "code",
      "source": [
        "# newTDArray = np.delete(2DArrayName, which row or column, axis=row-0/column-1)\n",
        "\n",
        "print(f'Before {twoDArray}')\n",
        "newTDArray = np.delete(twoDArray, 1, axis=1)\n",
        "print(f'After {newTDArray}')"
      ],
      "metadata": {
        "id": "xQOZmFiAi0oF"
      },
      "execution_count": 5,
      "outputs": []
    },
    {
      "cell_type": "markdown",
      "source": [
        "Time Complexity : O(mn)<br>\n",
        "Space Complexity : O(1)"
      ],
      "metadata": {
        "id": "JeiIxJ-90yYo"
      }
    },
    {
      "cell_type": "markdown",
      "source": [
        "### Time and Space Complexity of Two Dimensional Array"
      ],
      "metadata": {
        "id": "A4719Vkg1Jwp"
      }
    },
    {
      "cell_type": "markdown",
      "source": [
        "### Time and Space Complexity in One Dimensioal Arrays\n",
        "\n",
        "\n",
        "|Operations                     |\tTime Complexity|\tSpace Complexity        |\n",
        "|:-----------------------------:|:--------------:|:----------------:|\n",
        "|Creating an empty array\t      |O(1)            |\t    O(mn)        |                      \n",
        "|Inserting a value in an array |O(1)/ O(mn)       |\tO(1)              |                      \n",
        "|Traversining a given array\t   |O(mn)             |\tO(1)              |                      \n",
        "|Accessing a given cell\t       |O(1)             |\tO(1)|                    \n",
        "|Searching a given value\t     |O(mn)             |\tO(1)              |                      \n",
        "|Deleting a given value\t       |O(1)/O(mn)        |\tO(1)              |                      \n",
        "                     \n",
        "\n"
      ],
      "metadata": {
        "id": "LHzLyxsl2VCc"
      }
    },
    {
      "cell_type": "markdown",
      "source": [
        "### When to use/avoid Arrays\n",
        "\n",
        "**When to Use**\n",
        "\n",
        "---\n",
        "\n",
        "\n",
        "*   To store multiple variable of same data type\n",
        "*   Random access\n",
        "\n",
        "<br>\n",
        "\n",
        "**When to avoid**\n",
        "\n",
        "---\n",
        "\n",
        "* Same data type elements\n",
        "* Reserve memory\n"
      ],
      "metadata": {
        "id": "63azIhpF24LR"
      }
    },
    {
      "cell_type": "code",
      "source": [],
      "metadata": {
        "id": "M_HA4cM14XcD"
      },
      "execution_count": null,
      "outputs": []
    }
  ]
}