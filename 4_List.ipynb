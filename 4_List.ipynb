{
  "nbformat": 4,
  "nbformat_minor": 0,
  "metadata": {
    "colab": {
      "provenance": [],
      "authorship_tag": "ABX9TyO/tDeTbR2/1Qp+G/32fZMC",
      "include_colab_link": true
    },
    "kernelspec": {
      "name": "python3",
      "display_name": "Python 3"
    },
    "language_info": {
      "name": "python"
    }
  },
  "cells": [
    {
      "cell_type": "markdown",
      "metadata": {
        "id": "view-in-github",
        "colab_type": "text"
      },
      "source": [
        "<a href=\"https://colab.research.google.com/github/Nayan-Bebale/DSA-Practice/blob/main/4_List.ipynb\" target=\"_parent\"><img src=\"https://colab.research.google.com/assets/colab-badge.svg\" alt=\"Open In Colab\"/></a>"
      ]
    },
    {
      "cell_type": "markdown",
      "source": [
        "# Python List\n",
        "\n",
        "A list is a data structure that holds an orderd collection of items.\n",
        "\n",
        "Example:- Shoping list\n",
        "1. Milk\n",
        "2. Eggs\n",
        "3. Cheese\n",
        "4. Butter\n",
        "\n",
        "In Python we write like<br>\n",
        "shopingList = ['Milk', 'Eggs', 'Cheese', 'Butter']\n",
        "\n",
        "[10, 20, 30, 40] ------------------------------> Integer<br>\n",
        "['Nayan', 'Deepek', 'Sanjay'] -----------> Strings<br>\n",
        "['spam', 1, 2.0, 5] ---------------------------> String, Integer, float<br>\n",
        "['spam', 1, 2.0, 5, [10, 20]] --------------> String, Integer, float, nestedList<br>"
      ],
      "metadata": {
        "id": "WdqR_XMk8HSI"
      }
    },
    {
      "cell_type": "code",
      "execution_count": null,
      "metadata": {
        "colab": {
          "base_uri": "https://localhost:8080/"
        },
        "id": "1jzZ75av7QgH",
        "outputId": "363b7044-c0cb-40de-989e-400421c39999"
      },
      "outputs": [
        {
          "output_type": "stream",
          "name": "stdout",
          "text": [
            "[10, 20, 30, 40]\n",
            "['Nayan', 'Deepek', 'Sanjay']\n",
            "['spam', 1, 2.0, 5]\n",
            "['spam', 1, 2.0, 5, [10, 20], ['test', 'to', 'you']]\n",
            "[]\n"
          ]
        }
      ],
      "source": [
        "integer = [10, 20, 30, 40]\n",
        "print(integer)\n",
        "\n",
        "strings = ['Nayan', 'Deepek', 'Sanjay']\n",
        "print(strings)\n",
        "\n",
        "mixeList = ['spam', 1, 2.0, 5]\n",
        "print(mixeList)\n",
        "\n",
        "nestedList = ['spam', 1, 2.0, 5, [10, 20], ['test', 'to', 'you']]\n",
        "print(nestedList)\n",
        "\n",
        "empty = []\n",
        "print(empty)"
      ]
    },
    {
      "cell_type": "markdown",
      "source": [
        "## Accessing a list\n",
        "\n",
        "braket: [index]\n",
        "\n",
        "listName[index]\n",
        "\n",
        "strings = ['Nayan', 'Deepek', 'Sanjay']\n",
        "          <br>\n",
        "positiveIndexing = [0, 1, 2]<br>\n",
        "negativeIndexing = [-3, -2, -1]<br>"
      ],
      "metadata": {
        "id": "TrBoKTU__7Cc"
      }
    },
    {
      "cell_type": "code",
      "source": [
        "print(strings[2])\n",
        "print(strings[-1])\n",
        "print('Sanjay' in strings)"
      ],
      "metadata": {
        "colab": {
          "base_uri": "https://localhost:8080/"
        },
        "id": "0MAEXPjd_vEo",
        "outputId": "72d7660d-bfc5-4a9d-a8af-c42c8e2baf38"
      },
      "execution_count": null,
      "outputs": [
        {
          "output_type": "stream",
          "name": "stdout",
          "text": [
            "Sanjay\n",
            "Sanjay\n",
            "True\n"
          ]
        }
      ]
    },
    {
      "cell_type": "markdown",
      "source": [
        "### Traverse List"
      ],
      "metadata": {
        "id": "D1TNreb4Bgzu"
      }
    },
    {
      "cell_type": "code",
      "source": [
        "for i in strings:\n",
        "  print(i)\n",
        "\n",
        "for i in range(len(strings)):\n",
        "  strings[i] += ' Bebale'\n",
        "  print(strings[i])"
      ],
      "metadata": {
        "colab": {
          "base_uri": "https://localhost:8080/"
        },
        "id": "dFmH2Y_NASMt",
        "outputId": "ec244048-eac2-4d56-d8d6-153e2b4cd9d9"
      },
      "execution_count": null,
      "outputs": [
        {
          "output_type": "stream",
          "name": "stdout",
          "text": [
            "Nayan\n",
            "Deepek\n",
            "Sanjay\n",
            "Nayan Bebale\n",
            "Deepek Bebale\n",
            "Sanjay Bebale\n"
          ]
        }
      ]
    },
    {
      "cell_type": "markdown",
      "source": [
        "## Adding New element In List\n",
        "\n",
        "Adding new value in List\n",
        "\n",
        "L1 = [1, 2, 4, 5, 6]<br>\n",
        "1) By index value  : L1[2] = 3 <br>\n",
        "2) By insert functions : L1.insert(i, elmnt) <br>\n",
        "3) By append functions : list.append(elmnt) <br>"
      ],
      "metadata": {
        "id": "nA_8Sc3VYDQP"
      }
    },
    {
      "cell_type": "code",
      "source": [
        "L1 = [1, 2, 4, 5, 6]\n",
        "L1[2] = 3\n",
        "print(L1)"
      ],
      "metadata": {
        "id": "6IsImljnBnaO",
        "colab": {
          "base_uri": "https://localhost:8080/"
        },
        "outputId": "d73cbddd-23a9-4c86-c00b-8817a901bc37"
      },
      "execution_count": null,
      "outputs": [
        {
          "output_type": "stream",
          "name": "stdout",
          "text": [
            "[1, 2, 3, 5, 6]\n"
          ]
        }
      ]
    },
    {
      "cell_type": "code",
      "source": [
        "L1.insert(4, 11)\n",
        "print(L1)"
      ],
      "metadata": {
        "id": "C6045DA6Y-ZY"
      },
      "execution_count": null,
      "outputs": []
    },
    {
      "cell_type": "code",
      "source": [
        "a = [\"apple\", \"banana\", \"cherry\"]\n",
        "b = [\"Ford\", \"BMW\", \"Volvo\"]\n",
        "a.append(b)"
      ],
      "metadata": {
        "id": "5DGyeDt4Znuc"
      },
      "execution_count": null,
      "outputs": []
    },
    {
      "cell_type": "markdown",
      "source": [
        "### Slicing and Delete\n",
        "\n",
        "Slicing of the element: newList[start : end : steps]"
      ],
      "metadata": {
        "id": "4SwTF09YahD7"
      }
    },
    {
      "cell_type": "markdown",
      "source": [
        "#### Slicing"
      ],
      "metadata": {
        "id": "kMI9ZCWQcTnV"
      }
    },
    {
      "cell_type": "code",
      "source": [
        "newList = ['apple', 'banana', 'cherry','Ford', 'BMW', 'Volvo']\n",
        "print(newList[1::2])"
      ],
      "metadata": {
        "colab": {
          "base_uri": "https://localhost:8080/"
        },
        "id": "8NZQ2hF-ZpkQ",
        "outputId": "568067af-1c9f-4fce-d2c4-971be2080985"
      },
      "execution_count": null,
      "outputs": [
        {
          "output_type": "stream",
          "name": "stdout",
          "text": [
            "['banana', 'Ford', 'Volvo']\n"
          ]
        }
      ]
    },
    {
      "cell_type": "code",
      "source": [
        "newList[0:2] = ['x', 'y']\n",
        "print(newList[:])"
      ],
      "metadata": {
        "colab": {
          "base_uri": "https://localhost:8080/"
        },
        "id": "5-fiLdffbCRX",
        "outputId": "0f1a9f50-598d-4b93-b99d-42380f332fdb"
      },
      "execution_count": null,
      "outputs": [
        {
          "output_type": "stream",
          "name": "stdout",
          "text": [
            "['x', 'y', 'cherry', 'Ford', 'BMW', 'Volvo']\n"
          ]
        }
      ]
    },
    {
      "cell_type": "markdown",
      "source": [
        "#### Deletion\n",
        "- **pop(index)**  :If we want to delete last element **pop()** -------> O(1)/O(n)<br>\n",
        "- delete() : **del listName[index]** -------> O(n)<br>If I want to delete secont index to last index then use **del newList[2:5]**\n",
        "- **remove(element)** ------> O(n)"
      ],
      "metadata": {
        "id": "mwo_zExNcZ-M"
      }
    },
    {
      "cell_type": "code",
      "source": [
        "newList.pop(2)\n",
        "print(newList)"
      ],
      "metadata": {
        "colab": {
          "base_uri": "https://localhost:8080/"
        },
        "id": "YPuqfZRqcONG",
        "outputId": "7714e4b7-02d2-4cb5-e016-d9aa173adbce"
      },
      "execution_count": null,
      "outputs": [
        {
          "output_type": "stream",
          "name": "stdout",
          "text": [
            "['x', 'y', 'Ford', 'BMW', 'Volvo']\n"
          ]
        }
      ]
    },
    {
      "cell_type": "code",
      "source": [
        "del newList[2:5]"
      ],
      "metadata": {
        "id": "YJVUX_g9c6ys"
      },
      "execution_count": null,
      "outputs": []
    },
    {
      "cell_type": "code",
      "source": [
        "print(newList)"
      ],
      "metadata": {
        "colab": {
          "base_uri": "https://localhost:8080/"
        },
        "id": "rAx5yxIFeEBO",
        "outputId": "2ada064d-f395-42ec-c1d2-e8603b7efa68"
      },
      "execution_count": null,
      "outputs": [
        {
          "output_type": "stream",
          "name": "stdout",
          "text": [
            "['x', 'y']\n"
          ]
        }
      ]
    },
    {
      "cell_type": "markdown",
      "source": [
        "### Searching the given value\n",
        "\n",
        "- **By 'IN' operator** : The time complexity for checking membership is O(n) where n is the length of the list L1, and the space complexity is O(1).\n",
        "- **Linear search** :  The time complexity of the code snippet is O(n) where n is the length of the list L1, and the space complexity is O(1)."
      ],
      "metadata": {
        "id": "1oYBX9dUfQ0G"
      }
    },
    {
      "cell_type": "code",
      "source": [
        "# By In operator\n",
        "L1 = [1, 2, 4, 5, 6, 7, 8, 9]\n",
        "\n",
        "print(2 in L1)"
      ],
      "metadata": {
        "colab": {
          "base_uri": "https://localhost:8080/"
        },
        "id": "I8WjLbcFeGPU",
        "outputId": "0303127d-8b1a-43df-a88c-c5d1f187469c"
      },
      "execution_count": null,
      "outputs": [
        {
          "output_type": "stream",
          "name": "stdout",
          "text": [
            "True\n"
          ]
        }
      ]
    },
    {
      "cell_type": "code",
      "source": [
        "# By Linear Search\n",
        "\n",
        "for i in range(len(L1)):\n",
        "  if 2 == i:\n",
        "    print('present')\n",
        "    break\n",
        "else:\n",
        "  print('not present')"
      ],
      "metadata": {
        "colab": {
          "base_uri": "https://localhost:8080/"
        },
        "id": "FCmXYXa8ft24",
        "outputId": "4e6a4452-da79-43db-99b6-e4008c124b7c"
      },
      "execution_count": null,
      "outputs": [
        {
          "output_type": "stream",
          "name": "stdout",
          "text": [
            "present\n"
          ]
        }
      ]
    },
    {
      "cell_type": "markdown",
      "source": [
        "### List Operations Function"
      ],
      "metadata": {
        "id": "RnT3mrwSh4RZ"
      }
    },
    {
      "cell_type": "code",
      "source": [
        "#  + operator : concatenate Lists\n",
        "\n",
        "a = [1, 2, 3, 4]\n",
        "b = [5, 6, 7, 8]\n",
        "c = a+b\n",
        "print(c)\n",
        "\n",
        "# * operator\n",
        "a = a * 4\n",
        "print(a)"
      ],
      "metadata": {
        "colab": {
          "base_uri": "https://localhost:8080/"
        },
        "id": "Nd1BLJzpgW7B",
        "outputId": "fa9e446b-2e2e-4014-86f3-23bc68055c3e"
      },
      "execution_count": null,
      "outputs": [
        {
          "output_type": "stream",
          "name": "stdout",
          "text": [
            "[1, 2, 3, 4, 5, 6, 7, 8]\n",
            "[1, 2, 3, 4, 1, 2, 3, 4, 1, 2, 3, 4, 1, 2, 3, 4]\n"
          ]
        }
      ]
    },
    {
      "cell_type": "markdown",
      "source": [
        "### Strings and List"
      ],
      "metadata": {
        "id": "6edx2H8bmPST"
      }
    },
    {
      "cell_type": "code",
      "source": [
        "a = 'nayan'\n",
        "b = list(a)\n",
        "print(b)"
      ],
      "metadata": {
        "colab": {
          "base_uri": "https://localhost:8080/"
        },
        "id": "czM_N9_0idK9",
        "outputId": "cb447010-87f5-4e09-9d0b-c3e1fcf4296a"
      },
      "execution_count": null,
      "outputs": [
        {
          "output_type": "stream",
          "name": "stdout",
          "text": [
            "['n', 'a', 'y', 'a', 'n']\n"
          ]
        }
      ]
    },
    {
      "cell_type": "code",
      "source": [
        "a = 'span-span1-span2'\n",
        "b = a.split('-')"
      ],
      "metadata": {
        "id": "oxtSinOQmZKd"
      },
      "execution_count": null,
      "outputs": []
    },
    {
      "cell_type": "code",
      "source": [
        "print(b)"
      ],
      "metadata": {
        "colab": {
          "base_uri": "https://localhost:8080/"
        },
        "id": "zWimgmGknNgW",
        "outputId": "c5395a83-0610-45eb-a21c-c3da508ca046"
      },
      "execution_count": null,
      "outputs": [
        {
          "output_type": "stream",
          "name": "stdout",
          "text": [
            "['span', 'span1', 'span2']\n"
          ]
        }
      ]
    },
    {
      "cell_type": "markdown",
      "source": [
        "## Practice Quiz"
      ],
      "metadata": {
        "id": "sqYOu3CkpSwc"
      }
    },
    {
      "cell_type": "markdown",
      "source": [
        "Q-1. What will be the output of the following code block?<br>\n",
        "a=[1,2,3,4,5,6,7,8,9]<br>\n",
        "print(a[::2])"
      ],
      "metadata": {
        "id": "aZCk4XodptC2"
      }
    },
    {
      "cell_type": "code",
      "source": [
        "a=[1,2,3,4,5,6,7,8,9]\n",
        "print(a[::2])\n",
        "# [1, 3, 5, 7, 9]"
      ],
      "metadata": {
        "colab": {
          "base_uri": "https://localhost:8080/"
        },
        "id": "FcPzVz2VnPDB",
        "outputId": "8458c559-abaa-453c-9ec4-50062d894469"
      },
      "execution_count": null,
      "outputs": [
        {
          "output_type": "stream",
          "name": "stdout",
          "text": [
            "[1, 3, 5, 7, 9]\n"
          ]
        }
      ]
    },
    {
      "cell_type": "markdown",
      "source": [
        "Q-2. What will be the output of the following code snippet?\n",
        "```\n",
        "a=[1,2,3,4,5,6,7,8,9]\n",
        "a[::2]=10,20,30,40,50,60\n",
        "print(a)\n",
        "```\n",
        "A. ValueError: attempt to assign sequence of size 6 to extended slice of size 5<br>\n",
        "B. [10, 2, 20, 4, 30, 6, 40, 8, 50, 60]<br>\n",
        "C. [1, 2, 10, 20, 30, 40, 50, 60]<br>\n",
        "D. [1, 10, 3, 20, 5, 30, 7, 40, 9, 50, 60]"
      ],
      "metadata": {
        "id": "MAoTdwtBqAaF"
      }
    },
    {
      "cell_type": "code",
      "source": [
        "a=[1,2,3,4,5,6,7,8,9]\n",
        "a[::2]=10,20,30,40,50,60\n",
        "print(a)"
      ],
      "metadata": {
        "colab": {
          "base_uri": "https://localhost:8080/",
          "height": 210
        },
        "id": "L0BlxcHlpimw",
        "outputId": "531b4ca7-66e4-40e9-dd46-7156ae92b6fe"
      },
      "execution_count": null,
      "outputs": [
        {
          "output_type": "error",
          "ename": "ValueError",
          "evalue": "attempt to assign sequence of size 6 to extended slice of size 5",
          "traceback": [
            "\u001b[0;31m---------------------------------------------------------------------------\u001b[0m",
            "\u001b[0;31mValueError\u001b[0m                                Traceback (most recent call last)",
            "\u001b[0;32m<ipython-input-37-e25a0547818a>\u001b[0m in \u001b[0;36m<cell line: 2>\u001b[0;34m()\u001b[0m\n\u001b[1;32m      1\u001b[0m \u001b[0ma\u001b[0m\u001b[0;34m=\u001b[0m\u001b[0;34m[\u001b[0m\u001b[0;36m1\u001b[0m\u001b[0;34m,\u001b[0m\u001b[0;36m2\u001b[0m\u001b[0;34m,\u001b[0m\u001b[0;36m3\u001b[0m\u001b[0;34m,\u001b[0m\u001b[0;36m4\u001b[0m\u001b[0;34m,\u001b[0m\u001b[0;36m5\u001b[0m\u001b[0;34m,\u001b[0m\u001b[0;36m6\u001b[0m\u001b[0;34m,\u001b[0m\u001b[0;36m7\u001b[0m\u001b[0;34m,\u001b[0m\u001b[0;36m8\u001b[0m\u001b[0;34m,\u001b[0m\u001b[0;36m9\u001b[0m\u001b[0;34m]\u001b[0m\u001b[0;34m\u001b[0m\u001b[0;34m\u001b[0m\u001b[0m\n\u001b[0;32m----> 2\u001b[0;31m \u001b[0ma\u001b[0m\u001b[0;34m[\u001b[0m\u001b[0;34m:\u001b[0m\u001b[0;34m:\u001b[0m\u001b[0;36m2\u001b[0m\u001b[0;34m]\u001b[0m\u001b[0;34m=\u001b[0m\u001b[0;36m10\u001b[0m\u001b[0;34m,\u001b[0m\u001b[0;36m20\u001b[0m\u001b[0;34m,\u001b[0m\u001b[0;36m30\u001b[0m\u001b[0;34m,\u001b[0m\u001b[0;36m40\u001b[0m\u001b[0;34m,\u001b[0m\u001b[0;36m50\u001b[0m\u001b[0;34m,\u001b[0m\u001b[0;36m60\u001b[0m\u001b[0;34m\u001b[0m\u001b[0;34m\u001b[0m\u001b[0m\n\u001b[0m\u001b[1;32m      3\u001b[0m \u001b[0mprint\u001b[0m\u001b[0;34m(\u001b[0m\u001b[0ma\u001b[0m\u001b[0;34m)\u001b[0m\u001b[0;34m\u001b[0m\u001b[0;34m\u001b[0m\u001b[0m\n",
            "\u001b[0;31mValueError\u001b[0m: attempt to assign sequence of size 6 to extended slice of size 5"
          ]
        }
      ]
    },
    {
      "cell_type": "markdown",
      "source": [
        "Q-3. What will be the output of the following code snippet?\n",
        "\n",
        "a=[1,2,3,4,5]\n",
        "print(a[3:0:-1])\n",
        "<br>A. Syntax error\n",
        "<br>B. [4, 3, 2]\n",
        "<br>C. [4, 3]\n",
        "<br>D. [4, 3, 2, 1]"
      ],
      "metadata": {
        "id": "HRCuQTj_rlgy"
      }
    },
    {
      "cell_type": "code",
      "source": [
        "a=[1,2,3,4,5]\n",
        "print(a[3:0:-1])"
      ],
      "metadata": {
        "colab": {
          "base_uri": "https://localhost:8080/"
        },
        "id": "iMskMSiyqaCb",
        "outputId": "0e26b0b8-d67f-4a15-c993-72f84588acbe"
      },
      "execution_count": null,
      "outputs": [
        {
          "output_type": "stream",
          "name": "stdout",
          "text": [
            "[4, 3, 2]\n"
          ]
        }
      ]
    },
    {
      "cell_type": "markdown",
      "source": [
        "Q-4. What will be the output of the following code snippet?\n",
        "```\n",
        "def f(value, values):\n",
        "    v = 1\n",
        "    values[0] = 44\n",
        "t = 3\n",
        "v = [1, 2, 3]\n",
        "f(t, v)\n",
        "print(t, v[0])\n",
        "```\n",
        "<br>A. 1 44\n",
        "<br>B. 3 1\n",
        "<br>C. 3 44\n",
        "<br>D. 1 1"
      ],
      "metadata": {
        "id": "F6CjpbfDFK_w"
      }
    },
    {
      "cell_type": "code",
      "source": [
        "def f(value, values):\n",
        "    v = 1\n",
        "    values[0] = 44\n",
        "t = 3\n",
        "v = [1, 2, 3]\n",
        "f(t, v)\n",
        "print(t, v[0])"
      ],
      "metadata": {
        "id": "RxFVupSVrzsf",
        "colab": {
          "base_uri": "https://localhost:8080/"
        },
        "outputId": "a7f2e0e7-f44d-4c5e-b2a0-a95d6a137f89"
      },
      "execution_count": 1,
      "outputs": [
        {
          "output_type": "stream",
          "name": "stdout",
          "text": [
            "3 44\n"
          ]
        }
      ]
    },
    {
      "cell_type": "markdown",
      "source": [
        "Q-5. What is the correct command to shuffle the following list?\n",
        "\n",
        "fruit=['apple', 'banana', 'papaya', 'cherry']\n",
        "<br>A. fruit.shuffle()\n",
        "<br>B. shuffle(fruit)\n",
        "<br>C. random.shuffle(fruit)\n",
        "<br>D. random.shuffleList(fruit)\n",
        "\n",
        "correct answer:- C\n"
      ],
      "metadata": {
        "id": "DWUaW1IPF7tw"
      }
    },
    {
      "cell_type": "markdown",
      "source": [
        "Q-6. What will be the output of the following code snippet?\n",
        "```\n",
        "data = [[[1, 2], [3, 4]], [[5, 6], [7, 8]]]\n",
        "def fun(m):\n",
        "    v = m[0][0]\n",
        "\n",
        "    for row in m:\n",
        "        for element in row:\n",
        "            if v < element: v = element\n",
        "\n",
        "    return v\n",
        "print(fun(data[0]))\n",
        "```\n",
        "<br>A. 1\n",
        "<br>B. 2\n",
        "<br>C. 3\n",
        "<br>D. 4\n",
        "<br>E. 5\n",
        "<br>F. 6"
      ],
      "metadata": {
        "id": "kMl4-WWLHbgJ"
      }
    },
    {
      "cell_type": "code",
      "source": [
        "data = [[[1, 2], [3, 4]], [[5, 6], [7, 8]]]\n",
        "def fun(m):\n",
        "    v = m[0][0]\n",
        "\n",
        "    for row in m:\n",
        "        for element in row:\n",
        "            if v < element: v = element\n",
        "\n",
        "    return v\n",
        "print(fun(data[0]))"
      ],
      "metadata": {
        "colab": {
          "base_uri": "https://localhost:8080/"
        },
        "id": "4HsLkJtiFaJL",
        "outputId": "82a2afcf-6cec-45ea-eb57-403e9f1e7c4e"
      },
      "execution_count": 2,
      "outputs": [
        {
          "output_type": "stream",
          "name": "stdout",
          "text": [
            "4\n"
          ]
        }
      ]
    },
    {
      "cell_type": "markdown",
      "source": [
        "Q-7. What will be the output of the following code snippet?\n",
        "```\n",
        "arr = [[1, 2, 3, 4],\n",
        "       [4, 5, 6, 7],\n",
        "       [8, 9, 10, 11],\n",
        "       [12, 13, 14, 15]]\n",
        "for i in range(0, 4):\n",
        "    print(arr[i].pop())\n",
        "```\n",
        "<br>A. 1 2 3 4\n",
        "<br>B. 1 4 8 12\n",
        "<br>C. 4 7 11 15\n",
        "<br>D. 12,13,14,15"
      ],
      "metadata": {
        "id": "iRluIeZjIMCM"
      }
    },
    {
      "cell_type": "code",
      "source": [
        "arr = [[1, 2, 3, 4],\n",
        "       [4, 5, 6, 7],\n",
        "       [8, 9, 10, 11],\n",
        "       [12, 13, 14, 15]]\n",
        "for i in range(0, 4):\n",
        "    print(arr[i].pop())"
      ],
      "metadata": {
        "colab": {
          "base_uri": "https://localhost:8080/"
        },
        "id": "Rux4YhLSHxx4",
        "outputId": "bd7183f1-428b-4525-9c40-26d7046efa05"
      },
      "execution_count": 3,
      "outputs": [
        {
          "output_type": "stream",
          "name": "stdout",
          "text": [
            "4\n",
            "7\n",
            "11\n",
            "15\n"
          ]
        }
      ]
    },
    {
      "cell_type": "markdown",
      "source": [
        "beacuse when we not define which index's element we have to remove then it will automatically remove last one element.\n",
        "\n",
        "that's why: it's answer is **C**"
      ],
      "metadata": {
        "id": "v_D7HVA3I4GE"
      }
    },
    {
      "cell_type": "markdown",
      "source": [
        "Q-8. What will be the output of the following code snippet?\n",
        "```\n",
        "def f(i, values = []):\n",
        "    values.append(i)\n",
        "    print (values)\n",
        "    return values\n",
        "f(1)\n",
        "f(2)\n",
        "f(3)\n",
        "```\n",
        "<br>A. [1] [2] [3]\n",
        "<br>B. [1, 2, 3]\n",
        "<br>C. [1] [1, 2] [1, 2, 3]\n",
        "<br>D. 1 2 3\n"
      ],
      "metadata": {
        "id": "Nl50yWcrJ7Ub"
      }
    },
    {
      "cell_type": "code",
      "source": [
        "def f(i, values = []):\n",
        "    values.append(i)\n",
        "    print (values)\n",
        "    return values\n",
        "f(1)\n",
        "f(2)\n",
        "f(3)"
      ],
      "metadata": {
        "colab": {
          "base_uri": "https://localhost:8080/"
        },
        "id": "yXWPUU_nIx9-",
        "outputId": "6719774d-57d8-4bfd-dd2f-2b0eabe65b43"
      },
      "execution_count": 4,
      "outputs": [
        {
          "output_type": "stream",
          "name": "stdout",
          "text": [
            "[1]\n",
            "[1, 2]\n",
            "[1, 2, 3]\n"
          ]
        },
        {
          "output_type": "execute_result",
          "data": {
            "text/plain": [
              "[1, 2, 3]"
            ]
          },
          "metadata": {},
          "execution_count": 4
        }
      ]
    },
    {
      "cell_type": "markdown",
      "source": [
        "Q-9. What will be the output of the following code snippet?\n",
        "```\n",
        "arr = [1, 2, 3, 4, 5, 6]\n",
        "for i in range(1, 6):\n",
        "    arr[i - 1] = arr[i]\n",
        "for i in range(0, 6):\n",
        "    print(arr[i], end = \" \")\n",
        "```\n",
        "<br>A. 1 2 3 4 5 6\n",
        "<br>B. 2 3 4 5 6 1\n",
        "<br>C. 1 1 2 3 4 5\n",
        "<br>D. 2 3 4 5 6 6\n"
      ],
      "metadata": {
        "id": "2u7fEBDtPlxJ"
      }
    },
    {
      "cell_type": "code",
      "source": [
        "arr = [1, 2, 3, 4, 5, 6]\n",
        "for i in range(1, 6):\n",
        "    arr[i - 1] = arr[i]\n",
        "for i in range(0, 6):\n",
        "    print(arr[i], end = \" \")"
      ],
      "metadata": {
        "colab": {
          "base_uri": "https://localhost:8080/"
        },
        "id": "s5kmPpQnKJZQ",
        "outputId": "5e6d7dee-f911-439c-b284-8e61c8070b3a"
      },
      "execution_count": 5,
      "outputs": [
        {
          "output_type": "stream",
          "name": "stdout",
          "text": [
            "2 3 4 5 6 6 "
          ]
        }
      ]
    },
    {
      "cell_type": "markdown",
      "source": [
        "Because it's replace its value not add new value in list."
      ],
      "metadata": {
        "id": "3Ays8Su8P2Xl"
      }
    },
    {
      "cell_type": "markdown",
      "source": [
        "Q-10. What will be the output of the following code snippet?\n",
        "```\n",
        "fruit_list1 = ['Apple', 'Berry', 'Cherry', 'Papaya']\n",
        "fruit_list2 = fruit_list1\n",
        "fruit_list3 = fruit_list1[:]\n",
        "\n",
        "fruit_list2[0] = 'Guava'\n",
        "fruit_list3[1] = 'Kiwi'\n",
        "\n",
        "sum = 0\n",
        "for ls in (fruit_list1, fruit_list2, fruit_list3):\n",
        "    if ls[0] == 'Guava':\n",
        "        sum += 1\n",
        "    if ls[1] == 'Kiwi':\n",
        "        sum += 20\n",
        "\n",
        "print(sum)\n",
        "```\n",
        "<br>A. 22\n",
        "<br>B. 21\n",
        "<br>C. 0\n",
        "<br>D. 43"
      ],
      "metadata": {
        "id": "QilpRsHyQ-43"
      }
    },
    {
      "cell_type": "code",
      "source": [
        "fruit_list1 = ['Apple', 'Berry', 'Cherry', 'Papaya']\n",
        "fruit_list2 = fruit_list1\n",
        "\n",
        "fruit_list3 = fruit_list1[:]\n",
        "\n",
        "fruit_list2[0] = 'Guava'\n",
        "\n",
        "fruit_list3[1] = 'Kiwi'\n",
        "\n",
        "\n",
        "print(fruit_list1)\n",
        "print(fruit_list2)\n",
        "print(fruit_list3)\n",
        "print(\" \")\n",
        "sum = 0\n",
        "for ls in (fruit_list1, fruit_list2, fruit_list3):\n",
        "    print(ls)\n",
        "    print(ls[0])\n",
        "    if ls[0] == 'Guava':\n",
        "        sum += 1\n",
        "    if ls[1] == 'Kiwi':\n",
        "        sum += 20\n",
        "\n",
        "print(sum)"
      ],
      "metadata": {
        "colab": {
          "base_uri": "https://localhost:8080/"
        },
        "id": "MZPUKljLPvY1",
        "outputId": "ae917915-2262-442f-e330-3124a91aaef0"
      },
      "execution_count": 11,
      "outputs": [
        {
          "output_type": "stream",
          "name": "stdout",
          "text": [
            "['Guava', 'Berry', 'Cherry', 'Papaya']\n",
            "['Guava', 'Berry', 'Cherry', 'Papaya']\n",
            "['Guava', 'Berry', 'Cherry', 'Papaya']\n",
            "['Apple', 'Kiwi', 'Cherry', 'Papaya']\n",
            " \n",
            "['Guava', 'Berry', 'Cherry', 'Papaya']\n",
            "Guava\n",
            "['Guava', 'Berry', 'Cherry', 'Papaya']\n",
            "Guava\n",
            "['Apple', 'Kiwi', 'Cherry', 'Papaya']\n",
            "Apple\n",
            "22\n"
          ]
        }
      ]
    },
    {
      "cell_type": "markdown",
      "source": [
        "# Project of Array or List"
      ],
      "metadata": {
        "id": "wAQkWEYvTzyG"
      }
    },
    {
      "cell_type": "code",
      "source": [
        "import numpy as np\n",
        "\n",
        "def temperatureAverage(days):\n",
        "  arr1 = np.array([])\n",
        "  for i in range(days):\n",
        "    temp = int(input(f\"Day {i+1}'s high temperature: \"))\n",
        "    arr1 = np.append(arr1, temp)\n",
        "  average = np.sum(arr1)/days\n",
        "  sum = 0\n",
        "  for i in arr1:\n",
        "    if i > average:\n",
        "      sum += 1\n",
        "  print(\" \")\n",
        "  print(f'Average = {average}')\n",
        "  print(f'{sum} day(s) above average')\n",
        "\n",
        "\n",
        "days = int(input(\"how many day's temperature? \"))\n",
        "temperatureAverage(days)"
      ],
      "metadata": {
        "colab": {
          "base_uri": "https://localhost:8080/"
        },
        "id": "T2kiTGAFRN2Q",
        "outputId": "25d9fc59-1515-488c-9632-00b4c4505830"
      },
      "execution_count": 28,
      "outputs": [
        {
          "output_type": "stream",
          "name": "stdout",
          "text": [
            "how many day's temperature? 3\n",
            "Day 1's high temperature: 20\n",
            "Day 2's high temperature: 30\n",
            "Day 3's high temperature: 40\n",
            " \n",
            "Average = 30.0\n",
            "1 day(s) above average\n"
          ]
        }
      ]
    }
  ]
}