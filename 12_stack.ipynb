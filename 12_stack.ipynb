{
  "nbformat": 4,
  "nbformat_minor": 0,
  "metadata": {
    "colab": {
      "provenance": [],
      "authorship_tag": "ABX9TyMKe6BxNoQaMOm0B8pHTK+A",
      "include_colab_link": true
    },
    "kernelspec": {
      "name": "python3",
      "display_name": "Python 3"
    },
    "language_info": {
      "name": "python"
    }
  },
  "cells": [
    {
      "cell_type": "markdown",
      "metadata": {
        "id": "view-in-github",
        "colab_type": "text"
      },
      "source": [
        "<a href=\"https://colab.research.google.com/github/Nayan-Bebale/DSA-Practice/blob/main/12_stack.ipynb\" target=\"_parent\"><img src=\"https://colab.research.google.com/assets/colab-badge.svg\" alt=\"Open In Colab\"/></a>"
      ]
    },
    {
      "cell_type": "markdown",
      "source": [
        "# Stack\n",
        "\n",
        "Stack is a data structure that stores items in a Last-In/First-Out manner.\n",
        "\n",
        "**LIFO** Method\n",
        " ```\n",
        " __\n",
        "|40| Last In First Out\n",
        "|__|\n",
        "|30|\n",
        "|__|   solution:- 40, 30, 20, 10\n",
        "|20|\n",
        "|__|\n",
        "|10|\n",
        "|__| First In Last Out\n",
        "\n",
        "```\n",
        "\n",
        "**Stack operations**\n",
        "\n",
        "- Create Stack\n",
        "- Push / Append\n",
        "- Pop\n",
        "- isEmpty\n",
        "- isFull\n",
        "- deleteStack"
      ],
      "metadata": {
        "id": "dekIDxz3zXTf"
      }
    },
    {
      "cell_type": "code",
      "execution_count": 12,
      "metadata": {
        "colab": {
          "base_uri": "https://localhost:8080/"
        },
        "id": "T0V6WwCOzAYv",
        "outputId": "2702bc7e-d34b-475b-ce38-cc697961bdd1"
      },
      "outputs": [
        {
          "output_type": "stream",
          "name": "stdout",
          "text": [
            "deque([0, 1, 2, 3])\n",
            "deque([0, 1, 2])\n"
          ]
        }
      ],
      "source": [
        "from collections import deque\n",
        "\n",
        "customStack = deque() # Crate Stack\n",
        "\n",
        "for i in range(4):\n",
        "  customStack.append(i)  # Push/Append method\n",
        "print(customStack)\n",
        "\n",
        "customStack.pop() # Pop method\n",
        "print(customStack)"
      ]
    },
    {
      "cell_type": "markdown",
      "source": [
        "## Stack Creation\n",
        "\n",
        "**Stack using List**\n",
        "  - Easy to implement\n",
        "  - Speed problem when it grows\n",
        "\n",
        "**Stack using Linked List**\n",
        "  - Fast Performance\n",
        "  - Implementation is not easy"
      ],
      "metadata": {
        "id": "k1sfnyGBHyoU"
      }
    },
    {
      "cell_type": "code",
      "source": [
        "class Stack:\n",
        "  def __init__(self):\n",
        "    self.list = []          #--------------> O(1) (Time Complexity)\n",
        "                                          #  O(1) (Space Complexity)\n",
        "  def __str__(self):\n",
        "    values = self.list.reverse()\n",
        "    values = [str(a) for a in self.list]\n",
        "    return '\\n'.join(values)\n",
        "\n",
        "  # isEmpty\n",
        "  def isEmpty(self):\n",
        "    if self.list == [] or self.list is None:\n",
        "      return True\n",
        "    return False\n",
        "\n",
        "  # Push\n",
        "  def push(self, value):\n",
        "    self.list.append(value)\n",
        "    return \"Value is push is stack\"\n",
        "\n",
        "  # Pop\n",
        "  def pop(self):\n",
        "    if self.isEmpty():\n",
        "      return \"stack is empty\"\n",
        "    return self.list.pop()\n",
        "\n",
        "  # peek\n",
        "  def peek(self):\n",
        "    if self.isEmpty():\n",
        "      return \"stack is empty\"\n",
        "    return self.list[-1]\n",
        "\n",
        "  # delete\n",
        "  def delete(self):\n",
        "    self.list = None\n",
        "\n",
        "\n",
        "stack = Stack()\n",
        "stack.push(1)\n",
        "stack.push(2)\n",
        "stack.push(3)\n",
        "print(stack.isEmpty())\n",
        "print(stack.pop())\n",
        "print(stack.peek())\n",
        "stack.delete()\n",
        "print(stack.isEmpty())"
      ],
      "metadata": {
        "colab": {
          "base_uri": "https://localhost:8080/"
        },
        "id": "ansm91ox4CVX",
        "outputId": "31c537eb-94a0-43c7-849d-f81c118fc95a"
      },
      "execution_count": 27,
      "outputs": [
        {
          "output_type": "stream",
          "name": "stdout",
          "text": [
            "False\n",
            "3\n",
            "2\n",
            "True\n"
          ]
        }
      ]
    },
    {
      "cell_type": "markdown",
      "source": [
        "## Stack using size\n",
        "\n"
      ],
      "metadata": {
        "id": "bjonYNsNQGm7"
      }
    },
    {
      "cell_type": "code",
      "source": [
        "class Stack:\n",
        "  def __init__(self, maxSize):\n",
        "    self.maxSize = maxSize\n",
        "    self.list = []          #--------------> O(1) (Time Complexity)\n",
        "                                          #  O(1) (Space Complexity)\n",
        "  def __str__(self):\n",
        "    values = self.list.reverse()\n",
        "    values = [str(a) for a in self.list]\n",
        "    return '\\n'.join(values)\n",
        "\n",
        "  # isEmpty\n",
        "  def isEmpty(self):\n",
        "    if self.list == [] or self.list is None:\n",
        "      return True\n",
        "    return False\n",
        "\n",
        "  # isFull\n",
        "  def isFull(self):\n",
        "    if not self.isEmpty():\n",
        "      if len(self.list) ==  self.maxSize:\n",
        "        return True\n",
        "    return False\n",
        "\n",
        "  # Push\n",
        "  def push(self, value):\n",
        "    if self.isFull():\n",
        "      return \"The stack is full\"\n",
        "    self.list.append(value)\n",
        "    return \"The element has been successfully inserted\"\n",
        "\n",
        "  # Pop\n",
        "  def pop(self):\n",
        "    if self.isEmpty():\n",
        "      return \"stack is empty\"\n",
        "    return self.list.pop()\n",
        "\n",
        "  # peek\n",
        "  def peek(self):\n",
        "    if self.isEmpty():\n",
        "      return \"stack is empty\"\n",
        "    return self.list[-1]\n",
        "\n",
        "  # delete\n",
        "  def delete(self):\n",
        "    self.list = None\n",
        "\n",
        "stack = Stack(3)\n",
        "stack.push(1)\n",
        "stack.push(2)\n",
        "stack.push(3)\n",
        "stack.push(4)\n",
        "\n",
        "print(stack.isFull())\n",
        "print(stack.pop())\n",
        "print(stack.peek())\n",
        "stack.delete()\n",
        "print(stack.isFull())\n",
        "print(stack.isEmpty())\n"
      ],
      "metadata": {
        "colab": {
          "base_uri": "https://localhost:8080/"
        },
        "id": "m17Y2Kw_KQpz",
        "outputId": "85969eac-64f0-40bc-af56-fa2e71b534be"
      },
      "execution_count": 37,
      "outputs": [
        {
          "output_type": "stream",
          "name": "stdout",
          "text": [
            "True\n",
            "3\n",
            "2\n",
            "False\n",
            "True\n"
          ]
        }
      ]
    },
    {
      "cell_type": "markdown",
      "source": [
        "<img src=\"https://raw.githubusercontent.com/Nayan-Bebale/DSA-Images/main/stackTimeSpace.png\"/>"
      ],
      "metadata": {
        "id": "Imcvg2O5TtTx"
      }
    },
    {
      "cell_type": "code",
      "source": [],
      "metadata": {
        "id": "YbldMx6QRg-u"
      },
      "execution_count": null,
      "outputs": []
    }
  ]
}