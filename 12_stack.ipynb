{
  "nbformat": 4,
  "nbformat_minor": 0,
  "metadata": {
    "colab": {
      "provenance": [],
      "authorship_tag": "ABX9TyO0R55BqsCw9iF2yon9GZwy",
      "include_colab_link": true
    },
    "kernelspec": {
      "name": "python3",
      "display_name": "Python 3"
    },
    "language_info": {
      "name": "python"
    }
  },
  "cells": [
    {
      "cell_type": "markdown",
      "metadata": {
        "id": "view-in-github",
        "colab_type": "text"
      },
      "source": [
        "<a href=\"https://colab.research.google.com/github/Nayan-Bebale/DSA-Practice/blob/main/12_stack.ipynb\" target=\"_parent\"><img src=\"https://colab.research.google.com/assets/colab-badge.svg\" alt=\"Open In Colab\"/></a>"
      ]
    },
    {
      "cell_type": "markdown",
      "source": [
        "# Stack\n",
        "\n",
        "Stack is a data structure that stores items in a Last-In/First-Out manner.\n",
        "\n",
        "**LIFO** Method\n",
        " ```\n",
        " __\n",
        "|40| Last In First Out\n",
        "|__|\n",
        "|30|\n",
        "|__|   solution:- 40, 30, 20, 10\n",
        "|20|\n",
        "|__|\n",
        "|10|\n",
        "|__| First In Last Out\n",
        "\n",
        "```\n",
        "\n",
        "**Stack operations**\n",
        "\n",
        "- Create Stack\n",
        "- Push / Append\n",
        "- Pop\n",
        "- isEmpty\n",
        "- isFull\n",
        "- deleteStack"
      ],
      "metadata": {
        "id": "dekIDxz3zXTf"
      }
    },
    {
      "cell_type": "code",
      "execution_count": null,
      "metadata": {
        "colab": {
          "base_uri": "https://localhost:8080/"
        },
        "id": "T0V6WwCOzAYv",
        "outputId": "2702bc7e-d34b-475b-ce38-cc697961bdd1"
      },
      "outputs": [
        {
          "output_type": "stream",
          "name": "stdout",
          "text": [
            "deque([0, 1, 2, 3])\n",
            "deque([0, 1, 2])\n"
          ]
        }
      ],
      "source": [
        "from collections import deque\n",
        "\n",
        "customStack = deque() # Crate Stack\n",
        "\n",
        "for i in range(4):\n",
        "  customStack.append(i)  # Push/Append method\n",
        "print(customStack)\n",
        "\n",
        "customStack.pop() # Pop method\n",
        "print(customStack)"
      ]
    },
    {
      "cell_type": "markdown",
      "source": [
        "## Stack Creation\n",
        "\n",
        "**Stack using List**\n",
        "  - Easy to implement\n",
        "  - Speed problem when it grows\n",
        "\n",
        "**Stack using Linked List**\n",
        "  - Fast Performance\n",
        "  - Implementation is not easy"
      ],
      "metadata": {
        "id": "k1sfnyGBHyoU"
      }
    },
    {
      "cell_type": "code",
      "source": [
        "class Stack:\n",
        "  def __init__(self):\n",
        "    self.list = []          #--------------> O(1) (Time Complexity)\n",
        "                                          #  O(1) (Space Complexity)\n",
        "  def __str__(self):\n",
        "    values = self.list.reverse()\n",
        "    values = [str(a) for a in self.list]\n",
        "    return '\\n'.join(values)\n",
        "\n",
        "  # isEmpty\n",
        "  def isEmpty(self):\n",
        "    if self.list == [] or self.list is None:\n",
        "      return True\n",
        "    return False\n",
        "\n",
        "  # Push\n",
        "  def push(self, value):\n",
        "    self.list.append(value)\n",
        "    return \"Value is push is stack\"\n",
        "\n",
        "  # Pop\n",
        "  def pop(self):\n",
        "    if self.isEmpty():\n",
        "      return \"stack is empty\"\n",
        "    return self.list.pop()\n",
        "\n",
        "  # peek\n",
        "  def peek(self):\n",
        "    if self.isEmpty():\n",
        "      return \"stack is empty\"\n",
        "    return self.list[-1]\n",
        "\n",
        "  # delete\n",
        "  def delete(self):\n",
        "    self.list = None\n",
        "\n",
        "\n",
        "stack = Stack()\n",
        "stack.push(1)\n",
        "stack.push(2)\n",
        "stack.push(3)\n",
        "print(stack.isEmpty())\n",
        "print(stack.pop())\n",
        "print(stack.peek())\n",
        "stack.delete()\n",
        "print(stack.isEmpty())"
      ],
      "metadata": {
        "colab": {
          "base_uri": "https://localhost:8080/"
        },
        "id": "ansm91ox4CVX",
        "outputId": "31c537eb-94a0-43c7-849d-f81c118fc95a"
      },
      "execution_count": null,
      "outputs": [
        {
          "output_type": "stream",
          "name": "stdout",
          "text": [
            "False\n",
            "3\n",
            "2\n",
            "True\n"
          ]
        }
      ]
    },
    {
      "cell_type": "markdown",
      "source": [
        "## Stack using size\n",
        "\n"
      ],
      "metadata": {
        "id": "bjonYNsNQGm7"
      }
    },
    {
      "cell_type": "code",
      "source": [
        "class Stack:\n",
        "  def __init__(self, maxSize):\n",
        "    self.maxSize = maxSize\n",
        "    self.list = []          #--------------> O(1) (Time Complexity)\n",
        "                                          #  O(1) (Space Complexity)\n",
        "  def __str__(self):\n",
        "    values = self.list.reverse()\n",
        "    values = [str(a) for a in self.list]\n",
        "    return '\\n'.join(values)\n",
        "\n",
        "  # isEmpty\n",
        "  def isEmpty(self):\n",
        "    if self.list == [] or self.list is None:\n",
        "      return True\n",
        "    return False\n",
        "\n",
        "  # isFull\n",
        "  def isFull(self):\n",
        "    if not self.isEmpty():\n",
        "      if len(self.list) ==  self.maxSize:\n",
        "        return True\n",
        "    return False\n",
        "\n",
        "  # Push\n",
        "  def push(self, value):\n",
        "    if self.isFull():\n",
        "      return \"The stack is full\"\n",
        "    self.list.append(value)\n",
        "    return \"The element has been successfully inserted\"\n",
        "\n",
        "  # Pop\n",
        "  def pop(self):\n",
        "    if self.isEmpty():\n",
        "      return \"stack is empty\"\n",
        "    return self.list.pop()\n",
        "\n",
        "  # peek\n",
        "  def peek(self):\n",
        "    if self.isEmpty():\n",
        "      return \"stack is empty\"\n",
        "    return self.list[-1]\n",
        "\n",
        "  # delete\n",
        "  def delete(self):\n",
        "    self.list = None\n",
        "\n",
        "stack = Stack(3)\n",
        "stack.push(1)\n",
        "stack.push(2)\n",
        "stack.push(3)\n",
        "stack.push(4)\n",
        "\n",
        "print(stack.isFull())\n",
        "print(stack.pop())\n",
        "print(stack.peek())\n",
        "stack.delete()\n",
        "print(stack.isFull())\n",
        "print(stack.isEmpty())\n"
      ],
      "metadata": {
        "colab": {
          "base_uri": "https://localhost:8080/"
        },
        "id": "m17Y2Kw_KQpz",
        "outputId": "85969eac-64f0-40bc-af56-fa2e71b534be"
      },
      "execution_count": null,
      "outputs": [
        {
          "output_type": "stream",
          "name": "stdout",
          "text": [
            "True\n",
            "3\n",
            "2\n",
            "False\n",
            "True\n"
          ]
        }
      ]
    },
    {
      "cell_type": "markdown",
      "source": [
        "<img src=\"https://raw.githubusercontent.com/Nayan-Bebale/DSA-Images/main/stackTimeSpace.png\"/>"
      ],
      "metadata": {
        "id": "Imcvg2O5TtTx"
      }
    },
    {
      "cell_type": "markdown",
      "source": [
        "## Stack using Linked List\n",
        "\n",
        "**Create a Stack <br>Create an object of Linked List class**\n",
        "```\n",
        " __________\n",
        "|Head |null|\n",
        "|_____|____|\n",
        "\n",
        "```\n",
        "\n",
        "\n",
        "**Push() Method**<br>\n",
        "<img src=\"https://raw.githubusercontent.com/Nayan-Bebale/DSA-Images/main/push.png\" height=150px/>\n",
        "\n",
        "**Pop() Method**<br>\n",
        "<img src=\"https://raw.githubusercontent.com/Nayan-Bebale/DSA-Images/main/pop.png\" width=240/>"
      ],
      "metadata": {
        "id": "ZqQDV_oS0tjn"
      }
    },
    {
      "cell_type": "code",
      "source": [
        "from os import sep\n",
        "class Node:\n",
        "  def __init__(self, value=None):\n",
        "    self.value = value\n",
        "    self.next = next\n",
        "\n",
        "class LinkedList:\n",
        "  def __init__(self):\n",
        "    self.head = None\n",
        "\n",
        "  def __iter__(self):\n",
        "    curNode = self.head\n",
        "    while curNode:\n",
        "      yield curNode\n",
        "      curNode = curNode.next\n",
        "\n",
        "class Stack:\n",
        "  def __init__(self):\n",
        "    self.LinkedList = LinkedList()\n",
        "\n",
        "  def __str__(self):\n",
        "    values = [str(x.value) for x in self.LinkedList]\n",
        "    return '\\n'.join(values)\n",
        "\n",
        "\n",
        "  def isEmpty(self):\n",
        "    if self.LinkedList.head == None:\n",
        "      return True\n",
        "    return False\n",
        "\n",
        "  def push(self, value):\n",
        "    node = Node(value)\n",
        "    node.next = self.LinkedList.head\n",
        "    self.LinkedList.head = node\n",
        "\n",
        "  def pop(self):\n",
        "    if self.isEmpty():\n",
        "      return \"Stack is empty\"\n",
        "    nodeValue = self.LinkedList.head.value\n",
        "    self.LinkedList.head = self.LinkedList.head.next\n",
        "    return nodeValue\n",
        "\n",
        "  def peek(self):\n",
        "    if self.isEmpty():\n",
        "      return \"Stack is empty\"\n",
        "    nodeValue = self.LinkedList.head.value\n",
        "    return nodeValue\n",
        "\n",
        "  def delete(self):\n",
        "    if self.isEmpty():\n",
        "      return \"Stack is empty\"\n",
        "    self.LinkedList.head = None\n",
        "\n",
        "stack = Stack()\n",
        "stack.isEmpty()\n",
        "stack.push(1)\n",
        "stack.push(2)\n",
        "stack.push(3)\n",
        "stack.push(4)\n",
        "print(stack)\n",
        "print(\"___________\")\n",
        "stack.pop()\n",
        "print(stack)\n",
        "print(\"___________\")\n",
        "print(stack.peek())"
      ],
      "metadata": {
        "id": "YbldMx6QRg-u",
        "colab": {
          "base_uri": "https://localhost:8080/"
        },
        "outputId": "84a9eb2d-d83f-49d0-8fdf-6bfc6ade2439"
      },
      "execution_count": null,
      "outputs": [
        {
          "output_type": "stream",
          "name": "stdout",
          "text": [
            "4\n",
            "3\n",
            "2\n",
            "1\n",
            "___________\n",
            "3\n",
            "2\n",
            "1\n",
            "___________\n",
            "3\n"
          ]
        }
      ]
    },
    {
      "cell_type": "markdown",
      "source": [
        "<img src=\"https://raw.githubusercontent.com/Nayan-Bebale/DSA-Images/main/timeComplexity.png\"/>"
      ],
      "metadata": {
        "id": "Anbhj131Z_7M"
      }
    },
    {
      "cell_type": "markdown",
      "source": [
        "## When to use / avoid Stack\n",
        "\n",
        "**Use:**\n",
        "  - LIFO fuctionality\n",
        "  - The chance of data corruption is minimum\n",
        "\n",
        "**Avoid:**\n",
        "  - Random access is not possible"
      ],
      "metadata": {
        "id": "SCk6M-mMalPd"
      }
    },
    {
      "cell_type": "markdown",
      "source": [
        "## Some Stack questions\n",
        "\n",
        "\n",
        "```\n",
        "Given a string s containing just the characters '(', ')', '{', '}', '[' and ']', determine if the input string is valid.\n",
        "\n",
        "An input string is valid if:\n",
        "\n",
        "Open brackets must be closed by the same type of brackets.\n",
        "Open brackets must be closed in the correct order.\n",
        "Every close bracket has a corresponding open bracket of the same type.\n",
        "\n",
        "\n",
        "Example 1:\n",
        "\n",
        "Input: s = \"()\"\n",
        "Output: true\n",
        "Example 2:\n",
        "\n",
        "Input: s = \"()[]{}\"\n",
        "Output: true\n",
        "Example 3:\n",
        "\n",
        "Input: s = \"(]\"\n",
        "Output: false\n",
        "\n",
        "\n",
        "Constraints:\n",
        "\n",
        "1 <= s.length <= 104\n",
        "s consists of parentheses only '()[]{}'.\n",
        "```"
      ],
      "metadata": {
        "id": "OtT3Fk1SlCkR"
      }
    },
    {
      "cell_type": "code",
      "source": [
        "s = \"([{}])\"\n",
        "stack = list(s)\n",
        "chack = False\n",
        "for i in range(len(stack)-1):\n",
        "  if stack[i] == '(' and stack[i+1] == ')':\n",
        "    chack = True\n",
        "  elif stack[i] == '[' and stack[i+1] == ']':\n",
        "    chack = True\n",
        "  elif stack[i] == '{' and stack[i+1] == '}':\n",
        "    chack = True\n",
        "  else:\n",
        "    chack = False\n",
        "\n",
        "print(chack)\n"
      ],
      "metadata": {
        "colab": {
          "base_uri": "https://localhost:8080/"
        },
        "id": "srFFLSmiSq45",
        "outputId": "1c31d9bc-17c7-4b28-cd6b-ddb56306f9df"
      },
      "execution_count": null,
      "outputs": [
        {
          "output_type": "stream",
          "name": "stdout",
          "text": [
            "False\n"
          ]
        }
      ]
    },
    {
      "cell_type": "code",
      "source": [
        "s = \"([{}])\"\n",
        "first = s[:len(s)//2]\n",
        "last = s[len(s)//2:]\n",
        "print(first)\n",
        "print(last[::-1])\n"
      ],
      "metadata": {
        "colab": {
          "base_uri": "https://localhost:8080/"
        },
        "id": "Dv7dGGAjmUlX",
        "outputId": "b301beb0-0e02-4053-84d8-550dd2b12b10"
      },
      "execution_count": null,
      "outputs": [
        {
          "output_type": "stream",
          "name": "stdout",
          "text": [
            "([{\n",
            ")]}\n"
          ]
        }
      ]
    },
    {
      "cell_type": "code",
      "source": [
        "s = \"([{}])\"\n",
        "first = s[:len(s)//2]\n",
        "last = s[len(s)//2:]\n",
        "rev_last = last[::-1]\n",
        "print(last)\n",
        "chack = False\n",
        "for i in range(len(first)):\n",
        "  if first[i]  == rev_last[i]:\n",
        "    chack = True\n",
        "  elif first[i] ==rev_last[i]:\n",
        "    chack = True\n",
        "  elif first[i] == rev_last[i]:\n",
        "    chack = True\n",
        "  else:\n",
        "    chack = False\n",
        "\n",
        "print(chack)\n"
      ],
      "metadata": {
        "colab": {
          "base_uri": "https://localhost:8080/"
        },
        "id": "w7LpOeggm5PB",
        "outputId": "721c9802-26d7-4264-92ea-707e7dd339fd"
      },
      "execution_count": null,
      "outputs": [
        {
          "output_type": "stream",
          "name": "stdout",
          "text": [
            "}])\n",
            "False\n"
          ]
        }
      ]
    },
    {
      "cell_type": "code",
      "source": [
        "s = \"(){}}{\"\n",
        "first = s[:len(s)//2]\n",
        "last = s[len(s)//2:]\n",
        "rev_last = last[::-1]\n",
        "check = False\n",
        "for i in range(len(first)):\n",
        "  if first[i]+rev_last[i] == '[]':\n",
        "    check = True\n",
        "  elif first[i]+rev_last[i] == '()':\n",
        "    check = True\n",
        "  elif first[i]+rev_last[i] == '{}':\n",
        "    check = True\n",
        "  else:\n",
        "    check = False\n",
        "\n",
        "print(check)"
      ],
      "metadata": {
        "colab": {
          "base_uri": "https://localhost:8080/"
        },
        "id": "i4Itue10sAss",
        "outputId": "4a476204-9ba5-44d8-e041-6451edb6c4ec"
      },
      "execution_count": null,
      "outputs": [
        {
          "output_type": "stream",
          "name": "stdout",
          "text": [
            "True\n"
          ]
        }
      ]
    },
    {
      "cell_type": "code",
      "source": [
        "class Solution:\n",
        "    def isValid(self, s):\n",
        "        stack = []\n",
        "        matching_bracket = {')': '(', '}': '{', ']': '['}\n",
        "\n",
        "        for char in s:\n",
        "            if char in matching_bracket.values():\n",
        "                stack.append(char)\n",
        "            elif char in  matching_bracket:\n",
        "                if stack and stack[-1] == matching_bracket[char]:\n",
        "                    stack.pop()\n",
        "                else:\n",
        "                    return False\n",
        "            else:\n",
        "                return False\n",
        "        return not stack"
      ],
      "metadata": {
        "id": "ckm25sDjvm_h"
      },
      "execution_count": null,
      "outputs": []
    },
    {
      "cell_type": "markdown",
      "source": [
        "```\n",
        "Evaluate Reverse Polish Notation\n",
        "Solved\n",
        "You are given an array of strings tokens that represents a valid arithmetic expression in Reverse Polish Notation.\n",
        "\n",
        "Return the integer that represents the evaluation of the expression.\n",
        "\n",
        "The operands may be integers or the results of other operations.\n",
        "The operators include '+', '-', '*', and '/'.\n",
        "Assume that division between integers always truncates toward zero.\n",
        "Example 1:\n",
        "\n",
        "Input: tokens = [\"1\",\"2\",\"+\",\"3\",\"*\",\"4\",\"-\"]\n",
        "\n",
        "Output: 5\n",
        "\n",
        "Explanation: ((1 + 2) * 3) - 4 = 5\n",
        "Constraints:\n",
        "\n",
        "1 <= tokens.length <= 1000.\n",
        "tokens[i] is \"+\", \"-\", \"*\", or \"/\", or a string representing an integer in the range [-100, 100].\n",
        "```"
      ],
      "metadata": {
        "id": "vIW86qTwJELm"
      }
    },
    {
      "cell_type": "code",
      "source": [
        "tokens = [\"4\",\"13\",\"5\",\"/\",\"+\"]\n",
        "stack = []\n",
        "\n",
        "for token in tokens:\n",
        "  if token in \"+-*/\":\n",
        "    b = stack.pop()\n",
        "    a = stack.pop()\n",
        "    if token == '+':\n",
        "      stack.append(a+b)\n",
        "    elif token == '-':\n",
        "      stack.append(a-b)\n",
        "    elif token == '*':\n",
        "      stack.append(a*b)\n",
        "    elif token == '/':\n",
        "      stack.append(int(a/b))\n",
        "  else:\n",
        "    stack.append(int(token))\n",
        "\n",
        "print(stack[0])"
      ],
      "metadata": {
        "colab": {
          "base_uri": "https://localhost:8080/"
        },
        "id": "cR5Ga9kWAGUZ",
        "outputId": "c7f2b208-75c1-40f6-fe47-a4e6ea06557c"
      },
      "execution_count": 8,
      "outputs": [
        {
          "output_type": "stream",
          "name": "stdout",
          "text": [
            "13 5\n",
            "4 2\n",
            "6\n"
          ]
        }
      ]
    },
    {
      "cell_type": "markdown",
      "source": [
        "<a href=\"https://cscircles.cemc.uwaterloo.ca/visualize#code=tokens+%3D+%5B%224%22,%2213%22,%225%22,%22/%22,%22%2B%22%5D%0Astack+%3D+%5B%5D%0A%0Afor+token+in+tokens%3A%0A++if+token+in+%22%2B-*/%22%3A%0A++++b+%3D+stack.pop()%0A++++a+%3D+stack.pop()%0A++++if+token+%3D%3D+'%2B'%3A%0A++++++stack.append(a%2Bb)%0A++++elif+token+%3D%3D+'-'%3A%0A++++++stack.append(a-b)%0A++++elif+token+%3D%3D+'*'%3A%0A++++++stack.append(a*b)%0A++++elif+token+%3D%3D+'/'%3A%0A++++++stack.append(int(a/b))%0A++else%3A%0A++++stack.append(int(token))%0A%0Aprint(stack%5B0%5D)&mode=display&raw_input=&curInstr=28\">Visualize the code</a>"
      ],
      "metadata": {
        "id": "l5jkICB0Eodc"
      }
    },
    {
      "cell_type": "code",
      "source": [
        "tokens = [\"1\",\"2\",\"+\",\"3\",\"*\",\"4\",\"-\"]\n",
        "\n",
        "numstak = []\n",
        "output = int(tokens[0])\n",
        "for i in range(1, len(tokens)):\n",
        "  if tokens[i] == '+':\n",
        "    output += numstak[-1]\n",
        "    numstak = []\n",
        "  elif tokens[i] == '-':\n",
        "    output -= numstak[-1]\n",
        "    numstak = []\n",
        "  elif tokens[i] == '*':\n",
        "    output *= numstak[-1]\n",
        "    numstak = []\n",
        "  elif tokens[i] == '/':\n",
        "    output /= numstak[-1]\n",
        "    numstak = []\n",
        "  else:\n",
        "    numstak.append(int(tokens[i]))\n",
        "\n",
        "\n",
        "print(output)"
      ],
      "metadata": {
        "colab": {
          "base_uri": "https://localhost:8080/"
        },
        "id": "1GupTGzm3xKA",
        "outputId": "dc791aea-e0ae-441b-a592-89122291e331"
      },
      "execution_count": 5,
      "outputs": [
        {
          "output_type": "stream",
          "name": "stdout",
          "text": [
            "0.8\n"
          ]
        }
      ]
    },
    {
      "cell_type": "code",
      "source": [],
      "metadata": {
        "id": "S-mH4MZb8bMl"
      },
      "execution_count": null,
      "outputs": []
    }
  ]
}