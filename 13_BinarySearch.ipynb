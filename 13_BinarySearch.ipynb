{
  "nbformat": 4,
  "nbformat_minor": 0,
  "metadata": {
    "colab": {
      "provenance": [],
      "authorship_tag": "ABX9TyNZQ+fhxu1MADcPIk/tA6gd",
      "include_colab_link": true
    },
    "kernelspec": {
      "name": "python3",
      "display_name": "Python 3"
    },
    "language_info": {
      "name": "python"
    }
  },
  "cells": [
    {
      "cell_type": "markdown",
      "metadata": {
        "id": "view-in-github",
        "colab_type": "text"
      },
      "source": [
        "<a href=\"https://colab.research.google.com/github/Nayan-Bebale/DSA-Practice/blob/main/13_BinarySearch.ipynb\" target=\"_parent\"><img src=\"https://colab.research.google.com/assets/colab-badge.svg\" alt=\"Open In Colab\"/></a>"
      ]
    },
    {
      "cell_type": "markdown",
      "source": [
        "# Binary Search\n",
        "\n",
        "## Binary Search Algorithm – Iterative and Recursive Implementation\n",
        "\n",
        "\n",
        "**Binary search** is a search algorithm used to find the position of a target value within a **sorted** array. It works by repeatedly dividing the search interval in half until the target value is found or the interval is empty. The search interval is halved by comparing the target element with the middle value of the search space.\n",
        "\n",
        "<img src=\"https://media.geeksforgeeks.org/wp-content/uploads/20240506155201/binnary-search-.webp\" height=230/>\n",
        "\n",
        "\n",
        "### Conditions to apply Binary Search Algorithm in a Data Structure:\n",
        "To apply Binary Search algorithm:\n",
        "\n",
        "- The data structure must be sorted.\n",
        "- Access to any element of the data structure should take - constant time."
      ],
      "metadata": {
        "id": "CyKPh6CKTgxS"
      }
    },
    {
      "cell_type": "markdown",
      "source": [
        "## Top interview questions on Binary search to get hands on\n",
        "\n",
        "<table>\n",
        "<thead>\n",
        "<tr>\n",
        "<th style=\"width: 233.333px;\">\n",
        "<h3><span>Title</span></h3>\n",
        "</th>\n",
        "<th style=\"width: 233.333px;\">\n",
        "<p dir=\"ltr\"><span>Article(Editorial ) Link</span></p>\n",
        "</th>\n",
        "<th style=\"width: 233.333px;\">\n",
        "<p dir=\"ltr\"><span>Practice Link</span></p>\n",
        "</th>\n",
        "</tr>\n",
        "</thead>\n",
        "<tbody>\n",
        "<tr>\n",
        "<th style=\"width: 233.333px;\">\n",
        "<p dir=\"ltr\"><b><strong>Lower and Upper Bound</strong></b></p>\n",
        "</th>\n",
        "<td style=\"width: 233.333px;\">\n",
        "<p dir=\"ltr\"><a href=\"https://www.geeksforgeeks.org/implementing-upper_bound-and-lower_bound-in-c\" rel=\"noopener\"><span>Read</span></a></p>\n",
        "</td>\n",
        "<td style=\"width: 233.333px;\">\n",
        "<p dir=\"ltr\"><a href=\"https://practice.geeksforgeeks.org/problems/floor-in-a-sorted-array-1587115620/1\" rel=\"noopener\"><span>Solve</span></a></p>\n",
        "</td>\n",
        "</tr>\n",
        "<tr>\n",
        "<th style=\"width: 233.333px;\">\n",
        "<p dir=\"ltr\"><span>Search Insert Position</span></p>\n",
        "</th>\n",
        "<td style=\"width: 233.333px;\">\n",
        "<p dir=\"ltr\"><a href=\"https://www.geeksforgeeks.org/search-insert-position-of-k-in-a-sorted-array\" rel=\"noopener\"><span>Read</span></a></p>\n",
        "</td>\n",
        "<td style=\"width: 233.333px;\">\n",
        "<p dir=\"ltr\"><a href=\"https://practice.geeksforgeeks.org/problems/search-insert-position-of-k-in-a-sorted-array/1\" rel=\"noopener\"><span>Solve</span></a></p>\n",
        "</td>\n",
        "</tr>\n",
        "<tr>\n",
        "<th style=\"width: 233.333px;\">\n",
        "<p dir=\"ltr\"><span>Sqrt(x)</span></p>\n",
        "</th>\n",
        "<td style=\"width: 233.333px;\">\n",
        "<p dir=\"ltr\"><a href=\"https://www.geeksforgeeks.org/square-root-of-an-integer\" rel=\"noopener\"><span>Read</span></a></p>\n",
        "</td>\n",
        "<td style=\"width: 233.333px;\">\n",
        "<p dir=\"ltr\"><a href=\"https://practice.geeksforgeeks.org/problems/square-root/1\" rel=\"noopener\"><span>Solve</span></a></p>\n",
        "</td>\n",
        "</tr>\n",
        "<tr>\n",
        "<th style=\"width: 233.333px;\">\n",
        "<p dir=\"ltr\"><span>First and Last occurrence of a number</span></p>\n",
        "</th>\n",
        "<td style=\"width: 233.333px;\">\n",
        "<p dir=\"ltr\"><a href=\"https://www.geeksforgeeks.org/find-first-and-last-positions-of-an-element-in-a-sorted-array\" rel=\"noopener\"><span>Read</span></a></p>\n",
        "</td>\n",
        "<td style=\"width: 233.333px;\">\n",
        "<p dir=\"ltr\"><a href=\"https://practice.geeksforgeeks.org/problems/first-and-last-occurrences-of-x3116/1\" rel=\"noopener\"><span>Solve</span></a></p>\n",
        "</td>\n",
        "</tr>\n",
        "<tr>\n",
        "<th style=\"width: 233.333px;\">\n",
        "<p dir=\"ltr\"><span>Search in sorted rotated array</span></p>\n",
        "</th>\n",
        "<td style=\"width: 233.333px;\">\n",
        "<p dir=\"ltr\"><a href=\"https://www.geeksforgeeks.org/search-an-element-in-a-sorted-and-pivoted-array\" rel=\"noopener\"><span>Read</span></a></p>\n",
        "</td>\n",
        "<td style=\"width: 233.333px;\">\n",
        "<p dir=\"ltr\"><a href=\"https://practice.geeksforgeeks.org/problems/search-in-a-rotated-array0959/1\" rel=\"noopener\"><span>Solve</span></a></p>\n",
        "</td>\n",
        "</tr>\n",
        "<tr>\n",
        "<th style=\"width: 233.333px;\">\n",
        "<p dir=\"ltr\"><span>Search in sorted rotated array II</span></p>\n",
        "</th>\n",
        "<td style=\"width: 233.333px;\">\n",
        "<p dir=\"ltr\"><a href=\"https://www.geeksforgeeks.org/search-an-element-in-a-sorted-and-rotated-array-with-duplicates\" rel=\"noopener\"><span>Read</span></a></p>\n",
        "</td>\n",
        "<td style=\"width: 233.333px;\">\n",
        "<p dir=\"ltr\"><a href=\"https://practice.geeksforgeeks.org/problems/search-in-rotated-array-2/1\" rel=\"noopener\"><span>Solve</span></a></p>\n",
        "</td>\n",
        "</tr>\n",
        "<tr>\n",
        "<th style=\"width: 233.333px;\">\n",
        "<p dir=\"ltr\"><span>Min element in sorted rotated array</span></p>\n",
        "</th>\n",
        "<td style=\"width: 233.333px;\">\n",
        "<p dir=\"ltr\"><a href=\"https://www.geeksforgeeks.org/find-minimum-element-in-a-sorted-and-rotated-array\" rel=\"noopener\"><span>Read</span></a></p>\n",
        "</td>\n",
        "<td style=\"width: 233.333px;\">\n",
        "<p dir=\"ltr\"><a href=\"https://practice.geeksforgeeks.org/problems/minimum-element-in-a-sorted-and-rotated-array3611/1?utm_source=geeksforgeeks&amp;utm_medium=article_practice_tab&amp;utm_campaign=\" rel=\"noopener\"><span>Solve</span></a></p>\n",
        "</td>\n",
        "</tr>\n",
        "<tr>\n",
        "<th style=\"width: 233.333px;\">\n",
        "<p dir=\"ltr\"><span>Find peak element in a mountain array</span></p>\n",
        "</th>\n",
        "<td style=\"width: 233.333px;\">\n",
        "<p dir=\"ltr\"><a href=\"https://www.geeksforgeeks.org/find-a-peak-in-a-given-array\" rel=\"noopener\"><span>Read</span></a></p>\n",
        "</td>\n",
        "<td style=\"width: 233.333px;\">\n",
        "<p dir=\"ltr\"><a href=\"https://practice.geeksforgeeks.org/problems/peak-element/1?utm_source=geeksforgeeks&amp;utm_medium=ml_article_practice_tab&amp;utm_campaign=\" rel=\"noopener\"><span>Solve</span></a></p>\n",
        "</td>\n",
        "</tr>\n",
        "<tr>\n",
        "<th style=\"width: 233.333px;\">\n",
        "<p dir=\"ltr\"><span>Koko Eating Bananas</span></p>\n",
        "</th>\n",
        "<td style=\"width: 233.333px;\">\n",
        "<p dir=\"ltr\"><a href=\"https://www.geeksforgeeks.org/koko-eating-bananas\" rel=\"noopener\"><span>Read</span></a></p>\n",
        "</td>\n",
        "<td style=\"width: 233.333px;\">\n",
        "<p dir=\"ltr\"><a href=\"https://practice.geeksforgeeks.org/problems/koko-eating-bananas/1?utm_source=geeksforgeeks&amp;utm_medium=ml_article_practice_tab&amp;utm_campaign=\" rel=\"noopener\"><span>Solve</span></a></p>\n",
        "</td>\n",
        "</tr>\n",
        "<tr>\n",
        "<th style=\"width: 233.333px;\">\n",
        "<p dir=\"ltr\"><span>Allocate Books</span></p>\n",
        "</th>\n",
        "<td style=\"width: 233.333px;\">\n",
        "<p dir=\"ltr\"><a href=\"https://www.geeksforgeeks.org/allocate-minimum-number-pages\" rel=\"noopener\"><span>Read</span></a></p>\n",
        "</td>\n",
        "<td style=\"width: 233.333px;\">\n",
        "<p dir=\"ltr\"><a href=\"https://practice.geeksforgeeks.org/problems/allocate-minimum-number-of-pages0937/1\" rel=\"noopener\"><span>Solve</span></a></p>\n",
        "</td>\n",
        "</tr>\n",
        "<tr>\n",
        "<th style=\"width: 233.333px;\">\n",
        "<p dir=\"ltr\"><span>Aggressive Cows</span></p>\n",
        "</th>\n",
        "<td style=\"width: 233.333px;\">\n",
        "<p dir=\"ltr\"><a href=\"https://www.geeksforgeeks.org/assign-stalls-to-k-cows-to-maximize-the-minimum-distance-between-them\" rel=\"noopener\"><span>Read</span></a></p>\n",
        "</td>\n",
        "<td style=\"width: 233.333px;\">\n",
        "<p dir=\"ltr\"><a href=\"https://practice.geeksforgeeks.org/problems/aggressive-cows/0\" rel=\"noopener\"><span>Solve</span></a></p>\n",
        "</td>\n",
        "</tr>\n",
        "<tr>\n",
        "<th style=\"width: 233.333px;\">\n",
        "<p dir=\"ltr\"><span>Minimize max distance to gas station</span></p>\n",
        "</th>\n",
        "<td style=\"width: 233.333px;\">\n",
        "<p dir=\"ltr\"><a href=\"https://www.geeksforgeeks.org/minimize-the-maximum-distance-between-adjacent-points-after-adding-k-points-anywhere-in-between\" rel=\"noopener\"><span>Read</span></a></p>\n",
        "</td>\n",
        "<td style=\"width: 233.333px;\">\n",
        "<p dir=\"ltr\"><a href=\"https://practice.geeksforgeeks.org/problems/minimize-max-distance-to-gas-station/1\" rel=\"noopener\"><span>Solve</span></a></p>\n",
        "</td>\n",
        "</tr>\n",
        "<tr>\n",
        "<th style=\"width: 233.333px;\">\n",
        "<p dir=\"ltr\"><span>Capacity to ship packages within D days</span></p>\n",
        "</th>\n",
        "<td style=\"width: 233.333px;\">\n",
        "<p dir=\"ltr\"><a href=\"https://www.geeksforgeeks.org/capacity-to-ship-packages-within-d-days\" rel=\"noopener\"><span>Read</span></a></p>\n",
        "</td>\n",
        "<td style=\"width: 233.333px;\">\n",
        "<p dir=\"ltr\"><a href=\"https://practice.geeksforgeeks.org/problems/capacity-to-ship-packages-within-d-days/1?utm_source=geeksforgeeks&amp;utm_medium=ml_article_practice_tab&amp;utm_campaign=\" rel=\"noopener\"><span>Solve</span></a></p>\n",
        "</td>\n",
        "</tr>\n",
        "<tr>\n",
        "<th style=\"width: 233.333px;\">\n",
        "<p dir=\"ltr\"><span>Median of 2 sorted arrays</span></p>\n",
        "</th>\n",
        "<td style=\"width: 233.333px;\">\n",
        "<p dir=\"ltr\"><a href=\"https://www.geeksforgeeks.org/median-of-two-sorted-arrays-of-different-sizes\" rel=\"noopener\"><span>Read</span></a></p>\n",
        "</td>\n",
        "<td style=\"width: 233.333px;\">\n",
        "<p dir=\"ltr\"><a href=\"https://practice.geeksforgeeks.org/problems/median-of-2-sorted-arrays-of-different-sizes/1?utm_source=geeksforgeeks&amp;utm_medium=article_practice_tab&amp;utm_campaign=\" rel=\"noopener\"><span>Solve</span></a></p>\n",
        "</td>\n",
        "</tr>\n",
        "<tr>\n",
        "<th style=\"width: 233.333px;\">\n",
        "<p dir=\"ltr\"><span>Nth root of a number</span></p>\n",
        "</th>\n",
        "<td style=\"width: 233.333px;\">\n",
        "<p dir=\"ltr\"><a href=\"https://www.geeksforgeeks.org/calculating-n-th-real-root-using-binary-search\" rel=\"noopener\"><span>Read</span></a></p>\n",
        "</td>\n",
        "<td style=\"width: 233.333px;\">\n",
        "<p dir=\"ltr\"><a href=\"https://practice.geeksforgeeks.org/problems/find-nth-root-of-m5843/1?utm_source=geeksforgeeks&amp;utm_medium=ml_article_practice_tab&amp;utm_campaign=\" rel=\"noopener\"><span>Solve</span></a></p>\n",
        "</td>\n",
        "</tr>\n",
        "<tr>\n",
        "<th style=\"width: 233.333px;\">\n",
        "<p dir=\"ltr\"><span>Kth element of 2 sorted arrays</span></p>\n",
        "</th>\n",
        "<td style=\"width: 233.333px;\">\n",
        "<p dir=\"ltr\"><a href=\"https://www.geeksforgeeks.org/k-th-element-two-sorted-arrays\" rel=\"noopener\"><span>Read</span></a></p>\n",
        "</td>\n",
        "<td style=\"width: 233.333px;\">\n",
        "<p dir=\"ltr\"><a href=\"https://practice.geeksforgeeks.org/problems/k-th-element-of-two-sorted-array1317/1?utm_source=geeksforgeeks&amp;utm_medium=article_practice_tab&amp;utm_campaign=\" rel=\"noopener\"><span>Solve</span></a></p>\n",
        "</td>\n",
        "</tr>\n",
        "<tr>\n",
        "<th style=\"width: 233.333px;\">\n",
        "<p dir=\"ltr\"><span>Find Peak element II</span></p>\n",
        "</th>\n",
        "<td style=\"width: 233.333px;\">\n",
        "<p dir=\"ltr\"><a href=\"https://www.geeksforgeeks.org/find-peak-element-2d-array\" rel=\"noopener\"><span>Read</span></a></p>\n",
        "</td>\n",
        "<td style=\"width: 233.333px;\">\n",
        "<p dir=\"ltr\"><a href=\"https://www.geeksforgeeks.org/find-peak-element-2d-array\" rel=\"noopener\"><span>Solve</span></a></p>\n",
        "</td>\n",
        "</tr>\n",
        "<tr>\n",
        "<th style=\"width: 233.333px;\">\n",
        "<p dir=\"ltr\"><span>Find Median in row wise sorted array</span></p>\n",
        "</th>\n",
        "<td style=\"width: 233.333px;\">\n",
        "<p dir=\"ltr\"><a href=\"https://www.geeksforgeeks.org/find-median-row-wise-sorted-matrix\" rel=\"noopener\"><span>Read</span></a></p>\n",
        "</td>\n",
        "<td style=\"width: 233.333px;\">\n",
        "<p dir=\"ltr\"><a href=\"https://practice.geeksforgeeks.org/problems/median-in-a-row-wise-sorted-matrix1527/1?utm_source=geeksforgeeks&amp;utm_medium=article_practice_tab&amp;utm_campaign=\" rel=\"noopener\"><span>Solve</span></a></p>\n",
        "</td>\n",
        "</tr>\n",
        "<tr>\n",
        "<th style=\"width: 233.333px;\">\n",
        "<p dir=\"ltr\"><span>Search in row wise and column wise sorted array</span></p>\n",
        "</th>\n",
        "<td style=\"width: 233.333px;\">\n",
        "<p dir=\"ltr\"><a href=\"https://www.geeksforgeeks.org/search-in-row-wise-and-column-wise-sorted-matrix\" rel=\"noopener\"><span>Read</span></a></p>\n",
        "</td>\n",
        "<td style=\"width: 233.333px;\">\n",
        "<p dir=\"ltr\"><a href=\"https://practice.geeksforgeeks.org/problems/search-in-a-matrix-1587115621/1?utm_source=geeksforgeeks&amp;utm_medium=article_practice_tab&amp;utm_campaign=\" rel=\"noopener\"><span>Solve</span></a></p>\n",
        "</td>\n",
        "</tr>\n",
        "</tbody>\n",
        "</table>"
      ],
      "metadata": {
        "id": "l3uWyEvAiNZK"
      }
    },
    {
      "cell_type": "markdown",
      "source": [
        "### Binary Search Python\n",
        "\n",
        "You are given an array of distinct integers nums, sorted in ascending order, and an integer target.\n",
        "\n",
        "Implement a function to search for target within nums. If it exists, then return its index, otherwise, return -1.\n",
        "\n",
        "Your solution must run in 𝑂 ( 𝑙 𝑜 𝑔 𝑛 ) O(logn) time.\n",
        "\n",
        "Example 1:\n",
        "\n",
        "Input: nums = [-1,0,2,4,6,8], target = 4\n",
        "\n",
        "Output: 3 Example 2:\n",
        "\n",
        "Input: nums = [-1,0,2,4,6,8], target = 3\n",
        "\n",
        "Output: -1 Constraints:\n",
        "\n",
        "1 <= nums.length <= 10000. -10000 < nums[i], target < 10000"
      ],
      "metadata": {
        "id": "K6_77MGdUHS7"
      }
    },
    {
      "cell_type": "code",
      "execution_count": null,
      "metadata": {
        "colab": {
          "base_uri": "https://localhost:8080/"
        },
        "id": "hhoYgSS6TaWQ",
        "outputId": "8f71e84d-1542-4fd2-ddc1-52d12e799a56"
      },
      "outputs": [
        {
          "output_type": "stream",
          "name": "stdout",
          "text": [
            "-1\n"
          ]
        }
      ],
      "source": [
        "def binarySearch(nums, target):\n",
        "  n = len(nums)\n",
        "  mid = n//2\n",
        "  mid_value = nums[mid]\n",
        "  if target >= mid_value:\n",
        "    for i in range(mid, n):\n",
        "      if target == nums[i]:\n",
        "        return i\n",
        "  elif target < mid_value:\n",
        "    for i in range(0, mid):\n",
        "      if target == nums[i]:\n",
        "        return i\n",
        "  return -1\n",
        "\n",
        "nums = [-1,0,2,4,6,8]\n",
        "target = 3\n",
        "print(binarySearch(nums, target))"
      ]
    },
    {
      "cell_type": "code",
      "source": [
        "def binarySearch(nums, target):\n",
        "  left, right = 0, len(nums)-1\n",
        "  while left <= right:\n",
        "    mid = (left+right)//2\n",
        "    if nums[mid] == target:\n",
        "      return target\n",
        "    elif nums[mid] < target:\n",
        "      left = mid+1\n",
        "    else:\n",
        "      right = mid-1\n",
        "  return -1\n",
        "\n",
        "nums = [-1,0,2,4,6,8]\n",
        "target = 3\n",
        "print(binarySearch(nums, target))"
      ],
      "metadata": {
        "colab": {
          "base_uri": "https://localhost:8080/"
        },
        "id": "ycduALYGVAcG",
        "outputId": "557602f6-2413-4e29-8fde-d09f006c4d17"
      },
      "execution_count": null,
      "outputs": [
        {
          "output_type": "stream",
          "name": "stdout",
          "text": [
            "-1\n"
          ]
        }
      ]
    },
    {
      "cell_type": "markdown",
      "source": [
        "### Search insert position of K in a sorted array\n",
        "\n",
        "Given a sorted array arr[] consisting of N distinct integers and an integer K, the task is to find the index of K, if it’s present in the array arr[]. Otherwise, find the index where K must be inserted to keep the array sorted.\n",
        "\n",
        "Examples:\n",
        "\n",
        "Input: arr[] = {1, 3, 5, 6}, K = 5\n",
        "\n",
        "Output: 2\n",
        "\n",
        "Explanation: Since 5 is found at index 2 as arr[2] = 5, the output is 2.\n",
        "\n",
        "Input: arr[] = {1, 3, 5, 6}, K = 2\n",
        "\n",
        "Output: 1\n",
        "\n",
        "Explanation: Since 2 is not present in the array but can be inserted at index 1 to make the array sorted."
      ],
      "metadata": {
        "id": "HjmijX1AZYO0"
      }
    },
    {
      "cell_type": "code",
      "source": [
        "def searchPosition(arr, k):\n",
        "  left, right = 0, len(arr)-1\n",
        "  while left <= right:\n",
        "    mid = (left+right)//2\n",
        "    if arr[mid] == k:\n",
        "      return mid\n",
        "    elif arr[mid] < k:\n",
        "      left = mid+1\n",
        "    else:\n",
        "      right = mid-1\n",
        "\n",
        "  return left - right\n",
        "\n",
        "arr1, k1 = [1, 3, 5, 6], 2\n",
        "print(searchPosition(arr1, k1))  # output = 1\n",
        "\n",
        "arr2, k2 = [1, 3, 5, 6], 5\n",
        "print(searchPosition(arr2, k2))  # output = 2"
      ],
      "metadata": {
        "colab": {
          "base_uri": "https://localhost:8080/"
        },
        "id": "y4QPgTeIY92a",
        "outputId": "72eb085f-e864-41b7-a1ce-482a8c0d24c0"
      },
      "execution_count": null,
      "outputs": [
        {
          "output_type": "stream",
          "name": "stdout",
          "text": [
            "1\n",
            "2\n"
          ]
        }
      ]
    },
    {
      "cell_type": "markdown",
      "source": [
        "### Square root of an integer\n",
        "\n",
        "Given an integer X, find its square root. If X is not a perfect square, then return floor(√x).\n",
        "\n",
        "Examples :\n",
        "\n",
        "Input: x = 4\n",
        "Output: 2\n",
        "Explanation: The square root of 4 is 2.\n",
        "\n",
        "Input: x = 11\n",
        "Output: 3\n",
        "Explanation:  The square root of 11 lies in between 3 and 4 so floor of the square root is 3."
      ],
      "metadata": {
        "id": "VXBwMYvPjoXL"
      }
    },
    {
      "cell_type": "code",
      "source": [
        "def floorSquare(x):\n",
        "  if x == 0 or x == 1:\n",
        "    return x\n",
        "  i = 1\n",
        "  res = 1\n",
        "  while res < x:\n",
        "    i += 1\n",
        "    res = i * i\n",
        "  return i - 1\n",
        "\n",
        "print(floorSquare(11))"
      ],
      "metadata": {
        "colab": {
          "base_uri": "https://localhost:8080/"
        },
        "id": "4RNnX-VPgVQW",
        "outputId": "cbbc40e2-ab8c-4101-a1e8-c052dbe291a9"
      },
      "execution_count": null,
      "outputs": [
        {
          "output_type": "stream",
          "name": "stdout",
          "text": [
            "3\n"
          ]
        }
      ]
    },
    {
      "cell_type": "markdown",
      "source": [
        "### First and Last occurrence of a number\n",
        "\n",
        "Given a sorted array arr[] with possibly duplicate elements, the task is to find indexes of the first and last occurrences of an element x in the given array.\n",
        "\n",
        "Examples:\n",
        "```\n",
        "Input : arr[] = {1, 3, 5, 5, 5, 5, 67, 123, 125}, x = 5\n",
        "Output : First Occurrence = 2\n",
        "              Last Occurrence = 5\n",
        "\n",
        "Input : arr[] = {1, 3, 5, 5, 5, 5, 7, 123, 125 }, x = 7\n",
        "\n",
        "Output : First Occurrence = 6\n",
        "              Last Occurrence = 6\n",
        "\n",
        "```"
      ],
      "metadata": {
        "id": "qQe82noXoc-5"
      }
    },
    {
      "cell_type": "code",
      "source": [
        "def firstLastOccure(arr, x):\n",
        "  first_occ, last_occ = 0, 0\n",
        "  print(first_occ, last_occ)\n",
        "\n",
        "\n",
        "arr, k = [1, 3, 5, 5, 5, 5, 67, 123, 125], 5\n",
        "print(firstLastOccure(arr, k))"
      ],
      "metadata": {
        "colab": {
          "base_uri": "https://localhost:8080/"
        },
        "id": "PaIEyO7Ckc67",
        "outputId": "7ffc2890-ef53-49a5-c659-aae17c52e7e6"
      },
      "execution_count": null,
      "outputs": [
        {
          "output_type": "stream",
          "name": "stdout",
          "text": [
            "0 0\n",
            "None\n"
          ]
        }
      ]
    },
    {
      "cell_type": "code",
      "source": [],
      "metadata": {
        "id": "6UGcA9UUpae7"
      },
      "execution_count": null,
      "outputs": []
    }
  ]
}