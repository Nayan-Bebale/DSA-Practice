{
  "nbformat": 4,
  "nbformat_minor": 0,
  "metadata": {
    "colab": {
      "provenance": [],
      "toc_visible": true,
      "authorship_tag": "ABX9TyPRfpnrd3LQ7jjtH4+QUb9Q",
      "include_colab_link": true
    },
    "kernelspec": {
      "name": "python3",
      "display_name": "Python 3"
    },
    "language_info": {
      "name": "python"
    }
  },
  "cells": [
    {
      "cell_type": "markdown",
      "metadata": {
        "id": "view-in-github",
        "colab_type": "text"
      },
      "source": [
        "<a href=\"https://colab.research.google.com/github/Nayan-Bebale/DSA-Practice/blob/main/13_BinarySearch.ipynb\" target=\"_parent\"><img src=\"https://colab.research.google.com/assets/colab-badge.svg\" alt=\"Open In Colab\"/></a>"
      ]
    },
    {
      "cell_type": "markdown",
      "source": [
        "# Binary Search\n",
        "\n",
        "## Binary Search Algorithm – Iterative and Recursive Implementation\n",
        "\n",
        "\n",
        "**Binary search** is a search algorithm used to find the position of a target value within a **sorted** array. It works by repeatedly dividing the search interval in half until the target value is found or the interval is empty. The search interval is halved by comparing the target element with the middle value of the search space.\n",
        "\n",
        "<img src=\"https://media.geeksforgeeks.org/wp-content/uploads/20240506155201/binnary-search-.webp\" height=230/>\n",
        "\n",
        "\n",
        "### Conditions to apply Binary Search Algorithm in a Data Structure:\n",
        "To apply Binary Search algorithm:\n",
        "\n",
        "- The data structure must be sorted.\n",
        "- Access to any element of the data structure should take - constant time."
      ],
      "metadata": {
        "id": "CyKPh6CKTgxS"
      }
    },
    {
      "cell_type": "markdown",
      "source": [
        "## Top interview questions on Binary search to get hands on\n",
        "\n",
        "<table>\n",
        "<thead>\n",
        "<tr>\n",
        "<th style=\"width: 233.333px;\">\n",
        "<h3><span>Title</span></h3>\n",
        "</th>\n",
        "<th style=\"width: 233.333px;\">\n",
        "<p dir=\"ltr\"><span>Article(Editorial ) Link</span></p>\n",
        "</th>\n",
        "<th style=\"width: 233.333px;\">\n",
        "<p dir=\"ltr\"><span>Practice Link</span></p>\n",
        "</th>\n",
        "</tr>\n",
        "</thead>\n",
        "<tbody>\n",
        "<tr>\n",
        "<th style=\"width: 233.333px;\">\n",
        "<p dir=\"ltr\"><b><strong>Lower and Upper Bound</strong></b></p>\n",
        "</th>\n",
        "<td style=\"width: 233.333px;\">\n",
        "<p dir=\"ltr\"><a href=\"https://www.geeksforgeeks.org/implementing-upper_bound-and-lower_bound-in-c\" rel=\"noopener\"><span>Read</span></a></p>\n",
        "</td>\n",
        "<td style=\"width: 233.333px;\">\n",
        "<p dir=\"ltr\"><a href=\"https://practice.geeksforgeeks.org/problems/floor-in-a-sorted-array-1587115620/1\" rel=\"noopener\"><span>Solve</span></a></p>\n",
        "</td>\n",
        "</tr>\n",
        "<tr>\n",
        "<th style=\"width: 233.333px;\">\n",
        "<p dir=\"ltr\"><span>Search Insert Position</span></p>\n",
        "</th>\n",
        "<td style=\"width: 233.333px;\">\n",
        "<p dir=\"ltr\"><a href=\"https://www.geeksforgeeks.org/search-insert-position-of-k-in-a-sorted-array\" rel=\"noopener\"><span>Read</span></a></p>\n",
        "</td>\n",
        "<td style=\"width: 233.333px;\">\n",
        "<p dir=\"ltr\"><a href=\"https://practice.geeksforgeeks.org/problems/search-insert-position-of-k-in-a-sorted-array/1\" rel=\"noopener\"><span>Solve</span></a></p>\n",
        "</td>\n",
        "</tr>\n",
        "<tr>\n",
        "<th style=\"width: 233.333px;\">\n",
        "<p dir=\"ltr\"><span>Sqrt(x)</span></p>\n",
        "</th>\n",
        "<td style=\"width: 233.333px;\">\n",
        "<p dir=\"ltr\"><a href=\"https://www.geeksforgeeks.org/square-root-of-an-integer\" rel=\"noopener\"><span>Read</span></a></p>\n",
        "</td>\n",
        "<td style=\"width: 233.333px;\">\n",
        "<p dir=\"ltr\"><a href=\"https://practice.geeksforgeeks.org/problems/square-root/1\" rel=\"noopener\"><span>Solve</span></a></p>\n",
        "</td>\n",
        "</tr>\n",
        "<tr>\n",
        "<th style=\"width: 233.333px;\">\n",
        "<p dir=\"ltr\"><span>First and Last occurrence of a number</span></p>\n",
        "</th>\n",
        "<td style=\"width: 233.333px;\">\n",
        "<p dir=\"ltr\"><a href=\"https://www.geeksforgeeks.org/find-first-and-last-positions-of-an-element-in-a-sorted-array\" rel=\"noopener\"><span>Read</span></a></p>\n",
        "</td>\n",
        "<td style=\"width: 233.333px;\">\n",
        "<p dir=\"ltr\"><a href=\"https://practice.geeksforgeeks.org/problems/first-and-last-occurrences-of-x3116/1\" rel=\"noopener\"><span>Solve</span></a></p>\n",
        "</td>\n",
        "</tr>\n",
        "<tr>\n",
        "<th style=\"width: 233.333px;\">\n",
        "<p dir=\"ltr\"><span>Search in sorted rotated array</span></p>\n",
        "</th>\n",
        "<td style=\"width: 233.333px;\">\n",
        "<p dir=\"ltr\"><a href=\"https://www.geeksforgeeks.org/search-an-element-in-a-sorted-and-pivoted-array\" rel=\"noopener\"><span>Read</span></a></p>\n",
        "</td>\n",
        "<td style=\"width: 233.333px;\">\n",
        "<p dir=\"ltr\"><a href=\"https://practice.geeksforgeeks.org/problems/search-in-a-rotated-array0959/1\" rel=\"noopener\"><span>Solve</span></a></p>\n",
        "</td>\n",
        "</tr>\n",
        "<tr>\n",
        "<th style=\"width: 233.333px;\">\n",
        "<p dir=\"ltr\"><span>Search in sorted rotated array II</span></p>\n",
        "</th>\n",
        "<td style=\"width: 233.333px;\">\n",
        "<p dir=\"ltr\"><a href=\"https://www.geeksforgeeks.org/search-an-element-in-a-sorted-and-rotated-array-with-duplicates\" rel=\"noopener\"><span>Read</span></a></p>\n",
        "</td>\n",
        "<td style=\"width: 233.333px;\">\n",
        "<p dir=\"ltr\"><a href=\"https://practice.geeksforgeeks.org/problems/search-in-rotated-array-2/1\" rel=\"noopener\"><span>Solve</span></a></p>\n",
        "</td>\n",
        "</tr>\n",
        "<tr>\n",
        "<th style=\"width: 233.333px;\">\n",
        "<p dir=\"ltr\"><span>Min element in sorted rotated array</span></p>\n",
        "</th>\n",
        "<td style=\"width: 233.333px;\">\n",
        "<p dir=\"ltr\"><a href=\"https://www.geeksforgeeks.org/find-minimum-element-in-a-sorted-and-rotated-array\" rel=\"noopener\"><span>Read</span></a></p>\n",
        "</td>\n",
        "<td style=\"width: 233.333px;\">\n",
        "<p dir=\"ltr\"><a href=\"https://practice.geeksforgeeks.org/problems/minimum-element-in-a-sorted-and-rotated-array3611/1?utm_source=geeksforgeeks&amp;utm_medium=article_practice_tab&amp;utm_campaign=\" rel=\"noopener\"><span>Solve</span></a></p>\n",
        "</td>\n",
        "</tr>\n",
        "<tr>\n",
        "<th style=\"width: 233.333px;\">\n",
        "<p dir=\"ltr\"><span>Find peak element in a mountain array</span></p>\n",
        "</th>\n",
        "<td style=\"width: 233.333px;\">\n",
        "<p dir=\"ltr\"><a href=\"https://www.geeksforgeeks.org/find-a-peak-in-a-given-array\" rel=\"noopener\"><span>Read</span></a></p>\n",
        "</td>\n",
        "<td style=\"width: 233.333px;\">\n",
        "<p dir=\"ltr\"><a href=\"https://practice.geeksforgeeks.org/problems/peak-element/1?utm_source=geeksforgeeks&amp;utm_medium=ml_article_practice_tab&amp;utm_campaign=\" rel=\"noopener\"><span>Solve</span></a></p>\n",
        "</td>\n",
        "</tr>\n",
        "<tr>\n",
        "<th style=\"width: 233.333px;\">\n",
        "<p dir=\"ltr\"><span>Koko Eating Bananas</span></p>\n",
        "</th>\n",
        "<td style=\"width: 233.333px;\">\n",
        "<p dir=\"ltr\"><a href=\"https://www.geeksforgeeks.org/koko-eating-bananas\" rel=\"noopener\"><span>Read</span></a></p>\n",
        "</td>\n",
        "<td style=\"width: 233.333px;\">\n",
        "<p dir=\"ltr\"><a href=\"https://practice.geeksforgeeks.org/problems/koko-eating-bananas/1?utm_source=geeksforgeeks&amp;utm_medium=ml_article_practice_tab&amp;utm_campaign=\" rel=\"noopener\"><span>Solve</span></a></p>\n",
        "</td>\n",
        "</tr>\n",
        "<tr>\n",
        "<th style=\"width: 233.333px;\">\n",
        "<p dir=\"ltr\"><span>Allocate Books</span></p>\n",
        "</th>\n",
        "<td style=\"width: 233.333px;\">\n",
        "<p dir=\"ltr\"><a href=\"https://www.geeksforgeeks.org/allocate-minimum-number-pages\" rel=\"noopener\"><span>Read</span></a></p>\n",
        "</td>\n",
        "<td style=\"width: 233.333px;\">\n",
        "<p dir=\"ltr\"><a href=\"https://practice.geeksforgeeks.org/problems/allocate-minimum-number-of-pages0937/1\" rel=\"noopener\"><span>Solve</span></a></p>\n",
        "</td>\n",
        "</tr>\n",
        "<tr>\n",
        "<th style=\"width: 233.333px;\">\n",
        "<p dir=\"ltr\"><span>Aggressive Cows</span></p>\n",
        "</th>\n",
        "<td style=\"width: 233.333px;\">\n",
        "<p dir=\"ltr\"><a href=\"https://www.geeksforgeeks.org/assign-stalls-to-k-cows-to-maximize-the-minimum-distance-between-them\" rel=\"noopener\"><span>Read</span></a></p>\n",
        "</td>\n",
        "<td style=\"width: 233.333px;\">\n",
        "<p dir=\"ltr\"><a href=\"https://practice.geeksforgeeks.org/problems/aggressive-cows/0\" rel=\"noopener\"><span>Solve</span></a></p>\n",
        "</td>\n",
        "</tr>\n",
        "<tr>\n",
        "<th style=\"width: 233.333px;\">\n",
        "<p dir=\"ltr\"><span>Minimize max distance to gas station</span></p>\n",
        "</th>\n",
        "<td style=\"width: 233.333px;\">\n",
        "<p dir=\"ltr\"><a href=\"https://www.geeksforgeeks.org/minimize-the-maximum-distance-between-adjacent-points-after-adding-k-points-anywhere-in-between\" rel=\"noopener\"><span>Read</span></a></p>\n",
        "</td>\n",
        "<td style=\"width: 233.333px;\">\n",
        "<p dir=\"ltr\"><a href=\"https://practice.geeksforgeeks.org/problems/minimize-max-distance-to-gas-station/1\" rel=\"noopener\"><span>Solve</span></a></p>\n",
        "</td>\n",
        "</tr>\n",
        "<tr>\n",
        "<th style=\"width: 233.333px;\">\n",
        "<p dir=\"ltr\"><span>Capacity to ship packages within D days</span></p>\n",
        "</th>\n",
        "<td style=\"width: 233.333px;\">\n",
        "<p dir=\"ltr\"><a href=\"https://www.geeksforgeeks.org/capacity-to-ship-packages-within-d-days\" rel=\"noopener\"><span>Read</span></a></p>\n",
        "</td>\n",
        "<td style=\"width: 233.333px;\">\n",
        "<p dir=\"ltr\"><a href=\"https://practice.geeksforgeeks.org/problems/capacity-to-ship-packages-within-d-days/1?utm_source=geeksforgeeks&amp;utm_medium=ml_article_practice_tab&amp;utm_campaign=\" rel=\"noopener\"><span>Solve</span></a></p>\n",
        "</td>\n",
        "</tr>\n",
        "<tr>\n",
        "<th style=\"width: 233.333px;\">\n",
        "<p dir=\"ltr\"><span>Median of 2 sorted arrays</span></p>\n",
        "</th>\n",
        "<td style=\"width: 233.333px;\">\n",
        "<p dir=\"ltr\"><a href=\"https://www.geeksforgeeks.org/median-of-two-sorted-arrays-of-different-sizes\" rel=\"noopener\"><span>Read</span></a></p>\n",
        "</td>\n",
        "<td style=\"width: 233.333px;\">\n",
        "<p dir=\"ltr\"><a href=\"https://practice.geeksforgeeks.org/problems/median-of-2-sorted-arrays-of-different-sizes/1?utm_source=geeksforgeeks&amp;utm_medium=article_practice_tab&amp;utm_campaign=\" rel=\"noopener\"><span>Solve</span></a></p>\n",
        "</td>\n",
        "</tr>\n",
        "<tr>\n",
        "<th style=\"width: 233.333px;\">\n",
        "<p dir=\"ltr\"><span>Nth root of a number</span></p>\n",
        "</th>\n",
        "<td style=\"width: 233.333px;\">\n",
        "<p dir=\"ltr\"><a href=\"https://www.geeksforgeeks.org/calculating-n-th-real-root-using-binary-search\" rel=\"noopener\"><span>Read</span></a></p>\n",
        "</td>\n",
        "<td style=\"width: 233.333px;\">\n",
        "<p dir=\"ltr\"><a href=\"https://practice.geeksforgeeks.org/problems/find-nth-root-of-m5843/1?utm_source=geeksforgeeks&amp;utm_medium=ml_article_practice_tab&amp;utm_campaign=\" rel=\"noopener\"><span>Solve</span></a></p>\n",
        "</td>\n",
        "</tr>\n",
        "<tr>\n",
        "<th style=\"width: 233.333px;\">\n",
        "<p dir=\"ltr\"><span>Kth element of 2 sorted arrays</span></p>\n",
        "</th>\n",
        "<td style=\"width: 233.333px;\">\n",
        "<p dir=\"ltr\"><a href=\"https://www.geeksforgeeks.org/k-th-element-two-sorted-arrays\" rel=\"noopener\"><span>Read</span></a></p>\n",
        "</td>\n",
        "<td style=\"width: 233.333px;\">\n",
        "<p dir=\"ltr\"><a href=\"https://practice.geeksforgeeks.org/problems/k-th-element-of-two-sorted-array1317/1?utm_source=geeksforgeeks&amp;utm_medium=article_practice_tab&amp;utm_campaign=\" rel=\"noopener\"><span>Solve</span></a></p>\n",
        "</td>\n",
        "</tr>\n",
        "<tr>\n",
        "<th style=\"width: 233.333px;\">\n",
        "<p dir=\"ltr\"><span>Find Peak element II</span></p>\n",
        "</th>\n",
        "<td style=\"width: 233.333px;\">\n",
        "<p dir=\"ltr\"><a href=\"https://www.geeksforgeeks.org/find-peak-element-2d-array\" rel=\"noopener\"><span>Read</span></a></p>\n",
        "</td>\n",
        "<td style=\"width: 233.333px;\">\n",
        "<p dir=\"ltr\"><a href=\"https://www.geeksforgeeks.org/find-peak-element-2d-array\" rel=\"noopener\"><span>Solve</span></a></p>\n",
        "</td>\n",
        "</tr>\n",
        "<tr>\n",
        "<th style=\"width: 233.333px;\">\n",
        "<p dir=\"ltr\"><span>Find Median in row wise sorted array</span></p>\n",
        "</th>\n",
        "<td style=\"width: 233.333px;\">\n",
        "<p dir=\"ltr\"><a href=\"https://www.geeksforgeeks.org/find-median-row-wise-sorted-matrix\" rel=\"noopener\"><span>Read</span></a></p>\n",
        "</td>\n",
        "<td style=\"width: 233.333px;\">\n",
        "<p dir=\"ltr\"><a href=\"https://practice.geeksforgeeks.org/problems/median-in-a-row-wise-sorted-matrix1527/1?utm_source=geeksforgeeks&amp;utm_medium=article_practice_tab&amp;utm_campaign=\" rel=\"noopener\"><span>Solve</span></a></p>\n",
        "</td>\n",
        "</tr>\n",
        "<tr>\n",
        "<th style=\"width: 233.333px;\">\n",
        "<p dir=\"ltr\"><span>Search in row wise and column wise sorted array</span></p>\n",
        "</th>\n",
        "<td style=\"width: 233.333px;\">\n",
        "<p dir=\"ltr\"><a href=\"https://www.geeksforgeeks.org/search-in-row-wise-and-column-wise-sorted-matrix\" rel=\"noopener\"><span>Read</span></a></p>\n",
        "</td>\n",
        "<td style=\"width: 233.333px;\">\n",
        "<p dir=\"ltr\"><a href=\"https://practice.geeksforgeeks.org/problems/search-in-a-matrix-1587115621/1?utm_source=geeksforgeeks&amp;utm_medium=article_practice_tab&amp;utm_campaign=\" rel=\"noopener\"><span>Solve</span></a></p>\n",
        "</td>\n",
        "</tr>\n",
        "</tbody>\n",
        "</table>"
      ],
      "metadata": {
        "id": "l3uWyEvAiNZK"
      }
    },
    {
      "cell_type": "markdown",
      "source": [
        "### Binary Search Python\n",
        "\n",
        "You are given an array of distinct integers nums, sorted in ascending order, and an integer target.\n",
        "\n",
        "Implement a function to search for target within nums. If it exists, then return its index, otherwise, return -1.\n",
        "\n",
        "Your solution must run in 𝑂 ( 𝑙 𝑜 𝑔 𝑛 ) O(logn) time.\n",
        "\n",
        "Example 1:\n",
        "\n",
        "Input: nums = [-1,0,2,4,6,8], target = 4\n",
        "\n",
        "Output: 3 Example 2:\n",
        "\n",
        "Input: nums = [-1,0,2,4,6,8], target = 3\n",
        "\n",
        "Output: -1 Constraints:\n",
        "\n",
        "1 <= nums.length <= 10000. -10000 < nums[i], target < 10000"
      ],
      "metadata": {
        "id": "K6_77MGdUHS7"
      }
    },
    {
      "cell_type": "code",
      "execution_count": null,
      "metadata": {
        "colab": {
          "base_uri": "https://localhost:8080/"
        },
        "id": "hhoYgSS6TaWQ",
        "outputId": "8f71e84d-1542-4fd2-ddc1-52d12e799a56"
      },
      "outputs": [
        {
          "output_type": "stream",
          "name": "stdout",
          "text": [
            "-1\n"
          ]
        }
      ],
      "source": [
        "def binarySearch(nums, target):\n",
        "  n = len(nums)\n",
        "  mid = n//2\n",
        "  mid_value = nums[mid]\n",
        "  if target >= mid_value:\n",
        "    for i in range(mid, n):\n",
        "      if target == nums[i]:\n",
        "        return i\n",
        "  elif target < mid_value:\n",
        "    for i in range(0, mid):\n",
        "      if target == nums[i]:\n",
        "        return i\n",
        "  return -1\n",
        "\n",
        "nums = [-1,0,2,4,6,8]\n",
        "target = 3\n",
        "print(binarySearch(nums, target))"
      ]
    },
    {
      "cell_type": "code",
      "source": [
        "def binarySearch(nums, target):\n",
        "  left, right = 0, len(nums)-1\n",
        "  while left <= right:\n",
        "    mid = (left+right)//2\n",
        "    if nums[mid] == target:\n",
        "      return target\n",
        "    elif nums[mid] < target:\n",
        "      left = mid+1\n",
        "    else:\n",
        "      right = mid-1\n",
        "  return -1\n",
        "\n",
        "nums = [-1,0,2,4,6,8]\n",
        "target = 3\n",
        "print(binarySearch(nums, target))"
      ],
      "metadata": {
        "colab": {
          "base_uri": "https://localhost:8080/"
        },
        "id": "ycduALYGVAcG",
        "outputId": "557602f6-2413-4e29-8fde-d09f006c4d17"
      },
      "execution_count": null,
      "outputs": [
        {
          "output_type": "stream",
          "name": "stdout",
          "text": [
            "-1\n"
          ]
        }
      ]
    },
    {
      "cell_type": "markdown",
      "source": [
        "### Search insert position of K in a sorted array\n",
        "\n",
        "Given a sorted array arr[] consisting of N distinct integers and an integer K, the task is to find the index of K, if it’s present in the array arr[]. Otherwise, find the index where K must be inserted to keep the array sorted.\n",
        "\n",
        "Examples:\n",
        "\n",
        "Input: arr[] = {1, 3, 5, 6}, K = 5\n",
        "\n",
        "Output: 2\n",
        "\n",
        "Explanation: Since 5 is found at index 2 as arr[2] = 5, the output is 2.\n",
        "\n",
        "Input: arr[] = {1, 3, 5, 6}, K = 2\n",
        "\n",
        "Output: 1\n",
        "\n",
        "Explanation: Since 2 is not present in the array but can be inserted at index 1 to make the array sorted."
      ],
      "metadata": {
        "id": "HjmijX1AZYO0"
      }
    },
    {
      "cell_type": "code",
      "source": [
        "def searchPosition(arr, k):\n",
        "  left, right = 0, len(arr)-1\n",
        "  while left <= right:\n",
        "    mid = (left+right)//2\n",
        "    if arr[mid] == k:\n",
        "      return mid\n",
        "    elif arr[mid] < k:\n",
        "      left = mid+1\n",
        "    else:\n",
        "      right = mid-1\n",
        "\n",
        "  return left - right\n",
        "\n",
        "arr1, k1 = [1, 3, 5, 6], 2\n",
        "print(searchPosition(arr1, k1))  # output = 1\n",
        "\n",
        "arr2, k2 = [1, 3, 5, 6], 5\n",
        "print(searchPosition(arr2, k2))  # output = 2"
      ],
      "metadata": {
        "colab": {
          "base_uri": "https://localhost:8080/"
        },
        "id": "y4QPgTeIY92a",
        "outputId": "72eb085f-e864-41b7-a1ce-482a8c0d24c0"
      },
      "execution_count": null,
      "outputs": [
        {
          "output_type": "stream",
          "name": "stdout",
          "text": [
            "1\n",
            "2\n"
          ]
        }
      ]
    },
    {
      "cell_type": "markdown",
      "source": [
        "### Square root of an integer\n",
        "\n",
        "Given an integer X, find its square root. If X is not a perfect square, then return floor(√x).\n",
        "\n",
        "Examples :\n",
        "\n",
        "Input: x = 4\n",
        "Output: 2\n",
        "Explanation: The square root of 4 is 2.\n",
        "\n",
        "Input: x = 11\n",
        "Output: 3\n",
        "Explanation:  The square root of 11 lies in between 3 and 4 so floor of the square root is 3."
      ],
      "metadata": {
        "id": "VXBwMYvPjoXL"
      }
    },
    {
      "cell_type": "code",
      "source": [
        "def floorSquare(x):\n",
        "  if x == 0 or x == 1:\n",
        "    return x\n",
        "  i = 1\n",
        "  res = 1\n",
        "  while res < x:\n",
        "    i += 1\n",
        "    res = i * i\n",
        "  return i - 1\n",
        "\n",
        "print(floorSquare(11))"
      ],
      "metadata": {
        "colab": {
          "base_uri": "https://localhost:8080/"
        },
        "id": "4RNnX-VPgVQW",
        "outputId": "cbbc40e2-ab8c-4101-a1e8-c052dbe291a9"
      },
      "execution_count": null,
      "outputs": [
        {
          "output_type": "stream",
          "name": "stdout",
          "text": [
            "3\n"
          ]
        }
      ]
    },
    {
      "cell_type": "markdown",
      "source": [
        "### First and Last occurrence of a number\n",
        "\n",
        "Given a sorted array arr[] with possibly duplicate elements, the task is to find indexes of the first and last occurrences of an element x in the given array.\n",
        "\n",
        "Examples:\n",
        "```\n",
        "Input : arr[] = {1, 3, 5, 5, 5, 5, 67, 123, 125}, x = 5\n",
        "Output : First Occurrence = 2\n",
        "              Last Occurrence = 5\n",
        "\n",
        "Input : arr[] = {1, 3, 5, 5, 5, 5, 7, 123, 125 }, x = 7\n",
        "\n",
        "Output : First Occurrence = 6\n",
        "              Last Occurrence = 6\n",
        "\n",
        "```"
      ],
      "metadata": {
        "id": "qQe82noXoc-5"
      }
    },
    {
      "cell_type": "code",
      "source": [
        "def firstLastOccure(arr, x):\n",
        "  first_occ, last_occ = float(\"inf\"), 0\n",
        "  n = len(arr)\n",
        "  mid = n//2\n",
        "  mid_value = arr[mid]\n",
        "  if x <= mid_value:\n",
        "    for i in range(0, mid):\n",
        "      if x == arr[i]:\n",
        "        first_occ = min(first_occ, i)\n",
        "        last_occ = max(last_occ, i)\n",
        "  if x >= mid_value:\n",
        "    for i in range(mid, n):\n",
        "      if x == arr[i]:\n",
        "        first_occ = min(first_occ, i)\n",
        "        last_occ = max(last_occ, i)\n",
        "  return f\"First Occurrence: {first_occ}, Last Occurrence: {last_occ}\"\n",
        "\n",
        "\n",
        "\n",
        "arr1, k1 = [1, 3, 5, 5, 5, 5, 67, 123, 125], 5\n",
        "print(firstLastOccure(arr1, k1))\n",
        "\n",
        "arr, k = [1, 3, 5, 5, 5, 5, 7, 123, 125], 7\n",
        "print(firstLastOccure(arr, k))"
      ],
      "metadata": {
        "id": "6UGcA9UUpae7",
        "colab": {
          "base_uri": "https://localhost:8080/"
        },
        "outputId": "b99fea1f-9c91-4de2-d39f-597d5a52e6aa"
      },
      "execution_count": null,
      "outputs": [
        {
          "output_type": "stream",
          "name": "stdout",
          "text": [
            "First Occurrence: 2, Last Occurrence: 5\n",
            "First Occurrence: 6, Last Occurrence: 6\n"
          ]
        }
      ]
    },
    {
      "cell_type": "code",
      "source": [
        "def firstLastOccur(arr, x):\n",
        "    def findFirst(arr, x):\n",
        "        left, right = 0, len(arr) - 1\n",
        "        first_occ = -1\n",
        "        while left <= right:\n",
        "            mid = (left + right) // 2\n",
        "            if arr[mid] == x:\n",
        "                first_occ = mid\n",
        "                right = mid - 1\n",
        "            elif arr[mid] < x:\n",
        "                left = mid + 1\n",
        "            else:\n",
        "                right = mid - 1\n",
        "        return first_occ\n",
        "\n",
        "    def findLast(arr, x):\n",
        "        left, right = 0, len(arr) - 1\n",
        "        last_occ = -1\n",
        "        while left <= right:\n",
        "            mid = (left + right) // 2\n",
        "            if arr[mid] == x:\n",
        "                last_occ = mid\n",
        "                left = mid + 1\n",
        "            elif arr[mid] < x:\n",
        "                left = mid + 1\n",
        "            else:\n",
        "                right = mid - 1\n",
        "        return last_occ\n",
        "\n",
        "    first_occ = findFirst(arr, x)\n",
        "    last_occ = findLast(arr, x)\n",
        "    return f\"First Occurrence: {first_occ}, Last Occurrence: {last_occ}\"\n",
        "\n",
        "# Test cases\n",
        "arr_1, k_1 = [1, 3, 5, 5, 5, 5, 67, 123, 125], 5\n",
        "print(firstLastOccur(arr_1, k_1))\n",
        "\n",
        "arr_2, k_2 = [1, 3, 5, 5, 5, 5, 7, 123, 125], 7\n",
        "print(firstLastOccur(arr_2, k_2))\n"
      ],
      "metadata": {
        "colab": {
          "base_uri": "https://localhost:8080/"
        },
        "id": "_oZyMG3iM895",
        "outputId": "43dde0f1-c19f-4238-af69-30e001c1fc6b"
      },
      "execution_count": null,
      "outputs": [
        {
          "output_type": "stream",
          "name": "stdout",
          "text": [
            "First Occurrence: 2, Last Occurrence: 5\n",
            "First Occurrence: 6, Last Occurrence: 6\n"
          ]
        }
      ]
    },
    {
      "cell_type": "markdown",
      "source": [
        "### Search in rotated array\n",
        "\n",
        "Given a sorted and rotated array arr[] of n distinct elements, the task is to find the index of given target element in the array. If target is not present in the array, return -1.\n",
        "\n",
        "Example:  \n",
        "\n",
        "Input  : arr[] = {4, 5, 6, 7, 0, 1, 2}, target = 0\n",
        "Output : 4\n",
        "\n",
        "Input  : arr[] = { 4, 5, 6, 7, 0, 1, 2 }, target = 3\n",
        "Output : -1\n",
        "\n",
        "Input : arr[] = {30, 40, 50, 10, 20}, target = 10   \n",
        "Output : 3"
      ],
      "metadata": {
        "id": "On3PGWihu23v"
      }
    },
    {
      "cell_type": "code",
      "source": [
        "def searchRotated(arr, x):\n",
        "  left, right = 0, len(arr) - 1\n",
        "\n",
        "  while left <= right:\n",
        "    mid = (left+right)//2\n",
        "\n",
        "    if arr[mid] == x:\n",
        "      return mid\n",
        "\n",
        "    if arr[left] <= arr[mid]:\n",
        "      if arr[left] <= x < arr[mid]:\n",
        "        right = mid - 1\n",
        "      else:\n",
        "        left = mid + 1\n",
        "    else:\n",
        "      if arr[mid] < x <= arr[right]:\n",
        "        left = mid + 1\n",
        "      else:\n",
        "        right = mid -1\n",
        "\n",
        "  return -1\n",
        "\n",
        "\n",
        "arr, k = [3, 3, 3, 1, 2, 3], 11\n",
        "print(searchRotated(arr, k))"
      ],
      "metadata": {
        "colab": {
          "base_uri": "https://localhost:8080/"
        },
        "id": "PQCqLW8OtJDB",
        "outputId": "d8b4450c-ec5e-448f-e8da-8ade6bda56d3"
      },
      "execution_count": 2,
      "outputs": [
        {
          "output_type": "stream",
          "name": "stdout",
          "text": [
            "-1\n"
          ]
        }
      ]
    },
    {
      "cell_type": "markdown",
      "source": [
        "### Search in sorted rotated array II\n",
        "\n",
        "Given an array arr[] which is sorted and rotated, the task is to find an element in the rotated array (with duplicates) in O(log n) time.\n",
        "Note: Print the index where the key exists. In case of multiple answer print any of them\n",
        "\n",
        "Examples:\n",
        "```\n",
        "Input: arr[] = {3, 3, 3, 1, 2, 3}, key = 3\n",
        "Output: 0\n",
        "arr[0] = 3\n",
        "\n",
        "Input: arr[] = {3, 3, 3, 1, 2, 3}, key = 11\n",
        "Output: -1\n",
        "11 is not present in the given array.\n",
        "```"
      ],
      "metadata": {
        "id": "5W59i5-1npc_"
      }
    },
    {
      "cell_type": "code",
      "source": [
        "def searchRotatedII(arr, k):\n",
        "  left, right = 0, len(arr)-1\n",
        "  while left <= right:\n",
        "    mid = (left + right)//2\n",
        "    if arr[mid] == k:\n",
        "      return mid\n",
        "\n",
        "    if arr[mid] <= k:\n",
        "      if arr[left] <= k < arr[mid]:\n",
        "        right = mid - 1\n",
        "      else:\n",
        "        left = mid + 1\n",
        "    else:\n",
        "      if arr[mid] < k <= arr[right]:\n",
        "        left = mid + 1\n",
        "      else:\n",
        "        right = mid - 1\n",
        "\n",
        "  return -1\n",
        "\n",
        "\n",
        "arr, k = [3, 3, 3, 1, 2, 3], 3\n",
        "print(searchRotatedII(arr, k))"
      ],
      "metadata": {
        "colab": {
          "base_uri": "https://localhost:8080/"
        },
        "id": "T7nR6t13lPc8",
        "outputId": "418c3ad3-b621-4192-f4b0-94e3f165a09f"
      },
      "execution_count": 4,
      "outputs": [
        {
          "output_type": "stream",
          "name": "stdout",
          "text": [
            "2\n"
          ]
        }
      ]
    },
    {
      "cell_type": "markdown",
      "source": [
        "### Min element in sorted rotated array\n",
        "\n",
        "Given a sorted array arr[] (may be distinct or may contain duplicates) of size N that is rotated at some unknown point, the task is to find the minimum element in it.\n",
        "\n",
        "Examples:\n",
        "```\n",
        "Input: arr[] = {5, 6, 1, 2, 3, 4}\n",
        "Output: 1\n",
        "Explanation: 1 is the minimum element present in the array.\n",
        "\n",
        "Input: arr[] = {1, 2, 3, 4}\n",
        "Output: 1\n",
        "\n",
        "Input: arr[] = {2, 1}\n",
        "Output: 1\n",
        "```"
      ],
      "metadata": {
        "id": "QRiKWnXToDoN"
      }
    },
    {
      "cell_type": "code",
      "source": [
        "def minValue(arr):\n",
        "  left, right = 0, len(arr)-1\n",
        "\n",
        "  while left <= right:\n",
        "    mid = (left + right)//2\n",
        "    if arr[left] < arr[mid] < arr[right]:\n",
        "      if arr[left] < arr[mid]:\n",
        "        right = mid - 1\n",
        "      else:\n",
        "        left = mid + 1\n",
        "    else:\n",
        "      if arr[mid] < arr[right]:\n",
        "        right = mid - 1\n",
        "      else:\n",
        "        left = mid + 1\n",
        "\n",
        "    return min(arr[left], arr[mid])\n",
        "\n",
        "arr = [5, 6, 1, 2, 3, 4]\n",
        "print(minValue(arr))"
      ],
      "metadata": {
        "colab": {
          "base_uri": "https://localhost:8080/"
        },
        "id": "FBOY3-tdqL2D",
        "outputId": "9679d65e-45a5-4c4f-8183-87e5ebf6939c"
      },
      "execution_count": 21,
      "outputs": [
        {
          "output_type": "stream",
          "name": "stdout",
          "text": [
            "1\n"
          ]
        }
      ]
    },
    {
      "cell_type": "markdown",
      "source": [
        "<a href=\"https://cscircles.cemc.uwaterloo.ca/visualize#code=def+minValue(arr)%3A%0A++left,+right+%3D+0,+len(arr)-1%0A%0A++while+left+%3C%3D+right%3A%0A++++mid+%3D+(left+%2B+right)//2%0A++++if+arr%5Bleft%5D+%3C+arr%5Bmid%5D+%3C+arr%5Bright%5D%3A%0A++++++if+arr%5Bleft%5D+%3C+arr%5Bmid%5D%3A%0A++++++++right+%3D+mid+-+1%0A++++++else%3A%0A++++++++left+%3D+mid+%2B+1%0A++++else%3A%0A++++++if+arr%5Bmid%5D+%3C+arr%5Bright%5D%3A%0A++++++++right+%3D+mid+-+1%0A++++++else%3A%0A++++++++left+%3D+mid+%2B+1%0A%0A++++return+min(arr%5Bleft%5D,+arr%5Bmid%5D)%0A%0Aarr+%3D+%5B5,+6,+1,+2,+3,+4%5D%0Aprint(minValue(arr))&mode=display&raw_input=&curInstr=11\">Visulize the code</a>"
      ],
      "metadata": {
        "id": "DOZS8x6svEkP"
      }
    },
    {
      "cell_type": "code",
      "source": [
        "def minValue(arr):\n",
        "    left, right = 0, len(arr) - 1\n",
        "\n",
        "    while left < right:\n",
        "        mid = (left + right) // 2\n",
        "\n",
        "        # If mid element is greater than the rightmost element, the min is in the right half\n",
        "        if arr[mid] > arr[right]:\n",
        "            left = mid + 1\n",
        "        else:\n",
        "            right = mid\n",
        "\n",
        "    return arr[left]\n",
        "\n",
        "arr = [5, 6, 1, 2, 3, 4]\n",
        "print(minValue(arr))"
      ],
      "metadata": {
        "colab": {
          "base_uri": "https://localhost:8080/"
        },
        "id": "Yw0CjBS8vtgN",
        "outputId": "442496ca-1aaf-4edf-9445-3bd695279593"
      },
      "execution_count": 22,
      "outputs": [
        {
          "output_type": "stream",
          "name": "stdout",
          "text": [
            "1\n"
          ]
        }
      ]
    },
    {
      "cell_type": "markdown",
      "source": [
        "### Time Based Key-Value Store\n",
        "Implement a time-based key-value data structure that supports:\n",
        "\n",
        "Storing multiple values for the same key at specified time stamps\n",
        "Retrieving the key's value at a specified timestamp\n",
        "Implement the TimeMap class:\n",
        "\n",
        "TimeMap() Initializes the object.\n",
        "void set(String key, String value, int timestamp) Stores the key key with the value value at the given time timestamp.\n",
        "String get(String key, int timestamp) Returns the most recent value of key if set was previously called on it and the most recent timestamp for that key prev_timestamp is less than or equal to the given timestamp (prev_timestamp <= timestamp). If there are no values, it returns \"\".\n",
        "Note: For all calls to set, the timestamps are in strictly increasing order.\n",
        "\n",
        "Example 1:\n",
        "```\n",
        "Input:\n",
        "[\"TimeMap\", \"set\", [\"alice\", \"happy\", 1], \"get\", [\"alice\", 1], \"get\", [\"alice\", 2], \"set\", [\"alice\", \"sad\", 3], \"get\", [\"alice\", 3]]\n",
        "\n",
        "Output:\n",
        "[null, null, \"happy\", \"happy\", null, \"sad\"]\n",
        "```\n",
        "\n",
        "```\n",
        "Explanation:\n",
        "TimeMap timeMap = new TimeMap();\n",
        "timeMap.set(\"alice\", \"happy\", 1);  // store the key \"alice\" and value \"happy\" along with timestamp = 1.\n",
        "timeMap.get(\"alice\", 1);           // return \"happy\"\n",
        "timeMap.get(\"alice\", 2);           // return \"happy\", there is no value stored for timestamp 2, thus we return the value at timestamp 1.\n",
        "timeMap.set(\"alice\", \"sad\", 3);    // store the key \"alice\" and value \"sad\" along with timestamp = 3.\n",
        "timeMap.get(\"alice\", 3);           // return \"sad\"\n",
        "```\n",
        "\n",
        "Constraints:\n",
        "\n",
        "\n",
        "1 <= key.length, value.length <= 100\n",
        "\n",
        "key and value only include lowercase English letters and digits.\n",
        "\n",
        "1 <= timestamp <= 1000"
      ],
      "metadata": {
        "id": "CO9zq_310nng"
      }
    },
    {
      "cell_type": "code",
      "source": [],
      "metadata": {
        "id": "4DTAV9ym0NlZ"
      },
      "execution_count": null,
      "outputs": []
    }
  ]
}