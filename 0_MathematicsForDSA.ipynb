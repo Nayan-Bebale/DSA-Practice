{
  "nbformat": 4,
  "nbformat_minor": 0,
  "metadata": {
    "colab": {
      "provenance": [],
      "authorship_tag": "ABX9TyMMntaSYiFe1dbx1ps+Kirf",
      "include_colab_link": true
    },
    "kernelspec": {
      "name": "python3",
      "display_name": "Python 3"
    },
    "language_info": {
      "name": "python"
    }
  },
  "cells": [
    {
      "cell_type": "markdown",
      "metadata": {
        "id": "view-in-github",
        "colab_type": "text"
      },
      "source": [
        "<a href=\"https://colab.research.google.com/github/Nayan-Bebale/DSA-Practice/blob/main/0_MathematicsForDSA.ipynb\" target=\"_parent\"><img src=\"https://colab.research.google.com/assets/colab-badge.svg\" alt=\"Open In Colab\"/></a>"
      ]
    },
    {
      "cell_type": "markdown",
      "source": [
        "# Mathematics For DSA\n",
        "\n",
        "**Auxiliary space** refers to the extra space or the temporary space that an algorithm uses.\n",
        "\n",
        "<a href=\"https://www.youtube.com/watch?v=lmSpZ0bjCyQ&t=15s\">MathematicsForDSA</a>\n",
        "\n",
        "<a href=\"https://www.geeksforgeeks.org/maths-for-data-structure-and-algorithms-dsa-a-complete-guide/\">GeeksForGeek</a>\n",
        "\n",
        "<h2>Table of Content</h2>\n",
        "\n",
        "<li>GCD and HCF (Euclidean Algorithm)\n",
        "<li>Divisors of a number\n",
        "<li>Prime numbers using Sieve of Eratosthenes\n",
        "<li>Square root\n",
        "<li>Modular Arithmetic\n",
        "<li>Fast Power-Exponentiation by Squaring\n",
        "<li>Factorial of a number\n",
        "<li>Fibonacci Number\n",
        "<li>Catalan Numbers\n",
        "<li>Euler Totient Function\n",
        "<li>Prime numbers & Primality Tests\n",
        "<li>Prime Factorization & Divisors\n",
        "<li>Chinese Remainder Theorem\n",
        "<li>Practice Problems based on Maths for DSA\n",
        "<li>Most Frequently Asked Questions (FAQs)\n",
        "\n",
        "<img src=\"https://media.geeksforgeeks.org/wp-content/uploads/20231130130627/DSA-for-maths-banner.jpg\" width=500px>"
      ],
      "metadata": {
        "id": "ObhP35r36uIg"
      }
    },
    {
      "cell_type": "markdown",
      "source": [
        "## <a href=\"https://www.geeksforgeeks.org/maths-for-data-structure-and-algorithms-dsa-a-complete-guide/#1-gcd-and-hcf-euclidean-algorithm\">GCD and HCF (Euclidean Algorithm)</a>\n",
        "\n",
        "The GCD or HCF of two or more integers is the largest positive integer that divides each of the integers without leaving a remainder.\n",
        "\n",
        "**For example**, let’s find the GCD/HCF of 12 and 18:<br>\n",
        "Factors of 12: 1, 2, 3, 4, 6, 12<br>\n",
        "Factors of 18: 1, 2, 3, 6, 9, 18<br>\n",
        "The common factors are 1, 2, 3, and 6.\n",
        "The largest among them is 6, so the GCD/HCF of 12 and 18 is 6.\n",
        "\n",
        "**LCM(a,b) * GCD(a,b) = a*b**\n",
        "\n",
        "So, Now we have to calculate GCD of numbers , but how we do so ?\n",
        "\n",
        "Euclid’s algorithm is an efficient method for calculating the GCD of two numbers. This algorithm uses the easy-to-prove fact **gcd(a, b)=gcd(b, r)**, where r is the remainder when a is divided by b, or just a%b and keep on doing until **b==0**\n",
        "\n",
        "```\n",
        "int GCD(int A, int B) {\n",
        "if (B == 0)\n",
        "return A;\n",
        "\n",
        "else\n",
        "return GCD(B, A % B); }\n",
        "```\n",
        "\n",
        "\n",
        "#### Questions to solve\n",
        "```\n",
        "Input: a = 20, b = 28\n",
        "Output: 4\n",
        "Explanation: The factors of 20 are 1, 2, 4, 5, 10 and\n",
        " 20. The factors of 28 are 1, 2, 4, 7, 14 and 28. Among\n",
        " these factors, 1, 2 and 4 are the common factors of both 20 and 28.\n",
        " The greatest among the common factors is 4.\n",
        "\n",
        "Input: a = 60, b = 36\n",
        "Output: 12\n",
        "```\n",
        "\n",
        "<a href=\"https://cscircles.cemc.uwaterloo.ca/visualize#code=def+gcf(a,b)%3A%0A++while+b+!%3D+0%3A%0A++++a,b+%3D+b,a%25b%0A++return+a%0Aprint(gcf(20,+28))&mode=display&raw_input=&curInstr=11\">Visualize the Second code</a>\n"
      ],
      "metadata": {
        "id": "fcEUlbp--2GN"
      }
    },
    {
      "cell_type": "code",
      "source": [
        "def GCF(a,b):\n",
        "  if b == 0:\n",
        "    return a\n",
        "  else:\n",
        "    return GCF(b, a%b)\n",
        "\n",
        "print(GCF(20,28))"
      ],
      "metadata": {
        "colab": {
          "base_uri": "https://localhost:8080/"
        },
        "id": "0-FG7ML6EFge",
        "outputId": "acbe9763-83e9-41d6-a9f7-dc58f68a3121"
      },
      "execution_count": null,
      "outputs": [
        {
          "output_type": "stream",
          "name": "stdout",
          "text": [
            "4\n"
          ]
        }
      ]
    },
    {
      "cell_type": "code",
      "source": [
        "def gcf(a,b):\n",
        "  while b != 0:\n",
        "    a,b = b,a%b\n",
        "  return a\n",
        "print(gcf(20, 28))\n",
        "print(gcf(60, 36))\n",
        "\n",
        "# Time complexity: O(log(min(n)))"
      ],
      "metadata": {
        "colab": {
          "base_uri": "https://localhost:8080/"
        },
        "id": "fB_1jyySLI2H",
        "outputId": "a591aead-dcc6-40a6-e8ef-704f3d378c1a"
      },
      "execution_count": null,
      "outputs": [
        {
          "output_type": "stream",
          "name": "stdout",
          "text": [
            "4\n",
            "12\n"
          ]
        }
      ]
    },
    {
      "cell_type": "markdown",
      "source": [
        "## Divisors of a number\n",
        "\n",
        "A **divisor** is a number that gives remainder as 0 when divided.\n",
        "\n",
        "**Find all factors of a Natural Number**\n",
        "\n",
        " Input : n = 10       \n",
        " Output: 1 2 5 10\n",
        "\n",
        " Input:  n = 100\n",
        " Output: 1 2 4 5 10 20 25 50 100\n",
        "\n",
        " Input:  n = 125\n",
        " Output: 1 5 25 125"
      ],
      "metadata": {
        "id": "0PBgzkXDQ3Uo"
      }
    },
    {
      "cell_type": "code",
      "source": [
        "def factors(n):\n",
        "  c = 1\n",
        "  back = []\n",
        "  while c*c <= n:\n",
        "    if n%c == 0:\n",
        "      print(c, end=\" \")\n",
        "      back.append(n//c)\n",
        "    c+=1\n",
        "  for i in range(len(back)-1, -1, -1):\n",
        "    print(back[i], end=\" \")\n",
        "factors(125)"
      ],
      "metadata": {
        "colab": {
          "base_uri": "https://localhost:8080/"
        },
        "id": "e5nd0UuXRerq",
        "outputId": "9051710a-eb87-494e-e086-594fc78396d7"
      },
      "execution_count": null,
      "outputs": [
        {
          "output_type": "stream",
          "name": "stdout",
          "text": [
            "1 5 25 125 "
          ]
        }
      ]
    },
    {
      "cell_type": "code",
      "source": [
        "def factors(n):\n",
        "  factor_list = []\n",
        "  for i in range(1, int(n**0.5)+1):\n",
        "    if n%i==0:\n",
        "      factor_list.append(i)\n",
        "      if i != n//i:\n",
        "        factor_list.append(n//i)\n",
        "  factor_list.sort()\n",
        "  return factor_list\n",
        "\n",
        "result = factors(100)\n",
        "print(*result)\n",
        "\n",
        "# Time Complexity: root(n)"
      ],
      "metadata": {
        "colab": {
          "base_uri": "https://localhost:8080/"
        },
        "id": "XXFhRtoN653L",
        "outputId": "deaa0d50-0f72-4b90-d33a-df6c49f0750f"
      },
      "execution_count": null,
      "outputs": [
        {
          "output_type": "stream",
          "name": "stdout",
          "text": [
            "1 2 4 5 10 20 25 50 100\n"
          ]
        }
      ]
    },
    {
      "cell_type": "code",
      "execution_count": null,
      "metadata": {
        "colab": {
          "base_uri": "https://localhost:8080/"
        },
        "id": "UhwjycjfxD6C",
        "outputId": "e79b70d7-e8e7-40cd-a787-8d8ca103e4b7"
      },
      "outputs": [
        {
          "output_type": "stream",
          "name": "stdout",
          "text": [
            "Not prime\n"
          ]
        }
      ],
      "source": [
        "# prime Number\n",
        "\n",
        "for i in range(2, 6):\n",
        "  if 6%i==0:\n",
        "    print(\"Not prime\")\n",
        "    break\n",
        "else:\n",
        "  print(\"Prime\")"
      ]
    },
    {
      "cell_type": "code",
      "source": [
        "def isPrime(n):\n",
        "  if n <= 1:\n",
        "    return False\n",
        "  i = 2\n",
        "  while (i*i < n):\n",
        "    if n % i==0:\n",
        "      return False\n",
        "    i+=1\n",
        "  return True\n",
        "\n",
        "isPrime(5)"
      ],
      "metadata": {
        "colab": {
          "base_uri": "https://localhost:8080/"
        },
        "id": "FUHswerIxs4D",
        "outputId": "712b145d-7f55-4b71-b0d1-188f6c860658"
      },
      "execution_count": null,
      "outputs": [
        {
          "output_type": "execute_result",
          "data": {
            "text/plain": [
              "True"
            ]
          },
          "metadata": {},
          "execution_count": 1
        }
      ]
    },
    {
      "cell_type": "code",
      "source": [
        "40/2"
      ],
      "metadata": {
        "colab": {
          "base_uri": "https://localhost:8080/"
        },
        "id": "eku5JnlpDbNJ",
        "outputId": "e1203310-b332-4670-f84e-21f63fa64060"
      },
      "execution_count": null,
      "outputs": [
        {
          "output_type": "execute_result",
          "data": {
            "text/plain": [
              "20.0"
            ]
          },
          "metadata": {},
          "execution_count": 37
        }
      ]
    },
    {
      "cell_type": "markdown",
      "source": [
        "## Prime numbers using Sieve of Eratosthenes\n",
        "\n",
        "A **prime number** is a natural number greater than 1 and is divisible by only 1 and itself.\n",
        "\n",
        "Generating primes fast is very important in some problems. You can use the **Sieve of Eratosthenes** to find all the prime numbers that are less than or equal to a given number N or to find out whether a number is a prime number in more efficient way.\n",
        "\n",
        "The basic idea behind the **Sieve of Eratosthenes** is that at each iteration one prime number is picked up and all its multiples are eliminated. After the elimination process is complete, all the unmarked numbers that remain are prime.\n",
        "\n",
        "* Create a list of numbers from 2 to the desired limit.\n",
        "* Start with the first number (2) and mark it as prime.\n",
        "* Eliminate all multiples of the current prime number from the list.\n",
        "* Find the next unmarked number in the list and set it as the new prime.\n",
        "* Repeat steps 3-4 until the square of the current prime is greater than the limit.\n",
        "* All remaining unmarked numbers in the list are prime.\n"
      ],
      "metadata": {
        "id": "5BaVYGGJ-eVW"
      }
    },
    {
      "cell_type": "markdown",
      "source": [
        "## Finding Square root"
      ],
      "metadata": {
        "id": "Zmnv4pafCJUl"
      }
    },
    {
      "cell_type": "code",
      "source": [
        "def sieve(n):\n",
        "  primes = [True]*(n+1)\n",
        "  primes[0] = primes[1] = False\n",
        "  c = 2\n",
        "  while c*c <= n:\n",
        "    if primes[c]:\n",
        "      for i in range(c**2, n+1, c):\n",
        "        primes[i] = False\n",
        "    c +=1\n",
        "\n",
        "  prime_num = [j for j in range(2, len(primes)) if primes[j]]\n",
        "  return prime_num\n",
        "\n",
        "\n",
        "print(*sieve(50))"
      ],
      "metadata": {
        "colab": {
          "base_uri": "https://localhost:8080/"
        },
        "id": "aqWAuJaB__I_",
        "outputId": "b3718d2d-57ec-4b8a-ab1c-6f93aa554c01"
      },
      "execution_count": null,
      "outputs": [
        {
          "output_type": "stream",
          "name": "stdout",
          "text": [
            "2 3 5 7 11 13 17 19 23 29 31 37 41 43 47\n"
          ]
        }
      ]
    },
    {
      "cell_type": "markdown",
      "source": [
        "## Square root\n",
        "\n",
        "To find the floor of the square root, try with all-natural numbers starting from and continue incrementing the number until the square of that number is greater than the given number. but this will take linear time complexity .\n",
        "So can we optimize to better complexity , answer is yes , the idea is to find the largest integer i whose square is less than or equal to the given number. The values of  i*i is monotonically increasing, so the problem can be solved using binary search.\n",
        "\n",
        "<a href=\"https://cscircles.cemc.uwaterloo.ca/visualize#code=def+floorSqr(x)%3A%0A++if+x%3D%3D0+or+x%3D%3D1%3A%0A++++return+x%0A++y+%3D+x%0A++while+y*y+%3E+x%3A%0A++++y+%3D+(y%2Bx//y)//2%0A++return+y%0A%0Aprint(floorSqr(17))&mode=display&raw_input=&curInstr=0\">Visualize the code</a>"
      ],
      "metadata": {
        "id": "noWfY9idKUlw"
      }
    },
    {
      "cell_type": "code",
      "source": [
        "def floorSqr(x):\n",
        "  if x==0 or x==1:\n",
        "    return x\n",
        "  y = x\n",
        "  while y*y > x:\n",
        "    y = (y+x//y)//2\n",
        "  return y\n",
        "\n",
        "print(floorSqr(17))"
      ],
      "metadata": {
        "colab": {
          "base_uri": "https://localhost:8080/"
        },
        "id": "QqA_cP261igC",
        "outputId": "b82b78a8-54a6-469b-a7d8-fb27769cb148"
      },
      "execution_count": null,
      "outputs": [
        {
          "output_type": "stream",
          "name": "stdout",
          "text": [
            "4\n"
          ]
        }
      ]
    },
    {
      "cell_type": "markdown",
      "source": [
        "## Modular Arithmetic\n",
        "\n",
        "Basically, modular arithmetic is related with computation of “mod” of expressions.\n",
        "some important identities about the modulo operator:\n",
        "\n",
        "* (a mod m) + (b mod m)  mod m = a + b  mod m\n",
        "* (a mod m) – (b mod m)  mod m = a – b  mod m\n",
        "* (a mod m) * (b mod m)  mod m = a* b  mod m\n",
        "\n",
        "The modular division is totally different from modular addition, subtraction and multiplication. It also does not exist always.\n",
        "\n",
        "* (a / b) mod m = (a x (inverse of b if exists)) mod m\n",
        "\n",
        "### Modular Inverse\n",
        "The modular inverse of a mod m exists only if a and m are relatively prime i.e. **gcd(a, m) = 1**. Hence, for finding the inverse of an under modulo m, if **(a x b) mod m = 1** then b is the modular inverse of a."
      ],
      "metadata": {
        "id": "oFvfvGEpXZrf"
      }
    },
    {
      "cell_type": "markdown",
      "source": [
        "##  Fast Power-Exponentiation by Squaring\n"
      ],
      "metadata": {
        "id": "7_y44nrlYBNp"
      }
    },
    {
      "cell_type": "code",
      "source": [
        "152&1"
      ],
      "metadata": {
        "id": "LyE4FUfuC4NI",
        "colab": {
          "base_uri": "https://localhost:8080/"
        },
        "outputId": "f0e55054-96ce-4efb-e571-8052a4a9c042"
      },
      "execution_count": null,
      "outputs": [
        {
          "output_type": "execute_result",
          "data": {
            "text/plain": [
              "0"
            ]
          },
          "metadata": {},
          "execution_count": 5
        }
      ]
    },
    {
      "cell_type": "code",
      "source": [],
      "metadata": {
        "colab": {
          "base_uri": "https://localhost:8080/"
        },
        "id": "fspeInT9ee6r",
        "outputId": "cf27bf1c-9a04-495b-8d83-f97a102e63d3"
      },
      "execution_count": null,
      "outputs": [
        {
          "output_type": "stream",
          "name": "stdout",
          "text": [
            "59049\n"
          ]
        }
      ]
    },
    {
      "cell_type": "code",
      "source": [],
      "metadata": {
        "id": "DUQwqd7qe4De"
      },
      "execution_count": null,
      "outputs": []
    }
  ]
}