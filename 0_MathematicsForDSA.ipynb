{
  "nbformat": 4,
  "nbformat_minor": 0,
  "metadata": {
    "colab": {
      "provenance": [],
      "authorship_tag": "ABX9TyOXUMkqeKD/H6ywLt2g6NC8",
      "include_colab_link": true
    },
    "kernelspec": {
      "name": "python3",
      "display_name": "Python 3"
    },
    "language_info": {
      "name": "python"
    }
  },
  "cells": [
    {
      "cell_type": "markdown",
      "metadata": {
        "id": "view-in-github",
        "colab_type": "text"
      },
      "source": [
        "<a href=\"https://colab.research.google.com/github/Nayan-Bebale/DSA-Practice/blob/main/0_MathematicsForDSA.ipynb\" target=\"_parent\"><img src=\"https://colab.research.google.com/assets/colab-badge.svg\" alt=\"Open In Colab\"/></a>"
      ]
    },
    {
      "cell_type": "markdown",
      "source": [
        "# Mathematics For DSA\n",
        "\n",
        "**Auxiliary space** refers to the extra space or the temporary space that an algorithm uses.\n",
        "\n",
        "<a href=\"https://www.youtube.com/watch?v=lmSpZ0bjCyQ&t=15s\">MathematicsForDSA</a>\n",
        "\n",
        "<a href=\"https://www.geeksforgeeks.org/maths-for-data-structure-and-algorithms-dsa-a-complete-guide/\">GeeksForGeek</a>\n",
        "\n",
        "<h2>Table of Content</h2>\n",
        "\n",
        "<li>GCD and HCF (Euclidean Algorithm)\n",
        "<li>Divisors of a number\n",
        "<li>Prime numbers using Sieve of Eratosthenes\n",
        "<li>Square root\n",
        "<li>Modular Arithmetic\n",
        "<li>Fast Power-Exponentiation by Squaring\n",
        "<li>Factorial of a number\n",
        "<li>Fibonacci Number\n",
        "<li>Catalan Numbers\n",
        "<li>Euler Totient Function\n",
        "<li>Prime numbers & Primality Tests\n",
        "<li>Prime Factorization & Divisors\n",
        "<li>Chinese Remainder Theorem\n",
        "<li>Practice Problems based on Maths for DSA\n",
        "<li>Most Frequently Asked Questions (FAQs)\n",
        "\n",
        "<img src=\"https://media.geeksforgeeks.org/wp-content/uploads/20231130130627/DSA-for-maths-banner.jpg\" width=500px>"
      ],
      "metadata": {
        "id": "ObhP35r36uIg"
      }
    },
    {
      "cell_type": "markdown",
      "source": [
        "## <a href=\"https://www.geeksforgeeks.org/maths-for-data-structure-and-algorithms-dsa-a-complete-guide/#1-gcd-and-hcf-euclidean-algorithm\">GCD and HCF (Euclidean Algorithm)</a>\n",
        "\n",
        "The GCD or HCF of two or more integers is the largest positive integer that divides each of the integers without leaving a remainder.\n",
        "\n",
        "**For example**, let’s find the GCD/HCF of 12 and 18:<br>\n",
        "Factors of 12: 1, 2, 3, 4, 6, 12<br>\n",
        "Factors of 18: 1, 2, 3, 6, 9, 18<br>\n",
        "The common factors are 1, 2, 3, and 6.\n",
        "The largest among them is 6, so the GCD/HCF of 12 and 18 is 6.\n",
        "\n",
        "**LCM(a,b) * GCD(a,b) = a*b**\n",
        "\n",
        "So, Now we have to calculate GCD of numbers , but how we do so ?\n",
        "\n",
        "Euclid’s algorithm is an efficient method for calculating the GCD of two numbers. This algorithm uses the easy-to-prove fact **gcd(a, b)=gcd(b, r)**, where r is the remainder when a is divided by b, or just a%b and keep on doing until **b==0**\n",
        "\n",
        "```\n",
        "int GCD(int A, int B) {\n",
        "if (B == 0)\n",
        "return A;\n",
        "\n",
        "else\n",
        "return GCD(B, A % B); }\n",
        "```\n",
        "\n",
        "\n",
        "#### Questions to solve\n",
        "```\n",
        "Input: a = 20, b = 28\n",
        "Output: 4\n",
        "Explanation: The factors of 20 are 1, 2, 4, 5, 10 and\n",
        " 20. The factors of 28 are 1, 2, 4, 7, 14 and 28. Among\n",
        " these factors, 1, 2 and 4 are the common factors of both 20 and 28.\n",
        " The greatest among the common factors is 4.\n",
        "\n",
        "Input: a = 60, b = 36\n",
        "Output: 12\n",
        "```\n",
        "\n",
        "<a href=\"https://cscircles.cemc.uwaterloo.ca/visualize#code=def+gcf(a,b)%3A%0A++while+b+!%3D+0%3A%0A++++a,b+%3D+b,a%25b%0A++return+a%0Aprint(gcf(20,+28))&mode=display&raw_input=&curInstr=11\">Visualize the Second code</a>\n"
      ],
      "metadata": {
        "id": "fcEUlbp--2GN"
      }
    },
    {
      "cell_type": "code",
      "source": [
        "def GCF(a,b):\n",
        "  if b == 0:\n",
        "    return a\n",
        "  else:\n",
        "    return GCF(b, a%b)\n",
        "\n",
        "print(GCF(20,28))"
      ],
      "metadata": {
        "colab": {
          "base_uri": "https://localhost:8080/"
        },
        "id": "0-FG7ML6EFge",
        "outputId": "acbe9763-83e9-41d6-a9f7-dc58f68a3121"
      },
      "execution_count": null,
      "outputs": [
        {
          "output_type": "stream",
          "name": "stdout",
          "text": [
            "4\n"
          ]
        }
      ]
    },
    {
      "cell_type": "code",
      "source": [
        "def gcf(a,b):\n",
        "  while b != 0:\n",
        "    a,b = b,a%b\n",
        "  return a\n",
        "print(gcf(20, 28))\n",
        "print(gcf(60, 36))\n",
        "\n",
        "# Time complexity: O(log(min(n)))"
      ],
      "metadata": {
        "colab": {
          "base_uri": "https://localhost:8080/"
        },
        "id": "fB_1jyySLI2H",
        "outputId": "a591aead-dcc6-40a6-e8ef-704f3d378c1a"
      },
      "execution_count": null,
      "outputs": [
        {
          "output_type": "stream",
          "name": "stdout",
          "text": [
            "4\n",
            "12\n"
          ]
        }
      ]
    },
    {
      "cell_type": "markdown",
      "source": [
        "## Divisors of a number\n",
        "\n",
        "A **divisor** is a number that gives remainder as 0 when divided.\n",
        "\n",
        "**Find all factors of a Natural Number**\n",
        "\n",
        " Input : n = 10       \n",
        " Output: 1 2 5 10\n",
        "\n",
        " Input:  n = 100\n",
        " Output: 1 2 4 5 10 20 25 50 100\n",
        "\n",
        " Input:  n = 125\n",
        " Output: 1 5 25 125"
      ],
      "metadata": {
        "id": "0PBgzkXDQ3Uo"
      }
    },
    {
      "cell_type": "code",
      "source": [
        "def factors(n):\n",
        "  c = 1\n",
        "  back = []\n",
        "  while c*c <= n:\n",
        "    if n%c == 0:\n",
        "      print(c, end=\" \")\n",
        "      back.append(n//c)\n",
        "    c+=1\n",
        "  for i in range(len(back)-1, -1, -1):\n",
        "    print(back[i], end=\" \")\n",
        "factors(125)"
      ],
      "metadata": {
        "colab": {
          "base_uri": "https://localhost:8080/"
        },
        "id": "e5nd0UuXRerq",
        "outputId": "9051710a-eb87-494e-e086-594fc78396d7"
      },
      "execution_count": null,
      "outputs": [
        {
          "output_type": "stream",
          "name": "stdout",
          "text": [
            "1 5 25 125 "
          ]
        }
      ]
    },
    {
      "cell_type": "code",
      "source": [
        "def factors(n):\n",
        "  factor_list = []\n",
        "  for i in range(1, int(n**0.5)+1):\n",
        "    if n%i==0:\n",
        "      factor_list.append(i)\n",
        "      if i != n//i:\n",
        "        factor_list.append(n//i)\n",
        "  factor_list.sort()\n",
        "  return factor_list\n",
        "\n",
        "result = factors(100)\n",
        "print(*result)\n",
        "\n",
        "# Time Complexity: root(n)"
      ],
      "metadata": {
        "colab": {
          "base_uri": "https://localhost:8080/"
        },
        "id": "XXFhRtoN653L",
        "outputId": "deaa0d50-0f72-4b90-d33a-df6c49f0750f"
      },
      "execution_count": null,
      "outputs": [
        {
          "output_type": "stream",
          "name": "stdout",
          "text": [
            "1 2 4 5 10 20 25 50 100\n"
          ]
        }
      ]
    },
    {
      "cell_type": "code",
      "execution_count": null,
      "metadata": {
        "colab": {
          "base_uri": "https://localhost:8080/"
        },
        "id": "UhwjycjfxD6C",
        "outputId": "e79b70d7-e8e7-40cd-a787-8d8ca103e4b7"
      },
      "outputs": [
        {
          "output_type": "stream",
          "name": "stdout",
          "text": [
            "Not prime\n"
          ]
        }
      ],
      "source": [
        "# prime Number\n",
        "\n",
        "for i in range(2, 6):\n",
        "  if 6%i==0:\n",
        "    print(\"Not prime\")\n",
        "    break\n",
        "else:\n",
        "  print(\"Prime\")"
      ]
    },
    {
      "cell_type": "code",
      "source": [
        "def isPrime(n):\n",
        "  if n <= 1:\n",
        "    return False\n",
        "  i = 2\n",
        "  while (i*i < n):\n",
        "    if n % i==0:\n",
        "      return False\n",
        "    i+=1\n",
        "  return True\n",
        "\n",
        "isPrime(5)"
      ],
      "metadata": {
        "colab": {
          "base_uri": "https://localhost:8080/"
        },
        "id": "FUHswerIxs4D",
        "outputId": "712b145d-7f55-4b71-b0d1-188f6c860658"
      },
      "execution_count": null,
      "outputs": [
        {
          "output_type": "execute_result",
          "data": {
            "text/plain": [
              "True"
            ]
          },
          "metadata": {},
          "execution_count": 1
        }
      ]
    },
    {
      "cell_type": "code",
      "source": [
        "40/2"
      ],
      "metadata": {
        "colab": {
          "base_uri": "https://localhost:8080/"
        },
        "id": "eku5JnlpDbNJ",
        "outputId": "e1203310-b332-4670-f84e-21f63fa64060"
      },
      "execution_count": null,
      "outputs": [
        {
          "output_type": "execute_result",
          "data": {
            "text/plain": [
              "20.0"
            ]
          },
          "metadata": {},
          "execution_count": 37
        }
      ]
    },
    {
      "cell_type": "markdown",
      "source": [
        "## Prime numbers using Sieve of Eratosthenes\n",
        "\n",
        "A **prime number** is a natural number greater than 1 and is divisible by only 1 and itself.\n",
        "\n",
        "Generating primes fast is very important in some problems. You can use the **Sieve of Eratosthenes** to find all the prime numbers that are less than or equal to a given number N or to find out whether a number is a prime number in more efficient way.\n",
        "\n",
        "The basic idea behind the **Sieve of Eratosthenes** is that at each iteration one prime number is picked up and all its multiples are eliminated. After the elimination process is complete, all the unmarked numbers that remain are prime.\n",
        "\n",
        "* Create a list of numbers from 2 to the desired limit.\n",
        "* Start with the first number (2) and mark it as prime.\n",
        "* Eliminate all multiples of the current prime number from the list.\n",
        "* Find the next unmarked number in the list and set it as the new prime.\n",
        "* Repeat steps 3-4 until the square of the current prime is greater than the limit.\n",
        "* All remaining unmarked numbers in the list are prime.\n"
      ],
      "metadata": {
        "id": "5BaVYGGJ-eVW"
      }
    },
    {
      "cell_type": "markdown",
      "source": [
        "## Finding Square root"
      ],
      "metadata": {
        "id": "Zmnv4pafCJUl"
      }
    },
    {
      "cell_type": "code",
      "source": [
        "def sieve(n):\n",
        "  primes = [True]*(n+1)\n",
        "  primes[0] = primes[1] = False\n",
        "  c = 2\n",
        "  while c*c <= n:\n",
        "    if primes[c]:\n",
        "      for i in range(c**2, n+1, c):\n",
        "        primes[i] = False\n",
        "    c +=1\n",
        "\n",
        "  prime_num = [j for j in range(2, len(primes)) if primes[j]]\n",
        "  return prime_num\n",
        "\n",
        "\n",
        "print(*sieve(50))"
      ],
      "metadata": {
        "colab": {
          "base_uri": "https://localhost:8080/"
        },
        "id": "aqWAuJaB__I_",
        "outputId": "b3718d2d-57ec-4b8a-ab1c-6f93aa554c01"
      },
      "execution_count": null,
      "outputs": [
        {
          "output_type": "stream",
          "name": "stdout",
          "text": [
            "2 3 5 7 11 13 17 19 23 29 31 37 41 43 47\n"
          ]
        }
      ]
    },
    {
      "cell_type": "markdown",
      "source": [
        "## Square root\n",
        "\n",
        "To find the floor of the square root, try with all-natural numbers starting from and continue incrementing the number until the square of that number is greater than the given number. but this will take linear time complexity .\n",
        "So can we optimize to better complexity , answer is yes , the idea is to find the largest integer i whose square is less than or equal to the given number. The values of  i*i is monotonically increasing, so the problem can be solved using binary search.\n",
        "\n",
        "<a href=\"https://cscircles.cemc.uwaterloo.ca/visualize#code=def+floorSqr(x)%3A%0A++if+x%3D%3D0+or+x%3D%3D1%3A%0A++++return+x%0A++y+%3D+x%0A++while+y*y+%3E+x%3A%0A++++y+%3D+(y%2Bx//y)//2%0A++return+y%0A%0Aprint(floorSqr(17))&mode=display&raw_input=&curInstr=0\">Visualize the code</a>"
      ],
      "metadata": {
        "id": "noWfY9idKUlw"
      }
    },
    {
      "cell_type": "code",
      "source": [
        "def floorSqr(x):\n",
        "  if x==0 or x==1:\n",
        "    return x\n",
        "  y = x\n",
        "  while y*y > x:\n",
        "    y = (y+x//y)//2\n",
        "  return y\n",
        "\n",
        "print(floorSqr(17))"
      ],
      "metadata": {
        "colab": {
          "base_uri": "https://localhost:8080/"
        },
        "id": "QqA_cP261igC",
        "outputId": "b82b78a8-54a6-469b-a7d8-fb27769cb148"
      },
      "execution_count": null,
      "outputs": [
        {
          "output_type": "stream",
          "name": "stdout",
          "text": [
            "4\n"
          ]
        }
      ]
    },
    {
      "cell_type": "markdown",
      "source": [
        "## Modular Arithmetic\n",
        "\n",
        "Basically, modular arithmetic is related with computation of “mod” of expressions.\n",
        "some important identities about the modulo operator:\n",
        "\n",
        "* (a mod m) + (b mod m)  mod m = a + b  mod m\n",
        "* (a mod m) – (b mod m)  mod m = a – b  mod m\n",
        "* (a mod m) * (b mod m)  mod m = a* b  mod m\n",
        "\n",
        "The modular division is totally different from modular addition, subtraction and multiplication. It also does not exist always.\n",
        "\n",
        "* (a / b) mod m = (a x (inverse of b if exists)) mod m\n",
        "\n",
        "### Modular Inverse\n",
        "The modular inverse of a mod m exists only if a and m are relatively prime i.e. **gcd(a, m) = 1**. Hence, for finding the inverse of an under modulo m, if **(a x b) mod m = 1** then b is the modular inverse of a."
      ],
      "metadata": {
        "id": "oFvfvGEpXZrf"
      }
    },
    {
      "cell_type": "markdown",
      "source": [
        "##  Fast Power-Exponentiation by Squaring\n",
        "\n",
        "We know how to find 2 raised to the power 10. But what if we have to find 2 raised to the power very large number such as 1000000000? Exponentiation by Squaring helps us in finding the powers of large positive integers. Idea is to the divide the power in half at each step.\n",
        "```\n",
        "9 ^ 5 = 9 * 9 * 9 * 9 * 9\n",
        "// Try to divide the power by 2\n",
        "// Since the power is an odd number here, we cannot do so.\n",
        "// However there's another way to represent\n",
        "9 ^ 59 ^ 5 = (9 ^ 4) * 9\n",
        "// Now we can find 9 ^ 4 and later multiple the extra 9 to the result\n",
        "9 ^ 5 = (81 ^ 2) * 9\n",
        "```\n",
        "\n",
        "Effectively, when power is not divisible by 2, we make power even by taking out the extra 9. Then we already know the solution when power is divisible by 2. Divide the power by 2 and multiply the base to itself.\n",
        "\n",
        "Below is the code snippet for Fast Power-Exponentiation by Squaring\n",
        "\n",
        "<a href=\"https://memlayout.com/?code=def%20power(x%2C%20y%2C%20p)%3A%0A%20%20%23%20Intial%20result%0A%20%20res%20%3D%201%0A%20%20x%20%25%3D%20p%0A%0A%20%20if%20x%3D%3D0%3A%0A%20%20%20%20return%200%0A%0A%20%20while%20y%3E0%3A%0A%20%20%20%20%23%20when%20y%20is%20odd%0A%20%20%20%20if%20y%252%20%3D%3D%201%3A%0A%20%20%20%20%20%20res%20%3D%20(res*x)%25p%0A%20%20%20%20%23%20y%20must%20be%20even%0A%20%20%20%20y%2F%2F%3D2%0A%20%20%20%20x%20%3D%20(x*x)%25p%0A%20%20return%20res%0A%0Apower(9%2C5%2C%201000000007)%0A\">Visualize the code</a>"
      ],
      "metadata": {
        "id": "7_y44nrlYBNp"
      }
    },
    {
      "cell_type": "code",
      "source": [
        "def power(x, y, p):\n",
        "  # Intial result\n",
        "  res = 1\n",
        "  x %= p\n",
        "\n",
        "  if x==0:\n",
        "    return 0\n",
        "\n",
        "  while y>0:\n",
        "    # when y is odd\n",
        "    if y%2 == 1:\n",
        "      res = (res*x)%p\n",
        "    # y must be even\n",
        "    y//=2\n",
        "    x = (x*x)%p\n",
        "  return res\n",
        "\n",
        "power(9,5, 1000000007)\n"
      ],
      "metadata": {
        "id": "LyE4FUfuC4NI",
        "colab": {
          "base_uri": "https://localhost:8080/"
        },
        "outputId": "1c0925ab-4218-4675-98fe-bd5a72f5b162"
      },
      "execution_count": null,
      "outputs": [
        {
          "output_type": "execute_result",
          "data": {
            "text/plain": [
              "59049"
            ]
          },
          "metadata": {},
          "execution_count": 6
        }
      ]
    },
    {
      "cell_type": "markdown",
      "source": [
        "## Factorial of a number\n",
        "Factorial of a non-negative integer is the multiplication of all positive integers smaller than or equal to n. For example factorial of 6 is **6x5x4x3x2x1** which is 720.\n",
        "\n",
        "Let’s create a factorial program using recursive functions. Until the value is not equal to zero, the recursive function will call itself. Factorial can be calculated using the following recursive formula.\n",
        "```\n",
        "n! = n * (n – 1)!\n",
        "n! = 1 if n = 0 or n = 1\n",
        "```"
      ],
      "metadata": {
        "id": "zpvvNhLMmGxv"
      }
    },
    {
      "cell_type": "code",
      "source": [
        "def factorial(n):\n",
        "  if n in [0, 1]:\n",
        "    return n\n",
        "  return n*factorial(n-1)\n",
        "factorial(5)"
      ],
      "metadata": {
        "colab": {
          "base_uri": "https://localhost:8080/"
        },
        "id": "fspeInT9ee6r",
        "outputId": "7f010632-e678-424f-ee7b-c7ca027889b2"
      },
      "execution_count": null,
      "outputs": [
        {
          "output_type": "execute_result",
          "data": {
            "text/plain": [
              "120"
            ]
          },
          "metadata": {},
          "execution_count": 27
        }
      ]
    },
    {
      "cell_type": "markdown",
      "source": [
        "## Fibonacci Number\n",
        "The Fibonacci series is the sequence where each number is the sum of the previous two numbers of the sequence. The first two numbers of the Fibonacci series are 0 and 1 and are used to generate the Fibonacci series.\n",
        "\n",
        "In mathematical terms, the number at the nth position can be represented by:\n",
        "\n",
        "`Fn = Fn-1 + Fn-2`\n",
        "\n",
        "where, `F0 = 0` and `F1 = 1`.\n",
        "For example, Fibonacci series upto 10 terms is: 0, 1, 1, 2, 3, 5, 8, 13, 21, 34"
      ],
      "metadata": {
        "id": "fdDz9YBPtMYq"
      }
    },
    {
      "cell_type": "code",
      "source": [
        "def fibonacci(n):\n",
        "  if n in [0, 1]:\n",
        "    return n\n",
        "  return fibonacci(n-1) + fibonacci(n-2)\n",
        "number = 10\n",
        "for i in range(0,number):\n",
        "  print(fibonacci(i), end=' ')"
      ],
      "metadata": {
        "colab": {
          "base_uri": "https://localhost:8080/"
        },
        "id": "k-QYZ0uko5_m",
        "outputId": "4ff6d02d-5c76-4262-ef17-660dbdffa80d"
      },
      "execution_count": null,
      "outputs": [
        {
          "output_type": "stream",
          "name": "stdout",
          "text": [
            "0 1 1 2 3 5 8 13 21 34 "
          ]
        }
      ]
    },
    {
      "cell_type": "markdown",
      "source": [
        "Catalan numbers are a sequence of natural numbers that have various applications in combinatorial mathematics, particularly in the counting of different types of binary trees, parenthetical expressions, and more.\n",
        "\n",
        "Formula:\n",
        "`\n",
        "𝐶\n",
        "𝑛\n",
        "=\n",
        "1\n",
        "𝑛\n",
        "+\n",
        "1\n",
        "(\n",
        "2\n",
        "𝑛\n",
        "𝑛\n",
        ")\n",
        "C\n",
        "n\n",
        "​\n",
        " =\n",
        "n+1\n",
        "1\n",
        "​\n",
        " (\n",
        "n\n",
        "2n\n",
        "​\n",
        " )\n",
        " `\n",
        "\n",
        "Below is the code snippet for Catalan Numbers:"
      ],
      "metadata": {
        "id": "zXUut3CUpLOS"
      }
    },
    {
      "cell_type": "code",
      "source": [
        "# Function to calculate nth Catalan number\n",
        "def catalan(n):\n",
        "    # Base cases\n",
        "    if n == 0 or n == 1:\n",
        "        return 1\n",
        "\n",
        "    # Initialize result\n",
        "    catalan_num = 0\n",
        "\n",
        "    # Catalan number is the sum of catalan(i) * catalan(n - i - 1)\n",
        "    for i in range(n):\n",
        "        catalan_num += catalan(i) * catalan(n - i - 1)\n",
        "\n",
        "    return catalan_num\n",
        "\n",
        "\n",
        "# Driver code\n",
        "if __name__ == \"__main__\":\n",
        "    n = 6\n",
        "    result = catalan(n)\n",
        "    print(f\"The {n}th Catalan number is: {result}\")\n"
      ],
      "metadata": {
        "colab": {
          "base_uri": "https://localhost:8080/"
        },
        "id": "eYDRRc6dgIVs",
        "outputId": "a89f86c5-280f-4d13-9e21-e24cc7284a6c"
      },
      "execution_count": 16,
      "outputs": [
        {
          "output_type": "stream",
          "name": "stdout",
          "text": [
            "The 6th Catalan number is: 132\n"
          ]
        }
      ]
    },
    {
      "cell_type": "code",
      "source": [
        "# 2^3 % 5 = 8 % 5\n",
        "\n",
        "(2**3)%5"
      ],
      "metadata": {
        "colab": {
          "base_uri": "https://localhost:8080/"
        },
        "id": "QrJk8vWpgIAr",
        "outputId": "19eb7057-2c87-4cc1-805d-db2c11b58333"
      },
      "execution_count": 21,
      "outputs": [
        {
          "output_type": "execute_result",
          "data": {
            "text/plain": [
              "3"
            ]
          },
          "metadata": {},
          "execution_count": 21
        }
      ]
    },
    {
      "cell_type": "markdown",
      "source": [
        "<b>.</b><br>\n",
        "<b>.</b><br>\n",
        "<b>.</b><br>\n",
        "<b>.</b><br>\n",
        "<b>.</b><br>\n",
        "<b>.</b><br>\n",
        "<b>.</b><br>\n",
        "<b>.</b><br>\n",
        "<b>.</b><br>\n",
        "<b>.</b><br>\n",
        "<b>.</b><br>\n",
        "<b>.</b><br>\n",
        "<b>.</b><br>\n",
        "<b>.</b><br>\n",
        "<b>.</b><br>\n",
        "<b>.</b><br>\n",
        "<b>.</b><br>\n",
        "<b>.</b><br>\n",
        "<b>.</b><br>\n",
        "<b>.</b><br>\n",
        "<b>.</b><br>\n",
        "<b>.</b><br>\n",
        "<b>.</b><br>\n",
        "<b>.</b><br>\n",
        "<b>.</b><br>\n",
        "<b>.</b><br>\n",
        "<b>.</b><br>\n",
        "<b>.</b><br>\n",
        "<b>.</b><br>\n",
        "<b>.</b><br>\n",
        "<b>.</b><br>\n",
        "<b>.</b><br>\n",
        "<b>.</b><br>\n",
        "<b>.</b><br>\n",
        "<b>.</b><br>\n",
        "<b>.</b><br>\n",
        "<b>.</b><br>\n",
        "<b>.</b><br>\n",
        "<b>.</b><br>\n",
        "<b>.</b><br>\n",
        "<b>.</b><br>\n",
        "<b>.</b><br>\n",
        "<b>.</b><br>\n",
        "<b>.</b><br>\n",
        "<b>.</b><br>\n",
        "<b>.</b><br>\n",
        "<b>.</b><br>\n",
        "<b>.</b><br>\n",
        "<b>.</b><br>\n",
        "<b>.</b><br>\n",
        "<b>.</b><br>\n",
        "<b>.</b><br>\n",
        "<b>.</b><br>\n",
        "<b>.</b><br>\n",
        "<b>.</b><br>\n",
        "<b>.</b><br>\n",
        "<b>.</b><br>\n",
        "<b>.</b><br>\n",
        "<b>.</b><br>\n",
        "<b>.</b><br>\n",
        "<b>.</b><br>\n",
        "<b>.</b><br>\n",
        "<b>.</b><br>\n",
        "<b>.</b><br>\n",
        "<b>.</b><br>\n",
        "<b>.</b><br>\n",
        "<b>.</b><br>\n",
        "<b>.</b><br>\n",
        "<b>.</b><br>\n",
        "<b>.</b><br>\n",
        "<b>.</b><br>\n",
        "<b>.</b><br>\n",
        "<b>.</b><br>\n",
        "<b>.</b><br>\n",
        "<b>.</b><br>\n",
        "<b>.</b><br>\n",
        "<b>.</b><br>\n",
        "<b>.</b><br>\n",
        "<b>.</b><br>\n",
        "<b>.</b><br>\n",
        "<b>.</b><br>\n",
        "<b>.</b><br>\n",
        "<b>.</b><br>\n",
        "<b>.</b><br>\n",
        "<b>.</b><br>\n",
        "<b>.</b><br>\n",
        "<b>.</b><br>\n",
        "<b>.</b><br>\n",
        "<b>.</b><br>\n",
        "<b>.</b><br>\n",
        "<b>.</b><br>\n",
        "<b>.</b><br>\n",
        "<b>.</b><br>\n",
        "<b>.</b><br>\n",
        "<b>.</b><br>\n",
        "<b>.</b><br>\n",
        "<b>.</b><br>\n",
        "<b>.</b><br>\n",
        "<b>.</b><br>\n",
        "<b>.</b><br>\n",
        "<b>.</b><br>\n",
        "<b>.</b><br>\n",
        "<b>.</b><br>\n",
        "<b>.</b><br>\n",
        "<b>.</b><br>\n",
        "<b>.</b><br>\n",
        "<b>.</b><br>\n",
        "<b>.</b><br>\n",
        "<b>.</b><br>\n",
        "<b>.</b><br>\n",
        "<b>.</b><br>\n",
        "<b>.</b><br>\n",
        "<b>.</b><br>\n",
        "<b>.</b><br>\n",
        "<b>.</b><br>\n",
        "<b>.</b><br>\n",
        "<b>.</b><br>\n",
        "<b>.</b><br>\n",
        "<b>.</b><br>\n",
        "<b>.</b><br>\n",
        "<b>.</b><br>\n",
        "<b>.</b><br>\n",
        "<b>.</b><br>\n",
        "<b>.</b><br>\n",
        "<b>.</b><br>\n",
        "<b>.</b><br>\n",
        "<b>.</b><br>\n",
        "<b>.</b><br>\n",
        "<b>.</b><br>\n",
        "<b>.</b><br>\n",
        "<b>.</b><br>\n",
        "<b>.</b><br>\n",
        "<b>.</b><br>\n",
        "<b>.</b><br>\n",
        "<b>.</b><br>\n",
        "<b>.</b><br>\n",
        "<b>.</b><br>\n",
        "<b>.</b><br>\n",
        "<b>.</b><br>\n",
        "<b>.</b><br>\n",
        "<b>.</b><br>\n",
        "<b>.</b><br>\n",
        "<b>.</b><br>\n",
        "<b>.</b><br>\n",
        "<b>.</b><br>\n",
        "<b>.</b><br>\n",
        "<b>.</b><br>\n",
        "<b>.</b><br>\n",
        "<b>.</b><br>\n",
        "<b>.</b><br>\n",
        "<b>.</b><br>\n",
        "<b>.</b><br>\n",
        "<b>.</b><br>\n",
        "<b>.</b><br>\n",
        "<b>.</b><br>\n",
        "<b>.</b><br>\n",
        "<b>.</b><br>\n",
        "<b>.</b><br>\n",
        "<b>.</b><br>\n",
        "<b>.</b><br>\n",
        "<b>.</b><br>\n",
        "<b>.</b><br>\n",
        "<b>.</b><br>\n",
        "<b>.</b><br>\n",
        "<b>.</b><br>\n",
        "<b>.</b><br>\n",
        "<b>.</b><br>\n",
        "<b>.</b><br>\n",
        "<b>.</b><br>\n",
        "<b>.</b><br>\n",
        "<b>.</b><br>\n",
        "<b>.</b><br>\n",
        "<b>.</b><br>\n",
        "<b>.</b><br>\n",
        "<b>.</b><br>\n",
        "<b>.</b><br>\n",
        "<b>.</b><br>\n",
        "<b>.</b><br>\n",
        "<b>.</b><br>\n",
        "<b>.</b><br>\n",
        "<b>.</b><br>\n",
        "<b>.</b><br>\n",
        "<b>.</b><br>\n",
        "<b>.</b><br>\n",
        "<b>.</b><br>\n",
        "<b>.</b><br>\n",
        "<b>.</b><br>\n",
        "<b>.</b><br>\n",
        "<b>.</b><br>\n",
        "<b>.</b><br>\n",
        "<b>.</b><br>\n",
        "<b>.</b><br>\n",
        "<b>.</b><br>\n",
        "<b>.</b><br>\n",
        "<b>.</b><br>\n",
        "<b>.</b><br>\n",
        "<b>.</b><br>\n",
        "<b>.</b><br>\n",
        "<b>.</b><br>\n",
        "<b>.</b><br>\n",
        "<b>.</b><br>\n",
        "<b>.</b><br>\n",
        "<b>.</b><br>\n",
        "<b>.</b><br>\n",
        "<b>.</b><br>\n",
        "<b>.</b><br>\n",
        "<b>.</b><br>\n",
        "<b>.</b><br>\n",
        "<b>.</b><br>\n",
        "<b>.</b><br>\n",
        "<b>.</b><br>\n",
        "<b>.</b><br>\n",
        "<b>.</b><br>\n",
        "<b>.</b><br>\n",
        "<b>.</b><br>\n",
        "<b>.</b><br>\n",
        "<b>.</b><br>\n",
        "<b>.</b><br>\n",
        "<b>.</b><br>\n",
        "<b>.</b><br>\n",
        "<b>.</b><br>\n",
        "<b>.</b><br>\n",
        "<b>.</b><br>\n",
        "<b>.</b><br>\n",
        "<b>.</b><br>\n",
        "<b>.</b><br>\n",
        "<b>.</b><br>\n",
        "<b>.</b><br>\n",
        "<b>.</b><br>\n",
        "<b>.</b><br>\n",
        "<b>.</b><br>\n",
        "<b>.</b><br>\n",
        "<b>.</b><br>\n",
        "<b>.</b><br>\n",
        "<b>.</b><br>\n",
        "<b>.</b><br>\n",
        "<b>.</b><br>\n",
        "<b>.</b><br>\n",
        "<b>.</b><br>\n",
        "<b>.</b><br>\n",
        "<b>.</b><br>\n",
        "<b>.</b><br>\n",
        "<b>.</b><br>\n",
        "<b>.</b><br>\n",
        "<b>.</b><br>\n",
        "<b>.</b><br>\n",
        "<b>.</b><br>\n",
        "<b>.</b><br>\n",
        "<b>.</b><br>\n",
        "<b>.</b><br>\n",
        "<b>.</b><br>\n",
        "<b>.</b><br>\n",
        "<b>.</b><br>\n",
        "<b>.</b><br>\n",
        "<b>.</b><br>\n",
        "<b>.</b><br>\n",
        "<b>.</b><br>\n",
        "<b>.</b><br>\n",
        "<b>.</b><br>\n",
        "<b>.</b><br>\n",
        "<b>.</b><br>\n",
        "<b>.</b><br>\n",
        "<b>.</b><br>\n",
        "<b>.</b><br>\n",
        "<b>.</b><br>\n",
        "<b>.</b><br>\n",
        "<b>.</b><br>\n",
        "<b>.</b><br>\n",
        "<b>.</b><br>\n",
        "<b>.</b><br>\n",
        "<b>.</b><br>\n",
        "<b>.</b><br>\n",
        "<b>.</b><br>\n",
        "<b>.</b><br>\n",
        "<b>.</b><br>\n",
        "<b>.</b><br>\n",
        "<b>.</b><br>\n",
        "<b>.</b><br>\n",
        "<b>.</b><br>\n",
        "<b>.</b><br>\n",
        "<b>.</b><br>\n",
        "<b>.</b><br>\n",
        "<b>.</b><br>\n",
        "<b>.</b><br>\n",
        "<b>.</b><br>\n",
        "<b>.</b><br>\n",
        "<b>.</b><br>\n",
        "<b>.</b><br>\n",
        "<b>.</b><br>\n",
        "<b>.</b><br>\n",
        "<b>.</b><br>\n",
        "<b>.</b><br>\n",
        "<b>.</b><br>\n",
        "<b>.</b><br>\n",
        "<b>.</b><br>\n",
        "<b>.</b><br>\n",
        "<b>.</b><br>\n",
        "<b>.</b><br>\n",
        "<b>.</b><br>\n",
        "<b>.</b><br>\n",
        "<b>.</b><br>\n",
        "<b>.</b><br>\n",
        "<b>.</b><br>\n",
        "<b>.</b><br>\n",
        "<b>.</b><br>\n",
        "<b>.</b><br>\n",
        "<b>.</b><br>\n",
        "<b>.</b><br>\n",
        "<b>.</b><br>\n",
        "<b>.</b><br>\n",
        "<b>.</b><br>\n",
        "<b>.</b><br>\n",
        "<b>.</b><br>\n",
        "<b>.</b><br>\n",
        "<b>.</b><br>\n",
        "<b>.</b><br>\n",
        "<b>.</b><br>\n",
        "<b>.</b><br>\n",
        "<b>.</b><br>\n",
        "<b>.</b><br>\n",
        "<b>.</b><br>\n",
        "<b>.</b><br>\n",
        "<b>.</b><br>\n",
        "<b>.</b><br>\n",
        "<b>.</b><br>\n",
        "<b>.</b><br>\n",
        "<b>.</b><br>\n",
        "<b>.</b><br>\n",
        "<b>.</b><br>\n",
        "<b>.</b><br>\n",
        "<b>.</b><br>\n",
        "<b>.</b><br>\n",
        "<b>.</b><br>\n",
        "<b>.</b><br>\n",
        "<b>.</b><br>\n",
        "<b>.</b><br>\n",
        "<b>.</b><br>\n",
        "<b>.</b><br>\n",
        "<b>.</b><br>\n",
        "<b>.</b><br>\n",
        "<b>.</b><br>\n",
        "<b>.</b><br>\n",
        "<b>.</b><br>\n",
        "<b>.</b><br>\n",
        "<b>.</b><br>\n",
        "<b>.</b><br>\n",
        "<b>.</b><br>\n",
        "<b>.</b><br>\n",
        "<b>.</b><br>\n",
        "<b>.</b><br>\n",
        "<b>.</b><br>\n",
        "<b>.</b><br>\n",
        "<b>.</b><br>\n",
        "<b>.</b><br>\n",
        "<b>.</b><br>\n",
        "<b>.</b><br>\n",
        "<b>.</b><br>\n",
        "<b>.</b><br>\n",
        "<b>.</b><br>\n",
        "<b>.</b><br>\n",
        "<b>.</b><br>\n",
        "<b>.</b><br>\n",
        "<b>.</b><br>\n",
        "<b>.</b><br>\n",
        "<b>.</b><br>\n",
        "<b>.</b><br>\n",
        "<b>.</b><br>\n",
        "<b>.</b><br>\n",
        "<b>.</b><br>\n",
        "<b>.</b><br>\n",
        "<b>.</b><br>\n",
        "<b>.</b><br>\n",
        "<b>.</b><br>\n",
        "<b>.</b><br>\n",
        "<b>.</b><br>\n",
        "<b>.</b><br>\n",
        "<b>.</b><br>\n",
        "<b>.</b><br>\n",
        "<b>.</b><br>\n",
        "<b>.</b><br>\n",
        "<b>.</b><br>\n",
        "<b>.</b><br>\n",
        "<b>.</b><br>\n",
        "<b>.</b><br>\n",
        "<b>.</b><br>\n",
        "<b>.</b><br>\n",
        "<b>.</b><br>\n",
        "<b>.</b><br>\n",
        "<b>.</b><br>\n",
        "<b>.</b><br>\n",
        "<b>.</b><br>\n",
        "<b>.</b><br>\n",
        "<b>.</b><br>\n",
        "<b>.</b><br>\n",
        "<b>.</b><br>\n",
        "<b>.</b><br>\n",
        "<b>.</b><br>\n",
        "<b>.</b><br>\n",
        "<b>.</b><br>\n",
        "<b>.</b><br>\n",
        "<b>.</b><br>\n",
        "<b>.</b><br>\n",
        "<b>.</b><br>\n",
        "<b>.</b><br>\n",
        "<b>.</b><br>\n",
        "<b>.</b><br>\n",
        "<b>.</b><br>\n",
        "<b>.</b><br>\n",
        "<b>.</b><br>\n",
        "<b>.</b><br>\n",
        "<b>.</b><br>\n",
        "<b>.</b><br>\n",
        "<b>.</b><br>\n",
        "<b>.</b><br>\n",
        "<b>.</b><br>\n",
        "<b>.</b><br>\n",
        "<b>.</b><br>\n",
        "<b>.</b><br>\n",
        "<b>.</b><br>\n",
        "<b>.</b><br>\n",
        "<b>.</b><br>\n",
        "<b>.</b><br>\n",
        "<b>.</b><br>\n",
        "<b>.</b><br>\n",
        "<b>.</b><br>\n",
        "<b>.</b><br>\n",
        "<b>.</b><br>\n",
        "<b>.</b><br>\n",
        "<b>.</b><br>\n",
        "<b>.</b><br>\n",
        "<b>.</b><br>\n",
        "<b>.</b><br>\n",
        "<b>.</b><br>\n",
        "<b>.</b><br>\n",
        "<b>.</b><br>\n",
        "<b>.</b><br>\n",
        "<b>.</b><br>\n",
        "<b>.</b><br>\n",
        "<b>.</b><br>\n",
        "<b>.</b><br>\n",
        "<b>.</b><br>\n",
        "<b>.</b><br>\n",
        "<b>.</b><br>\n",
        "<b>.</b><br>\n",
        "<b>.</b><br>\n",
        "<b>.</b><br>\n",
        "<b>.</b><br>\n",
        "<b>.</b><br>\n",
        "<b>.</b><br>\n",
        "<b>.</b><br>\n",
        "<b>.</b><br>\n",
        "<b>.</b><br>\n",
        "<b>.</b><br>\n",
        "<b>.</b><br>\n",
        "<b>.</b><br>\n",
        "<b>.</b><br>\n",
        "<b>.</b><br>\n",
        "<b>.</b><br>\n",
        "<b>.</b><br>\n",
        "<b>.</b><br>\n",
        "<b>.</b><br>\n",
        "<b>.</b><br>\n",
        "<b>.</b><br>\n",
        "<b>.</b><br>\n",
        "<b>.</b><br>\n",
        "<b>.</b><br>\n",
        "<b>.</b><br>\n",
        "<b>.</b><br>\n",
        "<b>.</b><br>\n",
        "<b>.</b><br>\n",
        "<b>.</b><br>\n",
        "<b>.</b><br>\n",
        "<b>.</b><br>\n",
        "<b>.</b><br>\n",
        "<b>.</b><br>\n",
        "<b>.</b><br>\n",
        "<b>.</b><br>\n",
        "<b>.</b><br>\n",
        "<b>.</b><br>\n",
        "<b>.</b><br>\n",
        "<b>.</b><br>\n",
        "<b>.</b><br>\n",
        "<b>.</b><br>\n",
        "<b>.</b><br>\n",
        "<b>.</b><br>\n",
        "<b>.</b><br>\n",
        "<b>.</b><br>\n",
        "<b>.</b><br>\n",
        "<b>.</b><br>\n",
        "<b>.</b><br>\n",
        "<b>.</b><br>\n",
        "<b>.</b><br>\n",
        "<b>.</b><br>\n",
        "<b>.</b><br>\n",
        "<b>.</b><br>\n",
        "<b>.</b><br>\n",
        "<b>.</b><br>\n",
        "<b>.</b><br>\n",
        "<b>.</b><br>\n",
        "<b>.</b><br>"
      ],
      "metadata": {
        "id": "Txsidu7Cega9"
      }
    },
    {
      "cell_type": "markdown",
      "source": [
        "Length of the longest substring without repeating characters\n",
        "Last Updated : 15 Apr, 2024\n",
        "Given a string str, find the length of the longest substring without repeating characters.\n",
        "\n",
        "Example:\n",
        "\n",
        "Example 1:\n",
        "Input: “ABCDEFGABEF”\n",
        "Output: 7\n",
        "Explanation: The longest substring without repeating characters are “ABCDEFG”, “BCDEFGA”, and “CDEFGAB” with lengths of 7\n",
        "\n",
        "Example 2:\n",
        "Input: “GEEKSFORGEEKS”\n",
        "Output: 7\n",
        "Explanation: The longest substrings without repeating characters are “EKSFORG” and “KSFORGE”, with lengths of 7"
      ],
      "metadata": {
        "id": "nbkA5aUPy5s8"
      }
    },
    {
      "cell_type": "code",
      "source": [
        "def lonlen(string):\n",
        "  val = []\n",
        "  for i in string:\n",
        "    if i not in val:\n",
        "      val.append(i)\n",
        "  return len(val)\n",
        "\n",
        "lonlen('GEEKSFORGEEKS')"
      ],
      "metadata": {
        "colab": {
          "base_uri": "https://localhost:8080/"
        },
        "id": "I4X27kHpubjc",
        "outputId": "180727fe-37c8-4476-e1a4-d9f85c612f57"
      },
      "execution_count": null,
      "outputs": [
        {
          "output_type": "execute_result",
          "data": {
            "text/plain": [
              "7"
            ]
          },
          "metadata": {},
          "execution_count": 34
        }
      ]
    },
    {
      "cell_type": "markdown",
      "source": [
        "## Maximum consecutive repeating character in string\n",
        "\n",
        "Given a string, the task is to find the maximum consecutive repeating character in a string.\n",
        "Note: We do not need to consider the overall count, but the count of repeating that appears in one place.\n",
        "Examples:\n",
        "\n",
        "```\n",
        "Input : str = \"geeekk\"\n",
        "Output : e\n",
        "Input : str = \"aaaabbcbbb\"\n",
        "Output : a\n",
        "```\n",
        "\n",
        "The simple solution to this problem is to use two for loops. The outer loop considers the current character, the inner loop counts occurrences of the current character. If the count goes beyond the current maximum count, we update the result."
      ],
      "metadata": {
        "id": "q8DwU3L84zMR"
      }
    },
    {
      "cell_type": "code",
      "source": [
        "string = \"aaaabbcbbb\"\n",
        "dic = {}\n",
        "count = 1\n",
        "for str in string:\n",
        "  if str not in dic:\n",
        "    count = 1\n",
        "    dic[str] =  count\n",
        "\n",
        "  if str in dic:\n",
        "    dic[str] = count\n",
        "    count += 1\n",
        "\n",
        "\n",
        "print(dic)"
      ],
      "metadata": {
        "colab": {
          "base_uri": "https://localhost:8080/"
        },
        "id": "QBvdWYUzufRj",
        "outputId": "fc5cdba2-bc9e-448a-d425-129e67b3e02c"
      },
      "execution_count": null,
      "outputs": [
        {
          "output_type": "stream",
          "name": "stdout",
          "text": [
            "{'a': 4, 'b': 4, 'c': 1}\n"
          ]
        }
      ]
    },
    {
      "cell_type": "code",
      "source": [
        "def max_consecutive_repeating_char(s):\n",
        "    if not s:\n",
        "        return \"\"\n",
        "\n",
        "    # Initialize variables\n",
        "    max_char = s[0]\n",
        "    max_count = 1\n",
        "    current_char = s[0]\n",
        "    current_count = 1\n",
        "\n",
        "    # Iterate through the string starting from the second character\n",
        "    for i in range(1, len(s)):\n",
        "        if s[i] == current_char:\n",
        "            current_count += 1\n",
        "        else:\n",
        "            if current_count > max_count:\n",
        "                max_count = current_count\n",
        "                max_char = current_char\n",
        "            current_char = s[i]\n",
        "            current_count = 1\n",
        "\n",
        "    # Final check for the last sequence\n",
        "    if current_count > max_count:\n",
        "        max_char = current_char\n",
        "\n",
        "    return max_char\n",
        "\n",
        "# Test cases\n",
        "print(max_consecutive_repeating_char(\"geeekk\"))\n",
        "print(max_consecutive_repeating_char(\"aaaabbcbbb\"))\n"
      ],
      "metadata": {
        "id": "R6dAUMD08AZB",
        "colab": {
          "base_uri": "https://localhost:8080/"
        },
        "outputId": "80ed0e6d-8396-4d45-8398-04feeb99241b"
      },
      "execution_count": 2,
      "outputs": [
        {
          "output_type": "stream",
          "name": "stdout",
          "text": [
            "e\n",
            "a\n"
          ]
        }
      ]
    },
    {
      "cell_type": "markdown",
      "source": [
        "## Merge Two array (list) in shorted order\n"
      ],
      "metadata": {
        "id": "GCWRcuP1Zl1p"
      }
    },
    {
      "cell_type": "code",
      "source": [
        "def murgeArray(arr1, arr2):\n",
        "  arr = arr1 + arr2\n",
        "  for i in range(0, len(arr)):\n",
        "    for j in range(i+1, len(arr)):\n",
        "      if arr[i] > arr[j]:\n",
        "        arr[i], arr[j] = arr[j], arr[i]\n",
        "\n",
        "  return arr\n",
        "\n",
        "array = murgeArray(arr1=[2, 5, 7, 3],arr2=[1, 6, 4, 8])\n",
        "print(array)"
      ],
      "metadata": {
        "colab": {
          "base_uri": "https://localhost:8080/"
        },
        "id": "yXf82xuIZfnP",
        "outputId": "cb449647-3ee4-403a-90da-182682ad6955"
      },
      "execution_count": 9,
      "outputs": [
        {
          "output_type": "stream",
          "name": "stdout",
          "text": [
            "[1, 2, 3, 4, 5, 6, 7, 8]\n"
          ]
        }
      ]
    },
    {
      "cell_type": "code",
      "source": [],
      "metadata": {
        "id": "nnlKw4Ojay0z"
      },
      "execution_count": null,
      "outputs": []
    }
  ]
}